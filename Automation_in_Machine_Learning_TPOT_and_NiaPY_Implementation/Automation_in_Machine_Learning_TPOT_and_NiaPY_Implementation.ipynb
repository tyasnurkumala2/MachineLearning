{
  "cells": [
    {
      "cell_type": "markdown",
      "metadata": {
        "id": "gfoniB-YE52v"
      },
      "source": [
        "\n",
        "Machine Learning Automation\n",
        "\n",
        "dataset : cars https://www.openml.org/search?type=data&status=active&id=455\n",
        "\n",
        "TPOT http://epistasislab.github.io/tpot/,\n",
        "\n",
        "Niapy https://niapy.org/en/stable/"
      ]
    },
    {
      "cell_type": "code",
      "execution_count": null,
      "metadata": {
        "colab": {
          "base_uri": "https://localhost:8080/"
        },
        "id": "DLiYkkTQE5Wz",
        "outputId": "cdde55a2-2306-4abe-b5af-4ad2678d70c3"
      },
      "outputs": [
        {
          "name": "stdout",
          "output_type": "stream",
          "text": [
            "Defaulting to user installation because normal site-packages is not writeable\n",
            "Requirement already satisfied: tpot in c:\\users\\omen\\appdata\\local\\packages\\pythonsoftwarefoundation.python.3.12_qbz5n2kfra8p0\\localcache\\local-packages\\python312\\site-packages (0.12.2)\n",
            "Requirement already satisfied: numpy>=1.16.3 in c:\\users\\omen\\appdata\\local\\packages\\pythonsoftwarefoundation.python.3.12_qbz5n2kfra8p0\\localcache\\local-packages\\python312\\site-packages (from tpot) (1.26.4)\n",
            "Requirement already satisfied: scipy>=1.3.1 in c:\\users\\omen\\appdata\\local\\packages\\pythonsoftwarefoundation.python.3.12_qbz5n2kfra8p0\\localcache\\local-packages\\python312\\site-packages (from tpot) (1.13.1)\n",
            "Requirement already satisfied: scikit-learn>=1.4.1 in c:\\users\\omen\\appdata\\local\\packages\\pythonsoftwarefoundation.python.3.12_qbz5n2kfra8p0\\localcache\\local-packages\\python312\\site-packages (from tpot) (1.5.0)\n",
            "Requirement already satisfied: deap>=1.2 in c:\\users\\omen\\appdata\\local\\packages\\pythonsoftwarefoundation.python.3.12_qbz5n2kfra8p0\\localcache\\local-packages\\python312\\site-packages (from tpot) (1.4.1)\n",
            "Requirement already satisfied: update-checker>=0.16 in c:\\users\\omen\\appdata\\local\\packages\\pythonsoftwarefoundation.python.3.12_qbz5n2kfra8p0\\localcache\\local-packages\\python312\\site-packages (from tpot) (0.18.0)\n",
            "Requirement already satisfied: tqdm>=4.36.1 in c:\\users\\omen\\appdata\\local\\packages\\pythonsoftwarefoundation.python.3.12_qbz5n2kfra8p0\\localcache\\local-packages\\python312\\site-packages (from tpot) (4.67.1)\n",
            "Requirement already satisfied: stopit>=1.1.1 in c:\\users\\omen\\appdata\\local\\packages\\pythonsoftwarefoundation.python.3.12_qbz5n2kfra8p0\\localcache\\local-packages\\python312\\site-packages (from tpot) (1.1.2)\n",
            "Requirement already satisfied: pandas>=0.24.2 in c:\\users\\omen\\appdata\\local\\packages\\pythonsoftwarefoundation.python.3.12_qbz5n2kfra8p0\\localcache\\local-packages\\python312\\site-packages (from tpot) (2.2.2)\n",
            "Requirement already satisfied: joblib>=0.13.2 in c:\\users\\omen\\appdata\\local\\packages\\pythonsoftwarefoundation.python.3.12_qbz5n2kfra8p0\\localcache\\local-packages\\python312\\site-packages (from tpot) (1.4.2)\n",
            "Requirement already satisfied: xgboost>=1.1.0 in c:\\users\\omen\\appdata\\local\\packages\\pythonsoftwarefoundation.python.3.12_qbz5n2kfra8p0\\localcache\\local-packages\\python312\\site-packages (from tpot) (2.1.3)\n",
            "Requirement already satisfied: python-dateutil>=2.8.2 in c:\\users\\omen\\appdata\\local\\packages\\pythonsoftwarefoundation.python.3.12_qbz5n2kfra8p0\\localcache\\local-packages\\python312\\site-packages (from pandas>=0.24.2->tpot) (2.9.0.post0)\n",
            "Requirement already satisfied: pytz>=2020.1 in c:\\users\\omen\\appdata\\local\\packages\\pythonsoftwarefoundation.python.3.12_qbz5n2kfra8p0\\localcache\\local-packages\\python312\\site-packages (from pandas>=0.24.2->tpot) (2024.1)\n",
            "Requirement already satisfied: tzdata>=2022.7 in c:\\users\\omen\\appdata\\local\\packages\\pythonsoftwarefoundation.python.3.12_qbz5n2kfra8p0\\localcache\\local-packages\\python312\\site-packages (from pandas>=0.24.2->tpot) (2024.1)\n",
            "Requirement already satisfied: threadpoolctl>=3.1.0 in c:\\users\\omen\\appdata\\local\\packages\\pythonsoftwarefoundation.python.3.12_qbz5n2kfra8p0\\localcache\\local-packages\\python312\\site-packages (from scikit-learn>=1.4.1->tpot) (3.5.0)\n",
            "Requirement already satisfied: colorama in c:\\users\\omen\\appdata\\local\\packages\\pythonsoftwarefoundation.python.3.12_qbz5n2kfra8p0\\localcache\\local-packages\\python312\\site-packages (from tqdm>=4.36.1->tpot) (0.4.6)\n",
            "Requirement already satisfied: requests>=2.3.0 in c:\\users\\omen\\appdata\\local\\packages\\pythonsoftwarefoundation.python.3.12_qbz5n2kfra8p0\\localcache\\local-packages\\python312\\site-packages (from update-checker>=0.16->tpot) (2.32.3)\n",
            "Requirement already satisfied: six>=1.5 in c:\\users\\omen\\appdata\\local\\packages\\pythonsoftwarefoundation.python.3.12_qbz5n2kfra8p0\\localcache\\local-packages\\python312\\site-packages (from python-dateutil>=2.8.2->pandas>=0.24.2->tpot) (1.16.0)\n",
            "Requirement already satisfied: charset-normalizer<4,>=2 in c:\\users\\omen\\appdata\\local\\packages\\pythonsoftwarefoundation.python.3.12_qbz5n2kfra8p0\\localcache\\local-packages\\python312\\site-packages (from requests>=2.3.0->update-checker>=0.16->tpot) (3.3.2)\n",
            "Requirement already satisfied: idna<4,>=2.5 in c:\\users\\omen\\appdata\\local\\packages\\pythonsoftwarefoundation.python.3.12_qbz5n2kfra8p0\\localcache\\local-packages\\python312\\site-packages (from requests>=2.3.0->update-checker>=0.16->tpot) (3.7)\n",
            "Requirement already satisfied: urllib3<3,>=1.21.1 in c:\\users\\omen\\appdata\\local\\packages\\pythonsoftwarefoundation.python.3.12_qbz5n2kfra8p0\\localcache\\local-packages\\python312\\site-packages (from requests>=2.3.0->update-checker>=0.16->tpot) (2.2.1)\n",
            "Requirement already satisfied: certifi>=2017.4.17 in c:\\users\\omen\\appdata\\local\\packages\\pythonsoftwarefoundation.python.3.12_qbz5n2kfra8p0\\localcache\\local-packages\\python312\\site-packages (from requests>=2.3.0->update-checker>=0.16->tpot) (2024.6.2)\n",
            "Note: you may need to restart the kernel to use updated packages.\n"
          ]
        }
      ],
      "source": [
        "#installing tpot\n",
        "%pip install tpot"
      ]
    },
    {
      "cell_type": "code",
      "execution_count": null,
      "metadata": {
        "colab": {
          "base_uri": "https://localhost:8080/"
        },
        "id": "9gWvz0qQ5CFT",
        "outputId": "63390f27-f7aa-4b8d-dd53-749881e7eb3a"
      },
      "outputs": [
        {
          "name": "stdout",
          "output_type": "stream",
          "text": [
            "Defaulting to user installation because normal site-packages is not writeable\n",
            "Collecting niapy\n",
            "  Downloading niapy-2.5.1-py3-none-any.whl.metadata (23 kB)\n",
            "Requirement already satisfied: matplotlib<4.0.0,>=3.8.0 in c:\\users\\omen\\appdata\\local\\packages\\pythonsoftwarefoundation.python.3.12_qbz5n2kfra8p0\\localcache\\local-packages\\python312\\site-packages (from niapy) (3.9.0)\n",
            "Requirement already satisfied: numpy<2.0.0,>=1.26.1 in c:\\users\\omen\\appdata\\local\\packages\\pythonsoftwarefoundation.python.3.12_qbz5n2kfra8p0\\localcache\\local-packages\\python312\\site-packages (from niapy) (1.26.4)\n",
            "Collecting openpyxl<4.0.0,>=3.1.2 (from niapy)\n",
            "  Downloading openpyxl-3.1.5-py2.py3-none-any.whl.metadata (2.5 kB)\n",
            "Requirement already satisfied: pandas<3.0.0,>=2.1.1 in c:\\users\\omen\\appdata\\local\\packages\\pythonsoftwarefoundation.python.3.12_qbz5n2kfra8p0\\localcache\\local-packages\\python312\\site-packages (from niapy) (2.2.2)\n",
            "Requirement already satisfied: contourpy>=1.0.1 in c:\\users\\omen\\appdata\\local\\packages\\pythonsoftwarefoundation.python.3.12_qbz5n2kfra8p0\\localcache\\local-packages\\python312\\site-packages (from matplotlib<4.0.0,>=3.8.0->niapy) (1.2.1)\n",
            "Requirement already satisfied: cycler>=0.10 in c:\\users\\omen\\appdata\\local\\packages\\pythonsoftwarefoundation.python.3.12_qbz5n2kfra8p0\\localcache\\local-packages\\python312\\site-packages (from matplotlib<4.0.0,>=3.8.0->niapy) (0.12.1)\n",
            "Requirement already satisfied: fonttools>=4.22.0 in c:\\users\\omen\\appdata\\local\\packages\\pythonsoftwarefoundation.python.3.12_qbz5n2kfra8p0\\localcache\\local-packages\\python312\\site-packages (from matplotlib<4.0.0,>=3.8.0->niapy) (4.53.0)\n",
            "Requirement already satisfied: kiwisolver>=1.3.1 in c:\\users\\omen\\appdata\\local\\packages\\pythonsoftwarefoundation.python.3.12_qbz5n2kfra8p0\\localcache\\local-packages\\python312\\site-packages (from matplotlib<4.0.0,>=3.8.0->niapy) (1.4.5)\n",
            "Requirement already satisfied: packaging>=20.0 in c:\\users\\omen\\appdata\\local\\packages\\pythonsoftwarefoundation.python.3.12_qbz5n2kfra8p0\\localcache\\local-packages\\python312\\site-packages (from matplotlib<4.0.0,>=3.8.0->niapy) (24.1)\n",
            "Requirement already satisfied: pillow>=8 in c:\\users\\omen\\appdata\\local\\packages\\pythonsoftwarefoundation.python.3.12_qbz5n2kfra8p0\\localcache\\local-packages\\python312\\site-packages (from matplotlib<4.0.0,>=3.8.0->niapy) (10.3.0)\n",
            "Requirement already satisfied: pyparsing>=2.3.1 in c:\\users\\omen\\appdata\\local\\packages\\pythonsoftwarefoundation.python.3.12_qbz5n2kfra8p0\\localcache\\local-packages\\python312\\site-packages (from matplotlib<4.0.0,>=3.8.0->niapy) (3.1.2)\n",
            "Requirement already satisfied: python-dateutil>=2.7 in c:\\users\\omen\\appdata\\local\\packages\\pythonsoftwarefoundation.python.3.12_qbz5n2kfra8p0\\localcache\\local-packages\\python312\\site-packages (from matplotlib<4.0.0,>=3.8.0->niapy) (2.9.0.post0)\n",
            "Collecting et-xmlfile (from openpyxl<4.0.0,>=3.1.2->niapy)\n",
            "  Downloading et_xmlfile-2.0.0-py3-none-any.whl.metadata (2.7 kB)\n",
            "Requirement already satisfied: pytz>=2020.1 in c:\\users\\omen\\appdata\\local\\packages\\pythonsoftwarefoundation.python.3.12_qbz5n2kfra8p0\\localcache\\local-packages\\python312\\site-packages (from pandas<3.0.0,>=2.1.1->niapy) (2024.1)\n",
            "Requirement already satisfied: tzdata>=2022.7 in c:\\users\\omen\\appdata\\local\\packages\\pythonsoftwarefoundation.python.3.12_qbz5n2kfra8p0\\localcache\\local-packages\\python312\\site-packages (from pandas<3.0.0,>=2.1.1->niapy) (2024.1)\n",
            "Requirement already satisfied: six>=1.5 in c:\\users\\omen\\appdata\\local\\packages\\pythonsoftwarefoundation.python.3.12_qbz5n2kfra8p0\\localcache\\local-packages\\python312\\site-packages (from python-dateutil>=2.7->matplotlib<4.0.0,>=3.8.0->niapy) (1.16.0)\n",
            "Downloading niapy-2.5.1-py3-none-any.whl (187 kB)\n",
            "Downloading openpyxl-3.1.5-py2.py3-none-any.whl (250 kB)\n",
            "Downloading et_xmlfile-2.0.0-py3-none-any.whl (18 kB)\n",
            "Installing collected packages: et-xmlfile, openpyxl, niapy\n",
            "Successfully installed et-xmlfile-2.0.0 niapy-2.5.1 openpyxl-3.1.5\n",
            "Note: you may need to restart the kernel to use updated packages.\n"
          ]
        }
      ],
      "source": [
        "#installing NiaPY\n",
        "%pip install niapy"
      ]
    },
    {
      "cell_type": "markdown",
      "metadata": {
        "id": "d5scxEnitJRp"
      },
      "source": [
        "Perintah tersebut digunakan untuk menginstal dua paket Python, yaitu tpot dan niapy, yang merupakan perpustakaan untuk otomatisasi machine learning (TPOT) dan optimasi algoritma metaheuristik (Niapy). Ini memungkinkan pengguna untuk mengotomatiskan proses pembelajaran mesin dan menggunakan algoritma optimasi evolusioner dalam pemrograman Python."
      ]
    },
    {
      "cell_type": "code",
      "execution_count": null,
      "metadata": {
        "colab": {
          "base_uri": "https://localhost:8080/"
        },
        "id": "ZftgX-EE3Iz4",
        "outputId": "16080bbf-b7cc-4ea9-ba6b-db5498711c8b"
      },
      "outputs": [
        {
          "name": "stdout",
          "output_type": "stream",
          "text": [
            "Defaulting to user installation because normal site-packages is not writeable\n",
            "Requirement already satisfied: pandas in c:\\users\\omen\\appdata\\local\\packages\\pythonsoftwarefoundation.python.3.12_qbz5n2kfra8p0\\localcache\\local-packages\\python312\\site-packages (2.2.2)\n",
            "Requirement already satisfied: scipy in c:\\users\\omen\\appdata\\local\\packages\\pythonsoftwarefoundation.python.3.12_qbz5n2kfra8p0\\localcache\\local-packages\\python312\\site-packages (1.13.1)\n",
            "Requirement already satisfied: matplotlib in c:\\users\\omen\\appdata\\local\\packages\\pythonsoftwarefoundation.python.3.12_qbz5n2kfra8p0\\localcache\\local-packages\\python312\\site-packages (3.9.0)\n",
            "Requirement already satisfied: seaborn in c:\\users\\omen\\appdata\\local\\packages\\pythonsoftwarefoundation.python.3.12_qbz5n2kfra8p0\\localcache\\local-packages\\python312\\site-packages (0.13.2)\n",
            "Requirement already satisfied: scikit-learn in c:\\users\\omen\\appdata\\local\\packages\\pythonsoftwarefoundation.python.3.12_qbz5n2kfra8p0\\localcache\\local-packages\\python312\\site-packages (1.5.0)\n",
            "Requirement already satisfied: niapy in c:\\users\\omen\\appdata\\local\\packages\\pythonsoftwarefoundation.python.3.12_qbz5n2kfra8p0\\localcache\\local-packages\\python312\\site-packages (2.5.1)\n",
            "Requirement already satisfied: numpy>=1.26.0 in c:\\users\\omen\\appdata\\local\\packages\\pythonsoftwarefoundation.python.3.12_qbz5n2kfra8p0\\localcache\\local-packages\\python312\\site-packages (from pandas) (1.26.4)\n",
            "Requirement already satisfied: python-dateutil>=2.8.2 in c:\\users\\omen\\appdata\\local\\packages\\pythonsoftwarefoundation.python.3.12_qbz5n2kfra8p0\\localcache\\local-packages\\python312\\site-packages (from pandas) (2.9.0.post0)\n",
            "Requirement already satisfied: pytz>=2020.1 in c:\\users\\omen\\appdata\\local\\packages\\pythonsoftwarefoundation.python.3.12_qbz5n2kfra8p0\\localcache\\local-packages\\python312\\site-packages (from pandas) (2024.1)\n",
            "Requirement already satisfied: tzdata>=2022.7 in c:\\users\\omen\\appdata\\local\\packages\\pythonsoftwarefoundation.python.3.12_qbz5n2kfra8p0\\localcache\\local-packages\\python312\\site-packages (from pandas) (2024.1)\n",
            "Requirement already satisfied: contourpy>=1.0.1 in c:\\users\\omen\\appdata\\local\\packages\\pythonsoftwarefoundation.python.3.12_qbz5n2kfra8p0\\localcache\\local-packages\\python312\\site-packages (from matplotlib) (1.2.1)\n",
            "Requirement already satisfied: cycler>=0.10 in c:\\users\\omen\\appdata\\local\\packages\\pythonsoftwarefoundation.python.3.12_qbz5n2kfra8p0\\localcache\\local-packages\\python312\\site-packages (from matplotlib) (0.12.1)\n",
            "Requirement already satisfied: fonttools>=4.22.0 in c:\\users\\omen\\appdata\\local\\packages\\pythonsoftwarefoundation.python.3.12_qbz5n2kfra8p0\\localcache\\local-packages\\python312\\site-packages (from matplotlib) (4.53.0)\n",
            "Requirement already satisfied: kiwisolver>=1.3.1 in c:\\users\\omen\\appdata\\local\\packages\\pythonsoftwarefoundation.python.3.12_qbz5n2kfra8p0\\localcache\\local-packages\\python312\\site-packages (from matplotlib) (1.4.5)\n",
            "Requirement already satisfied: packaging>=20.0 in c:\\users\\omen\\appdata\\local\\packages\\pythonsoftwarefoundation.python.3.12_qbz5n2kfra8p0\\localcache\\local-packages\\python312\\site-packages (from matplotlib) (24.1)\n",
            "Requirement already satisfied: pillow>=8 in c:\\users\\omen\\appdata\\local\\packages\\pythonsoftwarefoundation.python.3.12_qbz5n2kfra8p0\\localcache\\local-packages\\python312\\site-packages (from matplotlib) (10.3.0)\n",
            "Requirement already satisfied: pyparsing>=2.3.1 in c:\\users\\omen\\appdata\\local\\packages\\pythonsoftwarefoundation.python.3.12_qbz5n2kfra8p0\\localcache\\local-packages\\python312\\site-packages (from matplotlib) (3.1.2)\n",
            "Requirement already satisfied: joblib>=1.2.0 in c:\\users\\omen\\appdata\\local\\packages\\pythonsoftwarefoundation.python.3.12_qbz5n2kfra8p0\\localcache\\local-packages\\python312\\site-packages (from scikit-learn) (1.4.2)\n",
            "Requirement already satisfied: threadpoolctl>=3.1.0 in c:\\users\\omen\\appdata\\local\\packages\\pythonsoftwarefoundation.python.3.12_qbz5n2kfra8p0\\localcache\\local-packages\\python312\\site-packages (from scikit-learn) (3.5.0)\n",
            "Requirement already satisfied: openpyxl<4.0.0,>=3.1.2 in c:\\users\\omen\\appdata\\local\\packages\\pythonsoftwarefoundation.python.3.12_qbz5n2kfra8p0\\localcache\\local-packages\\python312\\site-packages (from niapy) (3.1.5)\n",
            "Requirement already satisfied: et-xmlfile in c:\\users\\omen\\appdata\\local\\packages\\pythonsoftwarefoundation.python.3.12_qbz5n2kfra8p0\\localcache\\local-packages\\python312\\site-packages (from openpyxl<4.0.0,>=3.1.2->niapy) (2.0.0)\n",
            "Requirement already satisfied: six>=1.5 in c:\\users\\omen\\appdata\\local\\packages\\pythonsoftwarefoundation.python.3.12_qbz5n2kfra8p0\\localcache\\local-packages\\python312\\site-packages (from python-dateutil>=2.8.2->pandas) (1.16.0)\n",
            "Note: you may need to restart the kernel to use updated packages.\n"
          ]
        }
      ],
      "source": [
        "%pip install pandas scipy matplotlib seaborn scikit-learn niapy"
      ]
    },
    {
      "cell_type": "code",
      "execution_count": null,
      "metadata": {
        "id": "4xgn5bLU4w2H"
      },
      "outputs": [],
      "source": [
        "#import module\n",
        "import pandas as pd\n",
        "from scipy.io import arff\n",
        "import matplotlib.pyplot as plt\n",
        "import seaborn as sns\n",
        "from sklearn.model_selection import train_test_split\n",
        "from sklearn.preprocessing import StandardScaler\n",
        "from sklearn.metrics import accuracy_score\n",
        "from sklearn.ensemble import RandomForestClassifier\n",
        "from niapy.task import Task\n",
        "from niapy.problems import Problem\n",
        "from niapy.algorithms.basic import DifferentialEvolution"
      ]
    },
    {
      "cell_type": "markdown",
      "metadata": {
        "id": "3OfIfV4Ktm2l"
      },
      "source": [
        "1. import pandas as pd: Mengimpor modul pandas dengan alias pd, yang digunakan untuk analisis dan manipulasi data.\n",
        "2. from scipy.io import arff: Mengimpor fungsi arff dari modul scipy.io, yang digunakan untuk membaca file dalam format ARFF (Attribute-Relation File Format).\n",
        "3. import matplotlib.pyplot as plt: Mengimpor modul matplotlib.pyplot dengan alias plt, yang digunakan untuk membuat visualisasi data.\n",
        "4. import seaborn as sns: Mengimpor modul seaborn dengan alias sns, yang digunakan untuk membuat visualisasi data yang lebih menarik dan informatif.\n",
        "5. from sklearn.model_selection import train_test_split: Mengimpor fungsi train_test_split dari modul sklearn.model_selection, yang digunakan untuk membagi dataset menjadi subset pelatihan dan pengujian.\n",
        "6. from sklearn.preprocessing import StandardScaler: Mengimpor kelas StandardScaler dari modul sklearn.preprocessing, yang digunakan untuk menormalkan fitur-fitur dataset.\n",
        "7. from sklearn.metrics import accuracy_score: Mengimpor fungsi accuracy_score dari modul sklearn.metrics, yang digunakan untuk mengukur kinerja model klasifikasi.\n",
        "8. from sklearn.ensemble import RandomForestClassifier: Mengimpor kelas RandomForestClassifier dari modul sklearn.ensemble, yang digunakan untuk membangun model klasifikasi menggunakan algoritma Random Forest.\n",
        "9. from niapy.task import Task: Mengimpor kelas Task dari modul niapy.task, yang digunakan untuk menentukan masalah optimasi untuk algoritma optimasi.\n",
        "10. from niapy.problems import Problem: Mengimpor kelas Problem dari modul niapy.problems, yang digunakan untuk mendefinisikan masalah optimasi kustom.\n",
        "11. from niapy.algorithms.basic import DifferentialEvolution: Mengimpor kelas DifferentialEvolution dari modul niapy.algorithms.basic, yang merupakan implementasi algoritma Differential Evolution untuk optimasi.\n"
      ]
    },
    {
      "cell_type": "code",
      "execution_count": null,
      "metadata": {
        "colab": {
          "base_uri": "https://localhost:8080/"
        },
        "id": "DIiulG1_4yYm",
        "outputId": "7dc27868-9a0a-4b0b-b816-6a708adefef5"
      },
      "outputs": [
        {
          "name": "stdout",
          "output_type": "stream",
          "text": [
            "                           name   mpg cylinders  displacement  horsepower  \\\n",
            "0  b'chevrolet_chevelle_malibu'  18.0      b'8'         307.0       130.0   \n",
            "1          b'buick_skylark_320'  15.0      b'8'         350.0       165.0   \n",
            "2         b'plymouth_satellite'  18.0      b'8'         318.0       150.0   \n",
            "3              b'amc_rebel_sst'  16.0      b'8'         304.0       150.0   \n",
            "4                b'ford_torino'  17.0      b'8'         302.0       140.0   \n",
            "\n",
            "   weight  acceleration  model.year origin  \n",
            "0  3504.0          12.0        70.0   b'1'  \n",
            "1  3693.0          11.5        70.0   b'1'  \n",
            "2  3436.0          11.0        70.0   b'1'  \n",
            "3  3433.0          12.0        70.0   b'1'  \n",
            "4  3449.0          10.5        70.0   b'1'  \n"
          ]
        }
      ],
      "source": [
        "# Load the ARFF file\n",
        "file_path = 'I:/ML/cars.arff'  # Update with your actual path\n",
        "data, meta = arff.loadarff(file_path)\n",
        "\n",
        "# Convert the data to a DataFrame\n",
        "df = pd.DataFrame(data)\n",
        "\n",
        "# Melihat beberapa baris pertama\n",
        "print(df.head())"
      ]
    },
    {
      "cell_type": "markdown",
      "metadata": {
        "id": "wIn3dHeHt0xz"
      },
      "source": [
        "**Penjelasan Code**\n",
        "\n",
        "1.\tfile_path = '/content/cars.arff': Menetapkan jalur ke file ARFF yang akan dibaca. Dalam hal ini, file tersebut berada di direktori /content dan bernama cars.arff. Jalur ini perlu disesuaikan sesuai lokasi file di Google Colab.\n",
        "\n",
        "2.\tdata, meta = arff.loadarff(file_path): Menggunakan fungsi loadarff dari scipy.io.arff untuk membaca file ARFF. Fungsi ini mengembalikan dua objek: data yang berisi data sebenarnya, dan meta yang berisi metadata tentang atribut data.\n",
        "\n",
        "3.\tdf = pd.DataFrame(data): Mengubah data yang dibaca dari file ARFF menjadi sebuah DataFrame pandas. DataFrame adalah struktur data tabular 2D dengan label baris dan kolom, yang sangat berguna untuk manipulasi dan analisis data.\n",
        "\n",
        "4.\tprint(df.head()): Menampilkan beberapa baris pertama dari DataFrame. Fungsi head() secara default menampilkan lima baris pertama, memungkinkan kita untuk melihat sekilas isi DataFrame dan memastikan data telah dimuat dengan benar.\n",
        "\n",
        "\n",
        "**Penjelasan output**\n",
        "\n",
        "Output menampilkan beberapa baris pertama dari DataFrame yang dibaca dari file ARFF. DataFrame berisi beberapa kolom dengan nama-nama berikut:\n",
        "1.\tname: Nama mobil, seperti 'chevrolet_chevelle_malibu', 'buick_skylark_320', dan lain-lain. Data ini dalam format byte string yang perlu di-decode ke format string biasa.\n",
        "2.\tmpg: Miles per gallon (jumlah mil yang dapat ditempuh per galon bahan bakar), seperti 18.0, 15.0, dan seterusnya.\n",
        "3.\tcylinders: Jumlah silinder dalam mesin mobil, seperti '8' dalam format byte string yang juga perlu di-decode.\n",
        "4.\tdisplacement: Ukuran mesin dalam inci kubik, seperti 307.0, 350.0, dll.\n",
        "5.\thorsepower: Tenaga kuda (horsepower) mesin, seperti 130.0, 165.0, dll.\n",
        "6.\tweight: Berat mobil dalam pound, seperti 3504.0, 3693.0, dll.\n",
        "7.\tacceleration: Waktu yang diperlukan mobil untuk mencapai kecepatan tertentu (biasanya 0 hingga 60 mph) dalam detik, seperti 12.0, 11.5, dll.\n",
        "8.\tmodel.year: Tahun model mobil, seperti 70.0, 71.0, dll.\n",
        "9.\torigin: Kode asal mobil yang dalam format byte string, seperti '1'.\n",
        "\n",
        "Output ini menunjukkan bahwa data yang dimuat ke dalam DataFrame sudah berhasil dan mencakup beberapa informasi penting tentang berbagai mobil. Kolom yang dalam format byte string (name, cylinders, origin) perlu di-decode ke format string biasa agar lebih mudah digunakan dalam analisis data lebih lanjut.\n"
      ]
    },
    {
      "cell_type": "markdown",
      "metadata": {
        "id": "CBSEo88d41Gg"
      },
      "source": [
        "# **Data Exploration**\n",
        "*penjelasan, pembuatan heatmap untuk ngecek correlation*"
      ]
    },
    {
      "cell_type": "code",
      "execution_count": null,
      "metadata": {
        "colab": {
          "base_uri": "https://localhost:8080/"
        },
        "id": "YpK9w9Tx4z6r",
        "outputId": "19dc04b0-0395-42d9-9526-46485451d5c3"
      },
      "outputs": [
        {
          "name": "stdout",
          "output_type": "stream",
          "text": [
            "<class 'pandas.core.frame.DataFrame'>\n",
            "RangeIndex: 406 entries, 0 to 405\n",
            "Data columns (total 9 columns):\n",
            " #   Column        Non-Null Count  Dtype  \n",
            "---  ------        --------------  -----  \n",
            " 0   name          406 non-null    object \n",
            " 1   mpg           398 non-null    float64\n",
            " 2   cylinders     406 non-null    object \n",
            " 3   displacement  406 non-null    float64\n",
            " 4   horsepower    400 non-null    float64\n",
            " 5   weight        406 non-null    float64\n",
            " 6   acceleration  406 non-null    float64\n",
            " 7   model.year    406 non-null    float64\n",
            " 8   origin        406 non-null    object \n",
            "dtypes: float64(6), object(3)\n",
            "memory usage: 28.7+ KB\n",
            "None\n",
            "              mpg  displacement  horsepower       weight  acceleration  \\\n",
            "count  398.000000    406.000000  400.000000   406.000000    406.000000   \n",
            "mean    23.514573    194.779557  105.082500  2979.413793     15.519704   \n",
            "std      7.815984    104.922458   38.768779   847.004328      2.803359   \n",
            "min      9.000000     68.000000   46.000000  1613.000000      8.000000   \n",
            "25%     17.500000    105.000000   75.750000  2226.500000     13.700000   \n",
            "50%     23.000000    151.000000   95.000000  2822.500000     15.500000   \n",
            "75%     29.000000    302.000000  130.000000  3618.250000     17.175000   \n",
            "max     46.600000    455.000000  230.000000  5140.000000     24.800000   \n",
            "\n",
            "       model.year  \n",
            "count  406.000000  \n",
            "mean    75.921182  \n",
            "std      3.748737  \n",
            "min     70.000000  \n",
            "25%     73.000000  \n",
            "50%     76.000000  \n",
            "75%     79.000000  \n",
            "max     82.000000  \n",
            "name            0\n",
            "mpg             8\n",
            "cylinders       0\n",
            "displacement    0\n",
            "horsepower      6\n",
            "weight          0\n",
            "acceleration    0\n",
            "model.year      0\n",
            "origin          0\n",
            "dtype: int64\n"
          ]
        }
      ],
      "source": [
        "# Menampilkan informasi umum tentang data\n",
        "print(df.info())\n",
        "\n",
        "# Menampilkan statistik deskriptif\n",
        "print(df.describe())\n",
        "\n",
        "# Memeriksa missing values\n",
        "print(df.isnull().sum())"
      ]
    },
    {
      "cell_type": "markdown",
      "metadata": {
        "id": "p7kh7ZC9v2jG"
      },
      "source": [
        "**Penjelasan Code**\n",
        "\n",
        "1. Fungsi df.info() memberikan ringkasan informasi tentang DataFrame, termasuk jumlah total baris, jumlah non-null values di setiap kolom, dan tipe data dari masing-masing kolom. Ini berguna untuk memahami struktur dan isi dasar dari dataset.\n",
        "\n",
        "2. Fungsi df.describe() memberikan statistik deskriptif dasar untuk kolom numerik dalam DataFrame, seperti mean (rata-rata), standard deviation (standar deviasi), minimum, maksimum, dan kuartil (25%, 50%, 75%). Ini membantu dalam memahami distribusi dan rentang data numerik.\n",
        "\n",
        "3. Fungsi df.isnull().sum() menghitung jumlah nilai yang hilang (missing values) di setiap kolom. Ini penting untuk mendeteksi masalah dalam dataset yang perlu ditangani sebelum analisis lebih lanjut, seperti imputasi missing values atau penghapusan baris/kolom yang memiliki banyak missing values.\n",
        "\n",
        "**Output**\n",
        "\n",
        "Secara keseluruhan, output ini memberikan informasi tentang tipe data, jumlah nilai yang hilang di setiap kolom, dan ringkasan statistik deskriptif untuk kolom numerik dalam dataset. Informasi ini sangat penting untuk langkah-langkah preprocessing dan analisis data lebih lanjut.\n"
      ]
    },
    {
      "cell_type": "code",
      "execution_count": null,
      "metadata": {
        "colab": {
          "base_uri": "https://localhost:8080/",
          "height": 778
        },
        "id": "UPCnN-0D43ir",
        "outputId": "b7830abd-e604-46a4-cbfa-5f938e66e185"
      },
      "outputs": [
        {
          "data": {
            "image/png": "[encoded data removed]",
            "text/plain": [
              "<Figure size 1000x800 with 2 Axes>"
            ]
          },
          "metadata": {},
          "output_type": "display_data"
        }
      ],
      "source": [
        "# Decode byte strings to string type\n",
        "for column in ['cylinders', 'origin']:\n",
        "    df[column] = df[column].str.decode('utf-8')\n",
        "\n",
        "# Calculate the correlation matrix, excluding non-numeric columns\n",
        "numeric_df = df.drop(columns=['name'])\n",
        "corr_matrix = numeric_df.corr()\n",
        "\n",
        "# Generate the heatmap\n",
        "plt.figure(figsize=(10, 8))\n",
        "sns.heatmap(corr_matrix, annot=True, cmap='coolwarm', fmt='.2f')\n",
        "plt.title('Heatmap of Correlation Matrix')\n",
        "plt.show()"
      ]
    },
    {
      "cell_type": "markdown",
      "metadata": {
        "id": "zicynuyFxtsE"
      },
      "source": [
        "**Penjelasan Code**\n",
        "\n",
        "1.\tplt.figure(figsize=(10, 8)): Membuat gambar baru dengan ukuran 10x8 inci menggunakan plt.figure() dari modul matplotlib.pyplot.\n",
        "2.\tsns.heatmap(correlation_matrix, annot=True, cmap='coolwarm', fmt='.2f'): Membuat heatmap dari matriks korelasi menggunakan fungsi heatmap() dari modul seaborn (alias sns). Argumen yang diberikan adalah:\n",
        "\n",
        "  -\tcorrelation_matrix: Matriks korelasi yang ingin divisualisasikan.\n",
        "  -\tannot=True: Menampilkan nilai-nilai korelasi di setiap sel heatmap.\n",
        "  -cmap='coolwarm': Memilih skema warna untuk heatmap.\n",
        "  -\tfmt='.2f': Format untuk nilai-nilai korelasi (dua angka di belakang koma).\n",
        "\n",
        "3.\tplt.title('Correlation Matrix Sebelum Data Cleaning'): Menambahkan judul pada heatmap yang menunjukkan bahwa ini adalah matriks korelasi sebelum proses pembersihan data.\n",
        "\n",
        "**Penjelasan Heat Map**\n",
        "\n",
        "Gambar di atas adalah sebuah heatmap yang menggambarkan correlation matrix. Mari kita jelaskan lebih detail:\n",
        "\n",
        "-\tCorrelation Matrix: Ini adalah tabel yang menunjukkan koefisien korelasi antara variabel-variabel. Setiap sel dalam heatmap menunjukkan korelasi antara dua variabel. Warna bervariasi dari biru tua (mewakili korelasi -1), melalui putih (mewakili korelasi 0), hingga merah tua (mewakili korelasi 1). Anotasi di setiap sel menampilkan nilai korelasi sebenarnya, diformat hingga dua desimal.\n",
        "\n",
        "-\tVariabel: Matrix ini mencakup variabel seperti mpg, cylinders, displacement, horsepower, weight, acceleration, model_year, origin_1, origin_2, dan origin_3.\n",
        "\n",
        "-\tJudul: Di bagian atas, terdapat judul “Correlation Matrix Sebelum Data Cleaning”, yang menandakan bahwa matrix ini menunjukkan korelasi sebelum dilakukan pembersihan data.\n",
        "\n",
        "-\tWarna dan Nilai: Sel-sel diagonal dari kiri atas ke kanan bawah berwarna merah tua dengan nilai 1.00, menunjukkan korelasi positif sempurna dengan diri mereka sendiri. Heatmap ini simetris terhadap diagonal ini karena tabelnya terbentuk secara cermin; misalnya, sel pada persilangan mpg dan cylinders memiliki warna dan nilai yang sama dengan sel pada persilangan cylinders dan mpg.\n",
        "\n",
        "Gambar ini relevan karena secara visual menggambarkan bagaimana variabel-variabel berhubungan dalam hal hubungan linier satu sama lain. Ini dapat berguna untuk mengidentifikasi pola atau area potensial untuk analisis lebih lanjut sebelum membersihkan data dalam aplikasi statistik atau pembelajaran mesin.\n",
        "\n",
        "\n"
      ]
    },
    {
      "cell_type": "code",
      "execution_count": null,
      "metadata": {
        "colab": {
          "base_uri": "https://localhost:8080/",
          "height": 586
        },
        "id": "bU-0Y4SmDQ1m",
        "outputId": "356dc0b9-408a-4a8a-d753-6423bf1a03ca"
      },
      "outputs": [
        {
          "data": {
            "image/png": "[encoded data removed]",
            "text/plain": [
              "<Figure size 1400x800 with 8 Axes>"
            ]
          },
          "metadata": {},
          "output_type": "display_data"
        }
      ],
      "source": [
        "plt.figure(figsize=(14, 8))\n",
        "num_cols = len(df.columns[1:])\n",
        "for i, column in enumerate(df.columns[1:]):\n",
        "    plt.subplot(3, 5, i + 1)  # Adjusted the subplot grid to accommodate all columns\n",
        "    sns.boxplot(x='origin', y=column, data=df)\n",
        "    plt.title(f'{column} by origin')\n",
        "plt.tight_layout()\n",
        "plt.show()"
      ]
    },
    {
      "cell_type": "markdown",
      "metadata": {
        "id": "lldCAMKpyDCC"
      },
      "source": [
        "**Code**\n",
        "\n",
        "Kode ini bertujuan untuk membuat dan menampilkan boxplot dari berbagai kolom numerik dalam DataFrame (df), yang dikelompokkan berdasarkan kategori origin. Ini memungkinkan visualisasi distribusi data untuk setiap kolom dalam kaitannya dengan origin, sehingga memudahkan identifikasi pola atau perbedaan antara kategori yang berbeda.\n",
        "\n",
        "**Output**\n",
        "\n",
        "Gambar di atas menampilkan serangkaian boxplot yang disusun dalam format grid, dengan setiap plot mewakili variabel yang berbeda dari suatu dataset. Terdapat dua baris dan lima kolom plot, sehingga terdapat sepuluh boxplot secara keseluruhan. Setiap boxplot diberi label variabel yang diwakilinya: ‘mpg by origin’, ‘cylinders by origin’, ‘displacement by origin’, ‘horsepower by origin’, ‘weight by origin’, ‘acceleration by origin’, ‘model year by origin’, dan tiga variabel lainnya yang tidak sepenuhnya terlihat karena pemotongan gambar. Pada sumbu x di setiap plot terdapat label ‘origin’, menunjukkan bahwa data di-segmentasi berdasarkan kategori ini. Sumbu y mewakili rentang nilai untuk setiap variabel.\n",
        "\n",
        "Setiap boxplot menampilkan median, kuartil, dan outliers potensial untuk variabel yang bersangkutan di berbagai asal. Visualisasi ini menarik dan relevan karena memungkinkan perbandingan antara kelompok yang berbeda (dalam hal ini, asal) untuk melihat bagaimana variabel lainnya mendistribusikan dalam kelompok-kelompok ini.\n",
        "\n",
        "1.\tmpg by origin: Boxplot ini menunjukkan distribusi konsumsi bahan bakar (miles per gallon) berdasarkan asal mobil (misalnya, Amerika, Eropa, atau Jepang). Di dalam boxplot, kita melihat median (garis tengah kotak), kuartil pertama dan ketiga (batas kotak), serta outliers (titik-titik di luar batas).\n",
        "\n",
        "2.\tcylinders by origin: Boxplot ini menampilkan jumlah silinder mesin berdasarkan asal mobil. Kita dapat melihat perbedaan distribusi jumlah silinder antara asal mobil yang berbeda.\n",
        "\n",
        "3.\tdisplacement by origin: Boxplot ini menunjukkan volume mesin (displacement) berdasarkan asal mobil. Kita dapat melihat variasi volume mesin di antara kelompok asal.\n",
        "\n",
        "4.\thorsepower by origin: Boxplot ini menampilkan daya mesin (horsepower) berdasarkan asal mobil. Kita dapat melihat perbedaan distribusi daya mesin antara asal mobil yang berbeda.\n",
        "\n",
        "5.\tweight by origin: Boxplot ini menunjukkan berat mobil berdasarkan asalnya. Kita dapat melihat variasi berat mobil di antara kelompok asal.\n",
        "\n",
        "6.\tacceleration by origin: Boxplot ini menampilkan percepatan mobil berdasarkan asalnya. Kita dapat melihat perbedaan distribusi percepatan antara asal mobil yang berbeda.\n",
        "\n",
        "7.\tmodel year by origin: Boxplot ini menunjukkan tahun model mobil berdasarkan asalnya. Kita dapat melihat variasi tahun model di antara kelompok asal.\n",
        "\n",
        "Setiap boxplot memberikan informasi tentang bagaimana variabel-variabel ini berbeda di antara kelompok asal mobil. Semakin besar perbedaan distribusi antara kelompok asal, semakin relevan variabel tersebut dalam membedakan mobil dari berbagai negara.\n",
        "\n"
      ]
    },
    {
      "cell_type": "markdown",
      "metadata": {
        "id": "TIh_8ISm46I9"
      },
      "source": [
        "# **Data Processing**\n",
        "*penjelasan, drop 'model.year' karena paling besar, menggunakan 'origin' karena targetnya*"
      ]
    },
    {
      "cell_type": "code",
      "execution_count": null,
      "metadata": {
        "colab": {
          "base_uri": "https://localhost:8080/"
        },
        "id": "64_d0h2P47cK",
        "outputId": "80f69b7f-6288-4f59-e37d-2224816a0188"
      },
      "outputs": [
        {
          "name": "stdout",
          "output_type": "stream",
          "text": [
            "Train set shape: (324, 7) (324,)\n",
            "Test set shape: (82, 7) (82,)\n"
          ]
        }
      ],
      "source": [
        "# Drop 'model.year' column\n",
        "df = df.drop(columns=['model.year'])\n",
        "\n",
        "# Separate features and target\n",
        "X = df.drop(columns=['origin'])  # Features\n",
        "y = df['origin']  # Target variable\n",
        "\n",
        "# Split data into train and test sets (80% train, 20% test)\n",
        "X_train, X_test, y_train, y_test = train_test_split(X, y, test_size=0.2, random_state=42)\n",
        "\n",
        "# Check the shape of train and test sets\n",
        "print(\"Train set shape:\", X_train.shape, y_train.shape)\n",
        "print(\"Test set shape:\", X_test.shape, y_test.shape)"
      ]
    },
    {
      "cell_type": "markdown",
      "metadata": {
        "id": "oSrSCR6W1MWp"
      },
      "source": [
        "**Penjelasan Code**\n",
        "\n",
        "1. Menghapus Kolom 'model.year': Kolom ini dihapus karena dianggap tidak relevan dengan prediksi label 'origin'.\n",
        "\n",
        "2. Memisahkan Fitur dan Target:\n",
        "\n",
        "  - Fitur-fitur (kecuali 'origin') dipisahkan dan disimpan dalam variabel X.\n",
        "  - Target variabel ('origin') disimpan dalam variabel y.\n",
        "\n",
        "3. Membagi Data Menjadi Set Pelatihan dan Pengujian:\n",
        "\n",
        "  - Data dibagi menjadi set pelatihan (X_train, y_train) dan set pengujian (X_test, y_test) dengan proporsi 80:20.\n",
        "\n",
        "4. Memeriksa Bentuk Set Pelatihan dan Pengujian:\n",
        "\n",
        "  - Bentuk set pelatihan dan pengujian dicetak untuk memastikan pembagian data sesuai dengan yang diharapkan.\n",
        "\n",
        "**Output**\n",
        "\n",
        "1.\tTrain set shape: (324, 7) (324,)\n",
        "- Terdiri dari 324 baris dan 7 kolom.\n",
        "- \tSetiap baris merupakan sebuah sampel data pelatihan.\n",
        "- \tSetiap kolom mewakili fitur-fitur yang digunakan untuk melatih model.\n",
        "- Terdapat 324 label target yang sesuai dengan jumlah baris data pelatihan.\n",
        "2.\tTest set shape: (82, 7) (82,)\n",
        "- Terdiri dari 82 baris dan 7 kolom.\n",
        "-\tSetiap baris merupakan sebuah sampel data pengujian.\n",
        "-\tSetiap kolom mewakili fitur-fitur yang digunakan untuk menguji model.\n",
        "-\tTerdapat 82 label target yang sesuai dengan jumlah baris data pengujian.\n",
        "\n"
      ]
    },
    {
      "cell_type": "code",
      "execution_count": null,
      "metadata": {
        "colab": {
          "base_uri": "https://localhost:8080/",
          "height": 339
        },
        "id": "5zZXQ1iZx2RZ",
        "outputId": "855ecc28-daac-4ad5-84f3-7eba97ef52a2"
      },
      "outputs": [
        {
          "ename": "NameError",
          "evalue": "name 'Pipeline' is not defined",
          "output_type": "error",
          "traceback": [
            "\u001b[1;31m---------------------------------------------------------------------------\u001b[0m",
            "\u001b[1;31mNameError\u001b[0m                                 Traceback (most recent call last)",
            "Cell \u001b[1;32mIn[12], line 5\u001b[0m\n\u001b[0;32m      2\u001b[0m X_train, X_test, y_train, y_test \u001b[38;5;241m=\u001b[39m train_test_split(X, y, test_size\u001b[38;5;241m=\u001b[39m\u001b[38;5;241m0.2\u001b[39m, random_state\u001b[38;5;241m=\u001b[39m\u001b[38;5;241m42\u001b[39m)\n\u001b[0;32m      4\u001b[0m \u001b[38;5;66;03m# Create and fit the pipeline\u001b[39;00m\n\u001b[1;32m----> 5\u001b[0m pipeline \u001b[38;5;241m=\u001b[39m \u001b[43mPipeline\u001b[49m(steps\u001b[38;5;241m=\u001b[39m[(\u001b[38;5;124m'\u001b[39m\u001b[38;5;124mpreprocessor\u001b[39m\u001b[38;5;124m'\u001b[39m, preprocessor)])\n\u001b[0;32m      6\u001b[0m X_train \u001b[38;5;241m=\u001b[39m pipeline\u001b[38;5;241m.\u001b[39mfit_transform(X_train)\n\u001b[0;32m      7\u001b[0m X_test \u001b[38;5;241m=\u001b[39m pipeline\u001b[38;5;241m.\u001b[39mtransform(X_test)\n",
            "\u001b[1;31mNameError\u001b[0m: name 'Pipeline' is not defined"
          ]
        }
      ],
      "source": [
        "# Split the data into training and testing sets\n",
        "X_train, X_test, y_train, y_test = train_test_split(X, y, test_size=0.2, random_state=42)\n",
        "\n",
        "# Create and fit the pipeline\n",
        "pipeline = Pipeline(steps=[('preprocessor', preprocessor)])\n",
        "X_train = pipeline.fit_transform(X_train)\n",
        "X_test = pipeline.transform(X_test)\n",
        "\n",
        "print(X_train[:5])\n",
        "print(X_test[:5])\n"
      ]
    },
    {
      "cell_type": "markdown",
      "metadata": {
        "id": "9L7jkK-Hx3IJ"
      },
      "source": [
        "1. scaler = StandardScaler(): Membuat objek StandardScaler yang akan digunakan untuk melakukan standarisasi data.\n",
        "\n",
        "2. X_train = scaler.fit_transform(X_train): Menggunakan metode fit_transform() dari objek StandardScaler untuk menghitung mean dan standar deviasi dari set pelatihan (X_train) dan kemudian melakukan standarisasi pada data tersebut.\n",
        "\n",
        "3. X_test = scaler.transform(X_test): Menggunakan metode transform() dari objek StandardScaler untuk menerapkan standarisasi yang sama yang dihitung dari set pelatihan (X_train) ke set pengujian (X_test). Perhatikan bahwa kita tidak lagi memanggil fit_transform() di sini karena kita ingin menggunakan mean dan standar deviasi yang telah dihitung dari set pelatihan untuk menerapkan standarisasi pada set pengujian, sehingga kita hanya menggunakan transform()."
      ]
    },
    {
      "cell_type": "markdown",
      "metadata": {
        "id": "1_6yjG9J48vB"
      },
      "source": [
        "# **TPOT**\n",
        "\n",
        "TPOT adalah singkatan dari \"Tree-based Pipeline Optimization Tool\". Ini adalah alat otomatisasi machine learning yang menggunakan algoritme genetika untuk mencari dan mengoptimalkan pipeline machine learning yang optimal untuk sebuah dataset. TPOT dapat melakukan pencarian secara otomatis terhadap berbagai jenis pemrosesan data, pemilihan fitur, transformasi, pemilihan model, dan hiperparameter tuning. Dengan menggunakan TPOT, pengguna dapat menghemat waktu dan upaya dalam mencari model machine learning yang terbaik untuk suatu masalah."
      ]
    },
    {
      "cell_type": "code",
      "execution_count": null,
      "metadata": {
        "id": "vyqL1OE23-ma",
        "outputId": "ef417c1c-d984-4717-becb-890cdc2db1c1"
      },
      "outputs": [
        {
          "name": "stdout",
          "output_type": "stream",
          "text": [
            "Collecting setuptools\n",
            "  Using cached setuptools-70.0.0-py3-none-any.whl.metadata (5.9 kB)\n",
            "Using cached setuptools-70.0.0-py3-none-any.whl (863 kB)\n",
            "Installing collected packages: setuptools\n",
            "Successfully installed setuptools-70.0.0\n",
            "Note: you may need to restart the kernel to use updated packages.\n"
          ]
        }
      ],
      "source": [
        "pip install --upgrade setuptools"
      ]
    },
    {
      "cell_type": "code",
      "execution_count": null,
      "metadata": {
        "id": "hCVG5FMe3-ma",
        "outputId": "a49e6327-8904-49f1-80a2-091e1708bc7f"
      },
      "outputs": [
        {
          "name": "stdout",
          "output_type": "stream",
          "text": [
            "pkg_resources is successfully imported.\n"
          ]
        },
        {
          "name": "stderr",
          "output_type": "stream",
          "text": [
            "C:\\Users\\omen\\AppData\\Local\\Temp\\ipykernel_19316\\833736157.py:1: DeprecationWarning: pkg_resources is deprecated as an API. See https://setuptools.pypa.io/en/latest/pkg_resources.html\n",
            "  import pkg_resources\n"
          ]
        }
      ],
      "source": [
        "import pkg_resources\n",
        "print(\"pkg_resources is successfully imported.\")"
      ]
    },
    {
      "cell_type": "code",
      "execution_count": null,
      "metadata": {
        "colab": {
          "base_uri": "https://localhost:8080/",
          "height": 783,
          "referenced_widgets": [
            "517823e5acbe41d982a50a8fc968c413",
            "695bf1c9b70049a5b066607030f5a680",
            "06d99425c46d455ca9439154c02e5858",
            "6c9ef991c7b04292ab4a3f4e86823602",
            "ab6b443279ef417e99d5eb1814009ea6",
            "737cdfa5a9994fee95303a0893efefa1",
            "722b36bbe0bf4c0ba829a3fa849dc419",
            "81826d4133e94ff696bbddb939e555c3",
            "9391dee4765c4ee08103894a050fa194",
            "dd79e21c05d1492fa953cd50ec788739",
            "5088f0fb68344722928bc75b381a712a"
          ]
        },
        "id": "d5DRyDZhLbm-",
        "outputId": "a3a906e5-8620-4c0a-90bf-8b76a8eb7246"
      },
      "outputs": [
        {
          "name": "stdout",
          "output_type": "stream",
          "text": [
            "                                                                              \n",
            "Generation 1 - Current best internal CV score: 0.9769847170590665\n",
            "                                                                             \n",
            "Generation 2 - Current best internal CV score: 0.9769847170590665\n",
            "                                                                             \n",
            "Generation 3 - Current best internal CV score: 0.9769847170590665\n",
            "                                                                             \n",
            "Generation 4 - Current best internal CV score: 0.9769847170590665\n",
            "                                                                              \n",
            "Generation 5 - Current best internal CV score: 0.9806994354949745\n",
            "                                                                              \n",
            "Generation 6 - Current best internal CV score: 0.9806994354949745\n",
            "                                                                              \n",
            "Generation 7 - Current best internal CV score: 0.9806994354949745\n",
            "                                                                              \n",
            "Generation 8 - Current best internal CV score: 0.9851521409885722\n",
            "                                                                              \n",
            "Generation 9 - Current best internal CV score: 0.9858956354123641\n",
            "                                                                              \n",
            "Generation 10 - Current best internal CV score: 0.9858956354123641\n",
            "                                                                              \n",
            "Generation 11 - Current best internal CV score: 0.9858956354123641\n",
            "                                                                              \n",
            "Generation 12 - Current best internal CV score: 0.9858956354123641\n",
            "                                                                              \n",
            "Generation 13 - Current best internal CV score: 0.9858956354123641\n",
            "                                                                              \n",
            "Generation 14 - Current best internal CV score: 0.9858956354123641\n",
            "                                                                              \n",
            "Generation 15 - Current best internal CV score: 0.9858956354123641\n",
            "                                                                              \n",
            "Generation 16 - Current best internal CV score: 0.9858956354123641\n",
            "                                                                              \n",
            "Generation 17 - Current best internal CV score: 0.9858956354123641\n",
            "                                                                              \n",
            "Generation 18 - Current best internal CV score: 0.9858956354123641\n",
            "                                                                              \n",
            "Generation 19 - Current best internal CV score: 0.9858956354123641\n",
            "                                                                              \n",
            "Generation 20 - Current best internal CV score: 0.9866363761531047\n",
            "                                                                              \n",
            "Best pipeline: KNeighborsClassifier(RFE(input_matrix, criterion=gini, max_features=0.05, n_estimators=100, step=0.1), n_neighbors=2, p=2, weights=distance)\n",
            "Accuracy: 0.9888888888888889\n"
          ]
        }
      ],
      "source": [
        "from tpot import TPOTClassifier\n",
        "from sklearn.datasets import load_digits\n",
        "from sklearn.model_selection import train_test_split\n",
        "from sklearn.preprocessing import StandardScaler, OneHotEncoder\n",
        "from sklearn.compose import ColumnTransformer\n",
        "from sklearn.pipeline import Pipeline\n",
        "\n",
        "# Load the digits dataset\n",
        "digits = load_digits()\n",
        "X_train, X_test, y_train, y_test = train_test_split(digits.data, digits.target, train_size=0.75, test_size=0.25, random_state=42)\n",
        "\n",
        "# Standardize the dataset\n",
        "scaler = StandardScaler()\n",
        "X_train = scaler.fit_transform(X_train)\n",
        "X_test = scaler.transform(X_test)\n",
        "\n",
        "# Instantiate TPOTClassifier\n",
        "tpot_classifier = TPOTClassifier(generations=20, population_size=20, verbosity=2, random_state=42, scoring='accuracy', n_jobs=-1)\n",
        "\n",
        "# Fit TPOTClassifier to training data\n",
        "tpot_classifier.fit(X_train, y_train)\n",
        "\n",
        "# Evaluate the best pipeline\n",
        "accuracy = tpot_classifier.score(X_test, y_test)\n",
        "print(\"Accuracy:\", accuracy)\n"
      ]
    },
    {
      "cell_type": "markdown",
      "metadata": {
        "id": "IhjSzIeJ4i23"
      },
      "source": [
        "**Penjelasan Code**\n",
        "\n",
        "1. Import TPOTClassifier: Ini mengimpor kelas TPOTClassifier dari modul tpot.\n",
        "\n",
        "2. Menginisialisasi TPOTClassifier: Membuat objek TPOTClassifier dengan konfigurasi tertentu, seperti jumlah generasi, ukuran populasi, verbosity, random state, skor evaluasi, dan jumlah pekerjaan paralel (n_jobs).\n",
        "\n",
        "3. Memuat dataset digit: Menggunakan fungsi load_digits() dari scikit-learn untuk memuat dataset digit.\n",
        "\n",
        "4. Membagi data menjadi data latih dan data uji: Menggunakan fungsi train_test_split() dari scikit-learn untuk membagi dataset menjadi data latih (75%) dan data uji (25%).\n",
        "\n",
        "5. Melatih model TPOTClassifier: Menggunakan metode fit() dari TPOTClassifier untuk melatih model pada data latih.\n",
        "\n",
        "6. Mengevaluasi performa model: Menggunakan metode score() dari TPOTClassifier untuk mengevaluasi performa model pada data uji, menghasilkan akurasi model.\n",
        "\n",
        "7. Mencetak akurasi: Mencetak akurasi model ke layar.\n",
        "\n",
        "\n",
        "**Penjelasan output**\n",
        "\n",
        "1. Generasi ke-n - Skor CV internal terbaik saat ini: Menunjukkan iterasi generasi TPOT dan skor validasi silang terbaik yang ditemukan pada generasi tersebut.\n",
        "\n",
        "2. Best pipeline: Merupakan deskripsi dari model terbaik yang ditemukan oleh TPOT. Dalam kasus ini, model terbaik terdiri dari sebuah pipa yang terdiri dari beberapa langkah atau estimator. Pipa ini terdiri dari XGBClassifier yang diikuti oleh KNeighborsClassifier. Parameter-parameter dari estimator juga ditampilkan.\n",
        "\n",
        "3. Accuracy: Ini adalah akurasi model terbaik yang dihasilkan oleh TPOT pada data uji. Dalam konteks ini, akurasi model terbaik adalah sekitar 98.89%."
      ]
    },
    {
      "cell_type": "markdown",
      "metadata": {
        "id": "cc86Xjxu5A-C"
      },
      "source": [
        "# **NiaPY**\n",
        "niapy adalah singkatan dari Nature-Inspired Algorithms in Python. Ini adalah sebuah perpustakaan Python yang menyediakan implementasi dari berbagai algoritma optimasi terinspirasi dari alam. Algoritma-algoritma ini terinspirasi dari perilaku dan mekanisme yang terjadi dalam alam, seperti perilaku kawanan burung, gerakan partikel dalam ruang pencarian, atau proses evolusi genetik.\n",
        "\n",
        "Beberapa algoritma optimasi yang disediakan oleh niapy meliputi algoritma Differential Evolution (DE), Particle Swarm Optimization (PSO), Firefly Algorithm (FA), Grey Wolf Optimizer (GWO), dan masih banyak lagi. Perpustakaan ini memiliki antarmuka yang bersih dan mudah digunakan, sehingga memungkinkan pengguna untuk dengan mudah menerapkan dan menguji berbagai algoritma optimasi dalam berbagai masalah optimasi.\n",
        "\n",
        "Dengan menggunakan niapy, pengguna dapat dengan mudah mengakses berbagai algoritma optimasi terinspirasi dari alam untuk menyelesaikan masalah-masalah optimasi yang kompleks dalam berbagai domain, seperti optimasi parameter, pemodelan matematis, pembelajaran mesin, dan optimisasi tugas-tugas mesin cerdas lainnya."
      ]
    },
    {
      "cell_type": "code",
      "execution_count": null,
      "metadata": {
        "id": "8Lrz89aAyA8Q"
      },
      "outputs": [],
      "source": [
        "# Define custom problem for Niapy\n",
        "class CustomProblem(Problem):\n",
        "    def __init__(self, dimension, lower, upper):\n",
        "        super().__init__(dimension, lower, upper)\n",
        "\n",
        "    def _evaluate(self, x):\n",
        "        # Convert the solution to hyperparameters\n",
        "        n_estimators = int(x[0])\n",
        "        max_depth = int(x[1])\n",
        "\n",
        "        # Train the model\n",
        "        model = RandomForestClassifier(n_estimators=n_estimators, max_depth=max_depth, random_state=42)\n",
        "        model.fit(X_train, y_train)\n",
        "\n",
        "        # Predict and calculate accuracy\n",
        "        predictions = model.predict(X_test)\n",
        "\n",
        "        # Return the negative accuracy because Niapy minimizes the function\n",
        "        return -accuracy_score(y_test, predictions)"
      ]
    },
    {
      "cell_type": "code",
      "execution_count": null,
      "metadata": {
        "id": "-f3aTcmfyB51"
      },
      "outputs": [],
      "source": [
        "# Set problem dimension, lower and upper bounds\n",
        "dimension = 2\n",
        "lower = [10, 5]\n",
        "upper = [200, 20]"
      ]
    },
    {
      "cell_type": "code",
      "execution_count": null,
      "metadata": {
        "id": "2xFKXnKYyEyX"
      },
      "outputs": [],
      "source": [
        "# Instantiate the problem\n",
        "problem = CustomProblem(dimension=dimension, lower=lower, upper=upper)"
      ]
    },
    {
      "cell_type": "markdown",
      "metadata": {
        "id": "CxnV0eyayqc2"
      },
      "source": [
        "# **Run the Optimization**"
      ]
    },
    {
      "cell_type": "code",
      "execution_count": null,
      "metadata": {
        "id": "k2cdykhHypFe",
        "outputId": "34e58d0f-3ced-4b09-a9ab-c1a3ed1de025"
      },
      "outputs": [
        {
          "name": "stdout",
          "output_type": "stream",
          "text": [
            "Best solution found: [179.12388866  14.77365972]\n",
            "Best solution fitness: 0.9777777777777777\n"
          ]
        }
      ],
      "source": [
        "task = Task(problem=problem, max_evals=100)\n",
        "algo = DifferentialEvolution(population_size=10, differential_weight=0.5, crossover_probability=0.7)\n",
        "best = algo.run(task=task)\n",
        "\n",
        "print(\"Best solution found: %s\" % best[0])\n",
        "print(\"Best solution fitness: %s\" % -best[1])"
      ]
    },
    {
      "cell_type": "markdown",
      "metadata": {
        "id": "4qYPmBVyy0BU"
      },
      "source": [
        "# **Train the Final Model with the Best Hyperparameters**"
      ]
    },
    {
      "cell_type": "code",
      "execution_count": null,
      "metadata": {
        "id": "XnJbwSlAy7Sl",
        "outputId": "54f8b36e-d0d7-4329-98cd-6378e67dc87e"
      },
      "outputs": [
        {
          "name": "stdout",
          "output_type": "stream",
          "text": [
            "Final model accuracy: 0.9777777777777777\n"
          ]
        }
      ],
      "source": [
        "n_estimators_best = int(best[0][0])\n",
        "max_depth_best = int(best[0][1])\n",
        "final_model = RandomForestClassifier(n_estimators=n_estimators_best, max_depth=max_depth_best, random_state=42)\n",
        "final_model.fit(X_train, y_train)\n",
        "\n",
        "# Predict and evaluate the final model\n",
        "final_predictions = final_model.predict(X_test)\n",
        "final_accuracy = accuracy_score(y_test, final_predictions)\n",
        "print(\"Final model accuracy: %s\" % final_accuracy)"
      ]
    },
    {
      "cell_type": "markdown",
      "metadata": {
        "id": "hhNwfJgV6Syg"
      },
      "source": [
        "# **Perbandingan kedua Tools**"
      ]
    },
    {
      "cell_type": "code",
      "execution_count": null,
      "metadata": {
        "id": "wSnx6vtM6YDH"
      },
      "outputs": [],
      "source": []
    },
    {
      "cell_type": "markdown",
      "metadata": {
        "id": "LkqxwuQi6YYC"
      },
      "source": [
        "# **Kesimpulan**"
      ]
    },
    {
      "cell_type": "code",
      "execution_count": null,
      "metadata": {
        "id": "SNnGPyk06aGx"
      },
      "outputs": [],
      "source": []
    }
  ],
  "metadata": {
    "colab": {
      "provenance": []
    },
    "kernelspec": {
      "display_name": "Python 3",
      "name": "python3"
    },
    "language_info": {
      "codemirror_mode": {
        "name": "ipython",
        "version": 3
      },
      "file_extension": ".py",
      "mimetype": "text/x-python",
      "name": "python",
      "nbconvert_exporter": "python",
      "pygments_lexer": "ipython3",
      "version": "3.12.4"
    },
    "widgets": {
      "application/vnd.jupyter.widget-state+json": {
        "06d99425c46d455ca9439154c02e5858": {
          "model_module": "@jupyter-widgets/controls",
          "model_module_version": "1.5.0",
          "model_name": "FloatProgressModel",
          "state": {
            "_dom_classes": [],
            "_model_module": "@jupyter-widgets/controls",
            "_model_module_version": "1.5.0",
            "_model_name": "FloatProgressModel",
            "_view_count": null,
            "_view_module": "@jupyter-widgets/controls",
            "_view_module_version": "1.5.0",
            "_view_name": "ProgressView",
            "bar_style": "",
            "description": "",
            "description_tooltip": null,
            "layout": "IPY_MODEL_81826d4133e94ff696bbddb939e555c3",
            "max": 420,
            "min": 0,
            "orientation": "horizontal",
            "style": "IPY_MODEL_9391dee4765c4ee08103894a050fa194",
            "value": 420
          }
        },
        "5088f0fb68344722928bc75b381a712a": {
          "model_module": "@jupyter-widgets/controls",
          "model_module_version": "1.5.0",
          "model_name": "DescriptionStyleModel",
          "state": {
            "_model_module": "@jupyter-widgets/controls",
            "_model_module_version": "1.5.0",
            "_model_name": "DescriptionStyleModel",
            "_view_count": null,
            "_view_module": "@jupyter-widgets/base",
            "_view_module_version": "1.2.0",
            "_view_name": "StyleView",
            "description_width": ""
          }
        },
        "517823e5acbe41d982a50a8fc968c413": {
          "model_module": "@jupyter-widgets/controls",
          "model_module_version": "1.5.0",
          "model_name": "HBoxModel",
          "state": {
            "_dom_classes": [],
            "_model_module": "@jupyter-widgets/controls",
            "_model_module_version": "1.5.0",
            "_model_name": "HBoxModel",
            "_view_count": null,
            "_view_module": "@jupyter-widgets/controls",
            "_view_module_version": "1.5.0",
            "_view_name": "HBoxView",
            "box_style": "",
            "children": [
              "IPY_MODEL_695bf1c9b70049a5b066607030f5a680",
              "IPY_MODEL_06d99425c46d455ca9439154c02e5858",
              "IPY_MODEL_6c9ef991c7b04292ab4a3f4e86823602"
            ],
            "layout": "IPY_MODEL_ab6b443279ef417e99d5eb1814009ea6"
          }
        },
        "695bf1c9b70049a5b066607030f5a680": {
          "model_module": "@jupyter-widgets/controls",
          "model_module_version": "1.5.0",
          "model_name": "HTMLModel",
          "state": {
            "_dom_classes": [],
            "_model_module": "@jupyter-widgets/controls",
            "_model_module_version": "1.5.0",
            "_model_name": "HTMLModel",
            "_view_count": null,
            "_view_module": "@jupyter-widgets/controls",
            "_view_module_version": "1.5.0",
            "_view_name": "HTMLView",
            "description": "",
            "description_tooltip": null,
            "layout": "IPY_MODEL_737cdfa5a9994fee95303a0893efefa1",
            "placeholder": "​",
            "style": "IPY_MODEL_722b36bbe0bf4c0ba829a3fa849dc419",
            "value": "Optimization Progress: 100%"
          }
        },
        "6c9ef991c7b04292ab4a3f4e86823602": {
          "model_module": "@jupyter-widgets/controls",
          "model_module_version": "1.5.0",
          "model_name": "HTMLModel",
          "state": {
            "_dom_classes": [],
            "_model_module": "@jupyter-widgets/controls",
            "_model_module_version": "1.5.0",
            "_model_name": "HTMLModel",
            "_view_count": null,
            "_view_module": "@jupyter-widgets/controls",
            "_view_module_version": "1.5.0",
            "_view_name": "HTMLView",
            "description": "",
            "description_tooltip": null,
            "layout": "IPY_MODEL_dd79e21c05d1492fa953cd50ec788739",
            "placeholder": "​",
            "style": "IPY_MODEL_5088f0fb68344722928bc75b381a712a",
            "value": " 420/420 [09:59&lt;00:00,  1.32s/pipeline]"
          }
        },
        "722b36bbe0bf4c0ba829a3fa849dc419": {
          "model_module": "@jupyter-widgets/controls",
          "model_module_version": "1.5.0",
          "model_name": "DescriptionStyleModel",
          "state": {
            "_model_module": "@jupyter-widgets/controls",
            "_model_module_version": "1.5.0",
            "_model_name": "DescriptionStyleModel",
            "_view_count": null,
            "_view_module": "@jupyter-widgets/base",
            "_view_module_version": "1.2.0",
            "_view_name": "StyleView",
            "description_width": ""
          }
        },
        "737cdfa5a9994fee95303a0893efefa1": {
          "model_module": "@jupyter-widgets/base",
          "model_module_version": "1.2.0",
          "model_name": "LayoutModel",
          "state": {
            "_model_module": "@jupyter-widgets/base",
            "_model_module_version": "1.2.0",
            "_model_name": "LayoutModel",
            "_view_count": null,
            "_view_module": "@jupyter-widgets/base",
            "_view_module_version": "1.2.0",
            "_view_name": "LayoutView",
            "align_content": null,
            "align_items": null,
            "align_self": null,
            "border": null,
            "bottom": null,
            "display": null,
            "flex": null,
            "flex_flow": null,
            "grid_area": null,
            "grid_auto_columns": null,
            "grid_auto_flow": null,
            "grid_auto_rows": null,
            "grid_column": null,
            "grid_gap": null,
            "grid_row": null,
            "grid_template_areas": null,
            "grid_template_columns": null,
            "grid_template_rows": null,
            "height": null,
            "justify_content": null,
            "justify_items": null,
            "left": null,
            "margin": null,
            "max_height": null,
            "max_width": null,
            "min_height": null,
            "min_width": null,
            "object_fit": null,
            "object_position": null,
            "order": null,
            "overflow": null,
            "overflow_x": null,
            "overflow_y": null,
            "padding": null,
            "right": null,
            "top": null,
            "visibility": null,
            "width": null
          }
        },
        "81826d4133e94ff696bbddb939e555c3": {
          "model_module": "@jupyter-widgets/base",
          "model_module_version": "1.2.0",
          "model_name": "LayoutModel",
          "state": {
            "_model_module": "@jupyter-widgets/base",
            "_model_module_version": "1.2.0",
            "_model_name": "LayoutModel",
            "_view_count": null,
            "_view_module": "@jupyter-widgets/base",
            "_view_module_version": "1.2.0",
            "_view_name": "LayoutView",
            "align_content": null,
            "align_items": null,
            "align_self": null,
            "border": null,
            "bottom": null,
            "display": null,
            "flex": null,
            "flex_flow": null,
            "grid_area": null,
            "grid_auto_columns": null,
            "grid_auto_flow": null,
            "grid_auto_rows": null,
            "grid_column": null,
            "grid_gap": null,
            "grid_row": null,
            "grid_template_areas": null,
            "grid_template_columns": null,
            "grid_template_rows": null,
            "height": null,
            "justify_content": null,
            "justify_items": null,
            "left": null,
            "margin": null,
            "max_height": null,
            "max_width": null,
            "min_height": null,
            "min_width": null,
            "object_fit": null,
            "object_position": null,
            "order": null,
            "overflow": null,
            "overflow_x": null,
            "overflow_y": null,
            "padding": null,
            "right": null,
            "top": null,
            "visibility": null,
            "width": null
          }
        },
        "9391dee4765c4ee08103894a050fa194": {
          "model_module": "@jupyter-widgets/controls",
          "model_module_version": "1.5.0",
          "model_name": "ProgressStyleModel",
          "state": {
            "_model_module": "@jupyter-widgets/controls",
            "_model_module_version": "1.5.0",
            "_model_name": "ProgressStyleModel",
            "_view_count": null,
            "_view_module": "@jupyter-widgets/base",
            "_view_module_version": "1.2.0",
            "_view_name": "StyleView",
            "bar_color": null,
            "description_width": ""
          }
        },
        "ab6b443279ef417e99d5eb1814009ea6": {
          "model_module": "@jupyter-widgets/base",
          "model_module_version": "1.2.0",
          "model_name": "LayoutModel",
          "state": {
            "_model_module": "@jupyter-widgets/base",
            "_model_module_version": "1.2.0",
            "_model_name": "LayoutModel",
            "_view_count": null,
            "_view_module": "@jupyter-widgets/base",
            "_view_module_version": "1.2.0",
            "_view_name": "LayoutView",
            "align_content": null,
            "align_items": null,
            "align_self": null,
            "border": null,
            "bottom": null,
            "display": null,
            "flex": null,
            "flex_flow": null,
            "grid_area": null,
            "grid_auto_columns": null,
            "grid_auto_flow": null,
            "grid_auto_rows": null,
            "grid_column": null,
            "grid_gap": null,
            "grid_row": null,
            "grid_template_areas": null,
            "grid_template_columns": null,
            "grid_template_rows": null,
            "height": null,
            "justify_content": null,
            "justify_items": null,
            "left": null,
            "margin": null,
            "max_height": null,
            "max_width": null,
            "min_height": null,
            "min_width": null,
            "object_fit": null,
            "object_position": null,
            "order": null,
            "overflow": null,
            "overflow_x": null,
            "overflow_y": null,
            "padding": null,
            "right": null,
            "top": null,
            "visibility": "hidden",
            "width": null
          }
        },
        "dd79e21c05d1492fa953cd50ec788739": {
          "model_module": "@jupyter-widgets/base",
          "model_module_version": "1.2.0",
          "model_name": "LayoutModel",
          "state": {
            "_model_module": "@jupyter-widgets/base",
            "_model_module_version": "1.2.0",
            "_model_name": "LayoutModel",
            "_view_count": null,
            "_view_module": "@jupyter-widgets/base",
            "_view_module_version": "1.2.0",
            "_view_name": "LayoutView",
            "align_content": null,
            "align_items": null,
            "align_self": null,
            "border": null,
            "bottom": null,
            "display": null,
            "flex": null,
            "flex_flow": null,
            "grid_area": null,
            "grid_auto_columns": null,
            "grid_auto_flow": null,
            "grid_auto_rows": null,
            "grid_column": null,
            "grid_gap": null,
            "grid_row": null,
            "grid_template_areas": null,
            "grid_template_columns": null,
            "grid_template_rows": null,
            "height": null,
            "justify_content": null,
            "justify_items": null,
            "left": null,
            "margin": null,
            "max_height": null,
            "max_width": null,
            "min_height": null,
            "min_width": null,
            "object_fit": null,
            "object_position": null,
            "order": null,
            "overflow": null,
            "overflow_x": null,
            "overflow_y": null,
            "padding": null,
            "right": null,
            "top": null,
            "visibility": null,
            "width": null
          }
        }
      }
    }
  },
  "nbformat": 4,
  "nbformat_minor": 0
}