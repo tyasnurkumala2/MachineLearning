{
  "cells": [
    {
      "cell_type": "markdown",
      "metadata": {
        "id": "6xK2swQU3PRj"
      },
      "source": [
        "**Reason to use Naive Bayes 😎**\n",
        "\n",
        "<img src=\"https://drive.google.com/uc?export=view&id=1_MYE0T7aO9mPj8ut_-SbLtnQ-y1yhRyx\" style=\"width: 650px; max-width: 100%; height: auto\" title=\"Click to enlarge picture\" />\n",
        "\n",
        "Submit here :\n",
        "\n",
        "https://forms.gle/q25E4g4fzPRSXaXk7\n",
        "\n",
        "\n",
        "Here is the semi module :\n",
        "\n",
        "https://drive.google.com/file/d/1TIl28T8nQbsnJ_hbyswlClCuiX3h-_F0/view?usp=share_link\n"
      ]
    },
    {
      "cell_type": "code",
      "execution_count": 2,
      "metadata": {
        "id": "YO5BdrwB3PRl"
      },
      "outputs": [
        {
          "name": "stdout",
          "output_type": "stream",
          "text": [
            "Note: you may need to restart the kernel to use updated packages.\n"
          ]
        },
        {
          "name": "stderr",
          "output_type": "stream",
          "text": [
            "ERROR: Could not find a version that satisfies the requirement math (from versions: none)\n",
            "ERROR: No matching distribution found for math\n",
            "\n",
            "[notice] A new release of pip available: 22.2.2 -> 23.1.2\n",
            "[notice] To update, run: python.exe -m pip install --upgrade pip\n"
          ]
        }
      ],
      "source": []
    },
    {
      "cell_type": "markdown",
      "metadata": {
        "id": "dcWXLQqB3PRn"
      },
      "source": [
        "Import Library"
      ]
    },
    {
      "cell_type": "code",
      "execution_count": 3,
      "metadata": {
        "id": "Xf4QtGBk3PRn"
      },
      "outputs": [],
      "source": [
        "import pandas as pd\n",
        "import math"
      ]
    },
    {
      "cell_type": "markdown",
      "metadata": {
        "id": "XbN3eX483PRn"
      },
      "source": [
        "Read The Dataset\n",
        "+ [Train Data](https://drive.google.com/uc?export=download&id=1jEWFx2JlmoknRNMXT1z16P_nC14C4_8s)\n",
        "+ [Test Data](https://drive.google.com/uc?export=download&id=1kGmqelSzZm-rDnzYrCUc5xjdo0ANRaJl)\n",
        "+ [Truth Data](https://drive.google.com/uc?export=download&id=1DGBMoe0MYCuSwubDgFPbS8B3qo_XFM6W)\n"
      ]
    },
    {
      "cell_type": "code",
      "execution_count": 4,
      "metadata": {
        "id": "iS4Dk31Y3PRn"
      },
      "outputs": [],
      "source": [
        "def read_excel(path, sheet_target): # read excel data\n",
        "    data = pd.read_excel(path, sheet_name=sheet_target)\n",
        "    return pd.DataFrame(data)"
      ]
    },
    {
      "cell_type": "code",
      "execution_count": 5,
      "metadata": {
        "id": "XWP3zPBc3PRn"
      },
      "outputs": [],
      "source": [
        "dataTrain = read_excel(\"newTrain.xlsx\",sheet_target=\"train\")\n",
        "dataTest = read_excel(\"newTest.xlsx\",sheet_target=\"Sheet1\")\n",
        "dataTruth = read_excel(\"newTestGroundTruth.xlsx\",sheet_target=\"Sheet1\")"
      ]
    },
    {
      "cell_type": "markdown",
      "metadata": {
        "id": "2XEulV6e3PRo"
      },
      "source": [
        "Show dataset"
      ]
    },
    {
      "cell_type": "code",
      "execution_count": 6,
      "metadata": {
        "colab": {
          "base_uri": "https://localhost:8080/",
          "height": 424
        },
        "id": "Tu85iySw3PRp",
        "outputId": "7689cb6b-eb1c-46d6-e978-c97a115c3146"
      },
      "outputs": [
        {
          "data": {
            "text/html": [
              "<div>\n",
              "<style scoped>\n",
              "    .dataframe tbody tr th:only-of-type {\n",
              "        vertical-align: middle;\n",
              "    }\n",
              "\n",
              "    .dataframe tbody tr th {\n",
              "        vertical-align: top;\n",
              "    }\n",
              "\n",
              "    .dataframe thead th {\n",
              "        text-align: right;\n",
              "    }\n",
              "</style>\n",
              "<table border=\"1\" class=\"dataframe\">\n",
              "  <thead>\n",
              "    <tr style=\"text-align: right;\">\n",
              "      <th></th>\n",
              "      <th>Unnamed: 0</th>\n",
              "      <th>id</th>\n",
              "      <th>x1</th>\n",
              "      <th>x2</th>\n",
              "      <th>x3</th>\n",
              "      <th>y</th>\n",
              "    </tr>\n",
              "  </thead>\n",
              "  <tbody>\n",
              "    <tr>\n",
              "      <th>0</th>\n",
              "      <td>0</td>\n",
              "      <td>1</td>\n",
              "      <td>94</td>\n",
              "      <td>71</td>\n",
              "      <td>48</td>\n",
              "      <td>1</td>\n",
              "    </tr>\n",
              "    <tr>\n",
              "      <th>1</th>\n",
              "      <td>1</td>\n",
              "      <td>2</td>\n",
              "      <td>35</td>\n",
              "      <td>67</td>\n",
              "      <td>87</td>\n",
              "      <td>1</td>\n",
              "    </tr>\n",
              "    <tr>\n",
              "      <th>2</th>\n",
              "      <td>2</td>\n",
              "      <td>3</td>\n",
              "      <td>66</td>\n",
              "      <td>97</td>\n",
              "      <td>27</td>\n",
              "      <td>0</td>\n",
              "    </tr>\n",
              "    <tr>\n",
              "      <th>3</th>\n",
              "      <td>3</td>\n",
              "      <td>4</td>\n",
              "      <td>43</td>\n",
              "      <td>35</td>\n",
              "      <td>24</td>\n",
              "      <td>1</td>\n",
              "    </tr>\n",
              "    <tr>\n",
              "      <th>4</th>\n",
              "      <td>4</td>\n",
              "      <td>5</td>\n",
              "      <td>15</td>\n",
              "      <td>85</td>\n",
              "      <td>86</td>\n",
              "      <td>0</td>\n",
              "    </tr>\n",
              "    <tr>\n",
              "      <th>...</th>\n",
              "      <td>...</td>\n",
              "      <td>...</td>\n",
              "      <td>...</td>\n",
              "      <td>...</td>\n",
              "      <td>...</td>\n",
              "      <td>...</td>\n",
              "    </tr>\n",
              "    <tr>\n",
              "      <th>291</th>\n",
              "      <td>291</td>\n",
              "      <td>292</td>\n",
              "      <td>27</td>\n",
              "      <td>7</td>\n",
              "      <td>22</td>\n",
              "      <td>1</td>\n",
              "    </tr>\n",
              "    <tr>\n",
              "      <th>292</th>\n",
              "      <td>292</td>\n",
              "      <td>293</td>\n",
              "      <td>99</td>\n",
              "      <td>82</td>\n",
              "      <td>70</td>\n",
              "      <td>1</td>\n",
              "    </tr>\n",
              "    <tr>\n",
              "      <th>293</th>\n",
              "      <td>293</td>\n",
              "      <td>294</td>\n",
              "      <td>52</td>\n",
              "      <td>55</td>\n",
              "      <td>80</td>\n",
              "      <td>0</td>\n",
              "    </tr>\n",
              "    <tr>\n",
              "      <th>294</th>\n",
              "      <td>294</td>\n",
              "      <td>295</td>\n",
              "      <td>9</td>\n",
              "      <td>25</td>\n",
              "      <td>97</td>\n",
              "      <td>0</td>\n",
              "    </tr>\n",
              "    <tr>\n",
              "      <th>295</th>\n",
              "      <td>295</td>\n",
              "      <td>296</td>\n",
              "      <td>38</td>\n",
              "      <td>69</td>\n",
              "      <td>53</td>\n",
              "      <td>1</td>\n",
              "    </tr>\n",
              "  </tbody>\n",
              "</table>\n",
              "<p>296 rows × 6 columns</p>\n",
              "</div>"
            ],
            "text/plain": [
              "     Unnamed: 0   id  x1  x2  x3  y\n",
              "0             0    1  94  71  48  1\n",
              "1             1    2  35  67  87  1\n",
              "2             2    3  66  97  27  0\n",
              "3             3    4  43  35  24  1\n",
              "4             4    5  15  85  86  0\n",
              "..          ...  ...  ..  ..  .. ..\n",
              "291         291  292  27   7  22  1\n",
              "292         292  293  99  82  70  1\n",
              "293         293  294  52  55  80  0\n",
              "294         294  295   9  25  97  0\n",
              "295         295  296  38  69  53  1\n",
              "\n",
              "[296 rows x 6 columns]"
            ]
          },
          "execution_count": 6,
          "metadata": {},
          "output_type": "execute_result"
        }
      ],
      "source": [
        "dataTrain"
      ]
    },
    {
      "cell_type": "code",
      "execution_count": 7,
      "metadata": {
        "colab": {
          "base_uri": "https://localhost:8080/",
          "height": 363
        },
        "id": "XhHC4tKq3PRp",
        "outputId": "30cac404-1405-4797-c39f-f2b085ed9b84"
      },
      "outputs": [
        {
          "data": {
            "text/html": [
              "<div>\n",
              "<style scoped>\n",
              "    .dataframe tbody tr th:only-of-type {\n",
              "        vertical-align: middle;\n",
              "    }\n",
              "\n",
              "    .dataframe tbody tr th {\n",
              "        vertical-align: top;\n",
              "    }\n",
              "\n",
              "    .dataframe thead th {\n",
              "        text-align: right;\n",
              "    }\n",
              "</style>\n",
              "<table border=\"1\" class=\"dataframe\">\n",
              "  <thead>\n",
              "    <tr style=\"text-align: right;\">\n",
              "      <th></th>\n",
              "      <th>Unnamed: 0</th>\n",
              "      <th>id</th>\n",
              "      <th>x1</th>\n",
              "      <th>x2</th>\n",
              "      <th>x3</th>\n",
              "      <th>y</th>\n",
              "    </tr>\n",
              "  </thead>\n",
              "  <tbody>\n",
              "    <tr>\n",
              "      <th>0</th>\n",
              "      <td>0</td>\n",
              "      <td>297</td>\n",
              "      <td>82</td>\n",
              "      <td>73</td>\n",
              "      <td>78</td>\n",
              "      <td>?</td>\n",
              "    </tr>\n",
              "    <tr>\n",
              "      <th>1</th>\n",
              "      <td>1</td>\n",
              "      <td>298</td>\n",
              "      <td>31</td>\n",
              "      <td>38</td>\n",
              "      <td>68</td>\n",
              "      <td>?</td>\n",
              "    </tr>\n",
              "    <tr>\n",
              "      <th>2</th>\n",
              "      <td>2</td>\n",
              "      <td>299</td>\n",
              "      <td>64</td>\n",
              "      <td>91</td>\n",
              "      <td>73</td>\n",
              "      <td>?</td>\n",
              "    </tr>\n",
              "    <tr>\n",
              "      <th>3</th>\n",
              "      <td>3</td>\n",
              "      <td>300</td>\n",
              "      <td>33</td>\n",
              "      <td>35</td>\n",
              "      <td>26</td>\n",
              "      <td>?</td>\n",
              "    </tr>\n",
              "    <tr>\n",
              "      <th>4</th>\n",
              "      <td>4</td>\n",
              "      <td>301</td>\n",
              "      <td>11</td>\n",
              "      <td>82</td>\n",
              "      <td>30</td>\n",
              "      <td>?</td>\n",
              "    </tr>\n",
              "    <tr>\n",
              "      <th>5</th>\n",
              "      <td>5</td>\n",
              "      <td>302</td>\n",
              "      <td>88</td>\n",
              "      <td>26</td>\n",
              "      <td>36</td>\n",
              "      <td>?</td>\n",
              "    </tr>\n",
              "    <tr>\n",
              "      <th>6</th>\n",
              "      <td>6</td>\n",
              "      <td>303</td>\n",
              "      <td>22</td>\n",
              "      <td>46</td>\n",
              "      <td>46</td>\n",
              "      <td>?</td>\n",
              "    </tr>\n",
              "    <tr>\n",
              "      <th>7</th>\n",
              "      <td>7</td>\n",
              "      <td>304</td>\n",
              "      <td>14</td>\n",
              "      <td>54</td>\n",
              "      <td>12</td>\n",
              "      <td>?</td>\n",
              "    </tr>\n",
              "    <tr>\n",
              "      <th>8</th>\n",
              "      <td>8</td>\n",
              "      <td>305</td>\n",
              "      <td>34</td>\n",
              "      <td>54</td>\n",
              "      <td>67</td>\n",
              "      <td>?</td>\n",
              "    </tr>\n",
              "    <tr>\n",
              "      <th>9</th>\n",
              "      <td>9</td>\n",
              "      <td>306</td>\n",
              "      <td>98</td>\n",
              "      <td>96</td>\n",
              "      <td>60</td>\n",
              "      <td>?</td>\n",
              "    </tr>\n",
              "  </tbody>\n",
              "</table>\n",
              "</div>"
            ],
            "text/plain": [
              "   Unnamed: 0   id  x1  x2  x3  y\n",
              "0           0  297  82  73  78  ?\n",
              "1           1  298  31  38  68  ?\n",
              "2           2  299  64  91  73  ?\n",
              "3           3  300  33  35  26  ?\n",
              "4           4  301  11  82  30  ?\n",
              "5           5  302  88  26  36  ?\n",
              "6           6  303  22  46  46  ?\n",
              "7           7  304  14  54  12  ?\n",
              "8           8  305  34  54  67  ?\n",
              "9           9  306  98  96  60  ?"
            ]
          },
          "execution_count": 7,
          "metadata": {},
          "output_type": "execute_result"
        }
      ],
      "source": [
        "dataTest"
      ]
    },
    {
      "cell_type": "code",
      "execution_count": 8,
      "metadata": {
        "colab": {
          "base_uri": "https://localhost:8080/",
          "height": 363
        },
        "id": "dk5bfTh93PRp",
        "outputId": "26a02a35-be02-43e6-c5a1-e0cce4a3bb13"
      },
      "outputs": [
        {
          "data": {
            "text/html": [
              "<div>\n",
              "<style scoped>\n",
              "    .dataframe tbody tr th:only-of-type {\n",
              "        vertical-align: middle;\n",
              "    }\n",
              "\n",
              "    .dataframe tbody tr th {\n",
              "        vertical-align: top;\n",
              "    }\n",
              "\n",
              "    .dataframe thead th {\n",
              "        text-align: right;\n",
              "    }\n",
              "</style>\n",
              "<table border=\"1\" class=\"dataframe\">\n",
              "  <thead>\n",
              "    <tr style=\"text-align: right;\">\n",
              "      <th></th>\n",
              "      <th>Unnamed: 0</th>\n",
              "      <th>id</th>\n",
              "      <th>x1</th>\n",
              "      <th>x2</th>\n",
              "      <th>x3</th>\n",
              "      <th>y</th>\n",
              "    </tr>\n",
              "  </thead>\n",
              "  <tbody>\n",
              "    <tr>\n",
              "      <th>0</th>\n",
              "      <td>0</td>\n",
              "      <td>297</td>\n",
              "      <td>82</td>\n",
              "      <td>73</td>\n",
              "      <td>78</td>\n",
              "      <td>1</td>\n",
              "    </tr>\n",
              "    <tr>\n",
              "      <th>1</th>\n",
              "      <td>1</td>\n",
              "      <td>298</td>\n",
              "      <td>31</td>\n",
              "      <td>38</td>\n",
              "      <td>68</td>\n",
              "      <td>1</td>\n",
              "    </tr>\n",
              "    <tr>\n",
              "      <th>2</th>\n",
              "      <td>2</td>\n",
              "      <td>299</td>\n",
              "      <td>64</td>\n",
              "      <td>91</td>\n",
              "      <td>73</td>\n",
              "      <td>1</td>\n",
              "    </tr>\n",
              "    <tr>\n",
              "      <th>3</th>\n",
              "      <td>3</td>\n",
              "      <td>300</td>\n",
              "      <td>33</td>\n",
              "      <td>35</td>\n",
              "      <td>26</td>\n",
              "      <td>0</td>\n",
              "    </tr>\n",
              "    <tr>\n",
              "      <th>4</th>\n",
              "      <td>4</td>\n",
              "      <td>301</td>\n",
              "      <td>11</td>\n",
              "      <td>82</td>\n",
              "      <td>30</td>\n",
              "      <td>0</td>\n",
              "    </tr>\n",
              "    <tr>\n",
              "      <th>5</th>\n",
              "      <td>5</td>\n",
              "      <td>302</td>\n",
              "      <td>88</td>\n",
              "      <td>26</td>\n",
              "      <td>36</td>\n",
              "      <td>1</td>\n",
              "    </tr>\n",
              "    <tr>\n",
              "      <th>6</th>\n",
              "      <td>6</td>\n",
              "      <td>303</td>\n",
              "      <td>22</td>\n",
              "      <td>46</td>\n",
              "      <td>46</td>\n",
              "      <td>1</td>\n",
              "    </tr>\n",
              "    <tr>\n",
              "      <th>7</th>\n",
              "      <td>7</td>\n",
              "      <td>304</td>\n",
              "      <td>14</td>\n",
              "      <td>54</td>\n",
              "      <td>12</td>\n",
              "      <td>1</td>\n",
              "    </tr>\n",
              "    <tr>\n",
              "      <th>8</th>\n",
              "      <td>8</td>\n",
              "      <td>305</td>\n",
              "      <td>34</td>\n",
              "      <td>54</td>\n",
              "      <td>67</td>\n",
              "      <td>0</td>\n",
              "    </tr>\n",
              "    <tr>\n",
              "      <th>9</th>\n",
              "      <td>9</td>\n",
              "      <td>306</td>\n",
              "      <td>98</td>\n",
              "      <td>96</td>\n",
              "      <td>60</td>\n",
              "      <td>0</td>\n",
              "    </tr>\n",
              "  </tbody>\n",
              "</table>\n",
              "</div>"
            ],
            "text/plain": [
              "   Unnamed: 0   id  x1  x2  x3  y\n",
              "0           0  297  82  73  78  1\n",
              "1           1  298  31  38  68  1\n",
              "2           2  299  64  91  73  1\n",
              "3           3  300  33  35  26  0\n",
              "4           4  301  11  82  30  0\n",
              "5           5  302  88  26  36  1\n",
              "6           6  303  22  46  46  1\n",
              "7           7  304  14  54  12  1\n",
              "8           8  305  34  54  67  0\n",
              "9           9  306  98  96  60  0"
            ]
          },
          "execution_count": 8,
          "metadata": {},
          "output_type": "execute_result"
        }
      ],
      "source": [
        "dataTruth"
      ]
    },
    {
      "cell_type": "markdown",
      "metadata": {
        "id": "IHxMAC3a3PRp"
      },
      "source": [
        "Data Exploration"
      ]
    },
    {
      "cell_type": "code",
      "execution_count": 9,
      "metadata": {
        "colab": {
          "base_uri": "https://localhost:8080/"
        },
        "id": "EjQTo2hh3PRq",
        "outputId": "134364d8-8134-4383-c369-4356d7f1f4b1"
      },
      "outputs": [
        {
          "name": "stdout",
          "output_type": "stream",
          "text": [
            "<class 'pandas.core.frame.DataFrame'>\n",
            "RangeIndex: 296 entries, 0 to 295\n",
            "Data columns (total 6 columns):\n",
            " #   Column      Non-Null Count  Dtype\n",
            "---  ------      --------------  -----\n",
            " 0   Unnamed: 0  296 non-null    int64\n",
            " 1   id          296 non-null    int64\n",
            " 2   x1          296 non-null    int64\n",
            " 3   x2          296 non-null    int64\n",
            " 4   x3          296 non-null    int64\n",
            " 5   y           296 non-null    int64\n",
            "dtypes: int64(6)\n",
            "memory usage: 14.0 KB\n"
          ]
        }
      ],
      "source": [
        "dataTrain.info()"
      ]
    },
    {
      "cell_type": "code",
      "execution_count": 10,
      "metadata": {
        "colab": {
          "base_uri": "https://localhost:8080/"
        },
        "id": "wl-y4lJz3PRq",
        "outputId": "4288366d-f8a7-42f0-f0ba-dba263a90c1b"
      },
      "outputs": [
        {
          "name": "stdout",
          "output_type": "stream",
          "text": [
            "<class 'pandas.core.frame.DataFrame'>\n",
            "RangeIndex: 10 entries, 0 to 9\n",
            "Data columns (total 6 columns):\n",
            " #   Column      Non-Null Count  Dtype \n",
            "---  ------      --------------  ----- \n",
            " 0   Unnamed: 0  10 non-null     int64 \n",
            " 1   id          10 non-null     int64 \n",
            " 2   x1          10 non-null     int64 \n",
            " 3   x2          10 non-null     int64 \n",
            " 4   x3          10 non-null     int64 \n",
            " 5   y           10 non-null     object\n",
            "dtypes: int64(5), object(1)\n",
            "memory usage: 608.0+ bytes\n"
          ]
        }
      ],
      "source": [
        "dataTest.info()"
      ]
    },
    {
      "cell_type": "code",
      "execution_count": 11,
      "metadata": {
        "colab": {
          "base_uri": "https://localhost:8080/"
        },
        "id": "zknyvvWR3PRq",
        "outputId": "9d940af0-7625-4b76-8cc6-0a8dda267bc1"
      },
      "outputs": [
        {
          "name": "stdout",
          "output_type": "stream",
          "text": [
            "<class 'pandas.core.frame.DataFrame'>\n",
            "RangeIndex: 10 entries, 0 to 9\n",
            "Data columns (total 6 columns):\n",
            " #   Column      Non-Null Count  Dtype\n",
            "---  ------      --------------  -----\n",
            " 0   Unnamed: 0  10 non-null     int64\n",
            " 1   id          10 non-null     int64\n",
            " 2   x1          10 non-null     int64\n",
            " 3   x2          10 non-null     int64\n",
            " 4   x3          10 non-null     int64\n",
            " 5   y           10 non-null     int64\n",
            "dtypes: int64(6)\n",
            "memory usage: 608.0 bytes\n"
          ]
        }
      ],
      "source": [
        "dataTruth.info()"
      ]
    },
    {
      "cell_type": "markdown",
      "metadata": {
        "id": "tsUeOFG03PRq"
      },
      "source": [
        "**Data Preprocessing**"
      ]
    },
    {
      "cell_type": "markdown",
      "metadata": {
        "id": "5gAQc5Wn3PRq"
      },
      "source": [
        "Every Dataset have unnecesary column we should drop it"
      ]
    },
    {
      "cell_type": "code",
      "execution_count": 12,
      "metadata": {
        "id": "cRuT0BUi3PRr"
      },
      "outputs": [],
      "source": [
        "dataTrain = dataTrain.drop([\"Unnamed: 0\"],axis=1)\n",
        "dataTest = dataTest.drop([\"Unnamed: 0\"],axis=1)\n",
        "dataTruth = dataTruth.drop([\"Unnamed: 0\"],axis=1)"
      ]
    },
    {
      "cell_type": "code",
      "execution_count": 13,
      "metadata": {
        "colab": {
          "base_uri": "https://localhost:8080/",
          "height": 206
        },
        "id": "i6pK0VUP3PRr",
        "outputId": "20b72cca-a94f-41ca-c09a-6565339f04cc"
      },
      "outputs": [
        {
          "data": {
            "text/html": [
              "<div>\n",
              "<style scoped>\n",
              "    .dataframe tbody tr th:only-of-type {\n",
              "        vertical-align: middle;\n",
              "    }\n",
              "\n",
              "    .dataframe tbody tr th {\n",
              "        vertical-align: top;\n",
              "    }\n",
              "\n",
              "    .dataframe thead th {\n",
              "        text-align: right;\n",
              "    }\n",
              "</style>\n",
              "<table border=\"1\" class=\"dataframe\">\n",
              "  <thead>\n",
              "    <tr style=\"text-align: right;\">\n",
              "      <th></th>\n",
              "      <th>id</th>\n",
              "      <th>x1</th>\n",
              "      <th>x2</th>\n",
              "      <th>x3</th>\n",
              "      <th>y</th>\n",
              "    </tr>\n",
              "  </thead>\n",
              "  <tbody>\n",
              "    <tr>\n",
              "      <th>0</th>\n",
              "      <td>297</td>\n",
              "      <td>82</td>\n",
              "      <td>73</td>\n",
              "      <td>78</td>\n",
              "      <td>?</td>\n",
              "    </tr>\n",
              "    <tr>\n",
              "      <th>1</th>\n",
              "      <td>298</td>\n",
              "      <td>31</td>\n",
              "      <td>38</td>\n",
              "      <td>68</td>\n",
              "      <td>?</td>\n",
              "    </tr>\n",
              "    <tr>\n",
              "      <th>2</th>\n",
              "      <td>299</td>\n",
              "      <td>64</td>\n",
              "      <td>91</td>\n",
              "      <td>73</td>\n",
              "      <td>?</td>\n",
              "    </tr>\n",
              "    <tr>\n",
              "      <th>3</th>\n",
              "      <td>300</td>\n",
              "      <td>33</td>\n",
              "      <td>35</td>\n",
              "      <td>26</td>\n",
              "      <td>?</td>\n",
              "    </tr>\n",
              "    <tr>\n",
              "      <th>4</th>\n",
              "      <td>301</td>\n",
              "      <td>11</td>\n",
              "      <td>82</td>\n",
              "      <td>30</td>\n",
              "      <td>?</td>\n",
              "    </tr>\n",
              "  </tbody>\n",
              "</table>\n",
              "</div>"
            ],
            "text/plain": [
              "    id  x1  x2  x3  y\n",
              "0  297  82  73  78  ?\n",
              "1  298  31  38  68  ?\n",
              "2  299  64  91  73  ?\n",
              "3  300  33  35  26  ?\n",
              "4  301  11  82  30  ?"
            ]
          },
          "execution_count": 13,
          "metadata": {},
          "output_type": "execute_result"
        }
      ],
      "source": [
        "dataTest.head(5)"
      ]
    },
    {
      "cell_type": "code",
      "execution_count": 14,
      "metadata": {
        "colab": {
          "base_uri": "https://localhost:8080/",
          "height": 206
        },
        "id": "KaRjhMW-3PRr",
        "outputId": "d06c5cf5-83ce-4c15-ae9d-a0b71b584ff5"
      },
      "outputs": [
        {
          "data": {
            "text/html": [
              "<div>\n",
              "<style scoped>\n",
              "    .dataframe tbody tr th:only-of-type {\n",
              "        vertical-align: middle;\n",
              "    }\n",
              "\n",
              "    .dataframe tbody tr th {\n",
              "        vertical-align: top;\n",
              "    }\n",
              "\n",
              "    .dataframe thead th {\n",
              "        text-align: right;\n",
              "    }\n",
              "</style>\n",
              "<table border=\"1\" class=\"dataframe\">\n",
              "  <thead>\n",
              "    <tr style=\"text-align: right;\">\n",
              "      <th></th>\n",
              "      <th>id</th>\n",
              "      <th>x1</th>\n",
              "      <th>x2</th>\n",
              "      <th>x3</th>\n",
              "      <th>y</th>\n",
              "    </tr>\n",
              "  </thead>\n",
              "  <tbody>\n",
              "    <tr>\n",
              "      <th>0</th>\n",
              "      <td>297</td>\n",
              "      <td>82</td>\n",
              "      <td>73</td>\n",
              "      <td>78</td>\n",
              "      <td>1</td>\n",
              "    </tr>\n",
              "    <tr>\n",
              "      <th>1</th>\n",
              "      <td>298</td>\n",
              "      <td>31</td>\n",
              "      <td>38</td>\n",
              "      <td>68</td>\n",
              "      <td>1</td>\n",
              "    </tr>\n",
              "    <tr>\n",
              "      <th>2</th>\n",
              "      <td>299</td>\n",
              "      <td>64</td>\n",
              "      <td>91</td>\n",
              "      <td>73</td>\n",
              "      <td>1</td>\n",
              "    </tr>\n",
              "    <tr>\n",
              "      <th>3</th>\n",
              "      <td>300</td>\n",
              "      <td>33</td>\n",
              "      <td>35</td>\n",
              "      <td>26</td>\n",
              "      <td>0</td>\n",
              "    </tr>\n",
              "    <tr>\n",
              "      <th>4</th>\n",
              "      <td>301</td>\n",
              "      <td>11</td>\n",
              "      <td>82</td>\n",
              "      <td>30</td>\n",
              "      <td>0</td>\n",
              "    </tr>\n",
              "  </tbody>\n",
              "</table>\n",
              "</div>"
            ],
            "text/plain": [
              "    id  x1  x2  x3  y\n",
              "0  297  82  73  78  1\n",
              "1  298  31  38  68  1\n",
              "2  299  64  91  73  1\n",
              "3  300  33  35  26  0\n",
              "4  301  11  82  30  0"
            ]
          },
          "execution_count": 14,
          "metadata": {},
          "output_type": "execute_result"
        }
      ],
      "source": [
        "dataTruth.head(5)"
      ]
    },
    {
      "cell_type": "markdown",
      "metadata": {
        "id": "BpLePr053PRr"
      },
      "source": [
        "Min-Max Normalization\n",
        "\n",
        "<img src=\"https://drive.google.com/uc?export=view&id=1GYrk1-5V-zhQjU3qYT_DWoFwzfBi6wqM\" style=\"width: 650px; max-width: 100%; height: auto\" title=\"Click to enlarge picture\" />"
      ]
    },
    {
      "cell_type": "code",
      "execution_count": 15,
      "metadata": {
        "id": "fYaZy_f43PRr"
      },
      "outputs": [],
      "source": [
        "def normalizationMinMax(allData, columnTarget):\n",
        "    for column in columnTarget: \n",
        "        allData[column] = (allData[column] - allData[column].min()) / (allData[column].max() - allData[column].min()) # it is a dataframe variable\n",
        "    \n",
        "    return  allData"
      ]
    },
    {
      "cell_type": "code",
      "execution_count": 16,
      "metadata": {
        "id": "cLxVZ2H33PRs"
      },
      "outputs": [],
      "source": [
        "testStartID = dataTrain.index.stop # Since we will combine them to do normalization\n",
        "allData = pd.concat([dataTrain, dataTest]) # Combine them\n",
        "allData = normalizationMinMax(allData,['x1','x2','x3'])#columnTarget=[])\n",
        "normTrain, normTest = allData.iloc[:testStartID].drop('id', axis=1), allData.iloc[testStartID:].drop('id', axis=1)"
      ]
    },
    {
      "cell_type": "code",
      "execution_count": 17,
      "metadata": {
        "colab": {
          "base_uri": "https://localhost:8080/",
          "height": 424
        },
        "id": "wv5_79yw3PRs",
        "outputId": "b81f540b-6d9f-4ceb-e12b-4128e620eb00"
      },
      "outputs": [
        {
          "data": {
            "text/html": [
              "<div>\n",
              "<style scoped>\n",
              "    .dataframe tbody tr th:only-of-type {\n",
              "        vertical-align: middle;\n",
              "    }\n",
              "\n",
              "    .dataframe tbody tr th {\n",
              "        vertical-align: top;\n",
              "    }\n",
              "\n",
              "    .dataframe thead th {\n",
              "        text-align: right;\n",
              "    }\n",
              "</style>\n",
              "<table border=\"1\" class=\"dataframe\">\n",
              "  <thead>\n",
              "    <tr style=\"text-align: right;\">\n",
              "      <th></th>\n",
              "      <th>x1</th>\n",
              "      <th>x2</th>\n",
              "      <th>x3</th>\n",
              "      <th>y</th>\n",
              "    </tr>\n",
              "  </thead>\n",
              "  <tbody>\n",
              "    <tr>\n",
              "      <th>0</th>\n",
              "      <td>0.94</td>\n",
              "      <td>0.71</td>\n",
              "      <td>0.48</td>\n",
              "      <td>1</td>\n",
              "    </tr>\n",
              "    <tr>\n",
              "      <th>1</th>\n",
              "      <td>0.35</td>\n",
              "      <td>0.67</td>\n",
              "      <td>0.87</td>\n",
              "      <td>1</td>\n",
              "    </tr>\n",
              "    <tr>\n",
              "      <th>2</th>\n",
              "      <td>0.66</td>\n",
              "      <td>0.97</td>\n",
              "      <td>0.27</td>\n",
              "      <td>0</td>\n",
              "    </tr>\n",
              "    <tr>\n",
              "      <th>3</th>\n",
              "      <td>0.43</td>\n",
              "      <td>0.35</td>\n",
              "      <td>0.24</td>\n",
              "      <td>1</td>\n",
              "    </tr>\n",
              "    <tr>\n",
              "      <th>4</th>\n",
              "      <td>0.15</td>\n",
              "      <td>0.85</td>\n",
              "      <td>0.86</td>\n",
              "      <td>0</td>\n",
              "    </tr>\n",
              "    <tr>\n",
              "      <th>...</th>\n",
              "      <td>...</td>\n",
              "      <td>...</td>\n",
              "      <td>...</td>\n",
              "      <td>...</td>\n",
              "    </tr>\n",
              "    <tr>\n",
              "      <th>291</th>\n",
              "      <td>0.27</td>\n",
              "      <td>0.07</td>\n",
              "      <td>0.22</td>\n",
              "      <td>1</td>\n",
              "    </tr>\n",
              "    <tr>\n",
              "      <th>292</th>\n",
              "      <td>0.99</td>\n",
              "      <td>0.82</td>\n",
              "      <td>0.70</td>\n",
              "      <td>1</td>\n",
              "    </tr>\n",
              "    <tr>\n",
              "      <th>293</th>\n",
              "      <td>0.52</td>\n",
              "      <td>0.55</td>\n",
              "      <td>0.80</td>\n",
              "      <td>0</td>\n",
              "    </tr>\n",
              "    <tr>\n",
              "      <th>294</th>\n",
              "      <td>0.09</td>\n",
              "      <td>0.25</td>\n",
              "      <td>0.97</td>\n",
              "      <td>0</td>\n",
              "    </tr>\n",
              "    <tr>\n",
              "      <th>295</th>\n",
              "      <td>0.38</td>\n",
              "      <td>0.69</td>\n",
              "      <td>0.53</td>\n",
              "      <td>1</td>\n",
              "    </tr>\n",
              "  </tbody>\n",
              "</table>\n",
              "<p>296 rows × 4 columns</p>\n",
              "</div>"
            ],
            "text/plain": [
              "       x1    x2    x3  y\n",
              "0    0.94  0.71  0.48  1\n",
              "1    0.35  0.67  0.87  1\n",
              "2    0.66  0.97  0.27  0\n",
              "3    0.43  0.35  0.24  1\n",
              "4    0.15  0.85  0.86  0\n",
              "..    ...   ...   ... ..\n",
              "291  0.27  0.07  0.22  1\n",
              "292  0.99  0.82  0.70  1\n",
              "293  0.52  0.55  0.80  0\n",
              "294  0.09  0.25  0.97  0\n",
              "295  0.38  0.69  0.53  1\n",
              "\n",
              "[296 rows x 4 columns]"
            ]
          },
          "execution_count": 17,
          "metadata": {},
          "output_type": "execute_result"
        }
      ],
      "source": [
        "normTrain"
      ]
    },
    {
      "cell_type": "code",
      "execution_count": 18,
      "metadata": {
        "colab": {
          "base_uri": "https://localhost:8080/",
          "height": 363
        },
        "id": "8Jqb1ZHO3PRs",
        "outputId": "be7291cd-5046-45e7-8f1e-0e5f2ebc4021"
      },
      "outputs": [
        {
          "data": {
            "text/html": [
              "<div>\n",
              "<style scoped>\n",
              "    .dataframe tbody tr th:only-of-type {\n",
              "        vertical-align: middle;\n",
              "    }\n",
              "\n",
              "    .dataframe tbody tr th {\n",
              "        vertical-align: top;\n",
              "    }\n",
              "\n",
              "    .dataframe thead th {\n",
              "        text-align: right;\n",
              "    }\n",
              "</style>\n",
              "<table border=\"1\" class=\"dataframe\">\n",
              "  <thead>\n",
              "    <tr style=\"text-align: right;\">\n",
              "      <th></th>\n",
              "      <th>x1</th>\n",
              "      <th>x2</th>\n",
              "      <th>x3</th>\n",
              "      <th>y</th>\n",
              "    </tr>\n",
              "  </thead>\n",
              "  <tbody>\n",
              "    <tr>\n",
              "      <th>0</th>\n",
              "      <td>0.82</td>\n",
              "      <td>0.73</td>\n",
              "      <td>0.78</td>\n",
              "      <td>?</td>\n",
              "    </tr>\n",
              "    <tr>\n",
              "      <th>1</th>\n",
              "      <td>0.31</td>\n",
              "      <td>0.38</td>\n",
              "      <td>0.68</td>\n",
              "      <td>?</td>\n",
              "    </tr>\n",
              "    <tr>\n",
              "      <th>2</th>\n",
              "      <td>0.64</td>\n",
              "      <td>0.91</td>\n",
              "      <td>0.73</td>\n",
              "      <td>?</td>\n",
              "    </tr>\n",
              "    <tr>\n",
              "      <th>3</th>\n",
              "      <td>0.33</td>\n",
              "      <td>0.35</td>\n",
              "      <td>0.26</td>\n",
              "      <td>?</td>\n",
              "    </tr>\n",
              "    <tr>\n",
              "      <th>4</th>\n",
              "      <td>0.11</td>\n",
              "      <td>0.82</td>\n",
              "      <td>0.30</td>\n",
              "      <td>?</td>\n",
              "    </tr>\n",
              "    <tr>\n",
              "      <th>5</th>\n",
              "      <td>0.88</td>\n",
              "      <td>0.26</td>\n",
              "      <td>0.36</td>\n",
              "      <td>?</td>\n",
              "    </tr>\n",
              "    <tr>\n",
              "      <th>6</th>\n",
              "      <td>0.22</td>\n",
              "      <td>0.46</td>\n",
              "      <td>0.46</td>\n",
              "      <td>?</td>\n",
              "    </tr>\n",
              "    <tr>\n",
              "      <th>7</th>\n",
              "      <td>0.14</td>\n",
              "      <td>0.54</td>\n",
              "      <td>0.12</td>\n",
              "      <td>?</td>\n",
              "    </tr>\n",
              "    <tr>\n",
              "      <th>8</th>\n",
              "      <td>0.34</td>\n",
              "      <td>0.54</td>\n",
              "      <td>0.67</td>\n",
              "      <td>?</td>\n",
              "    </tr>\n",
              "    <tr>\n",
              "      <th>9</th>\n",
              "      <td>0.98</td>\n",
              "      <td>0.96</td>\n",
              "      <td>0.60</td>\n",
              "      <td>?</td>\n",
              "    </tr>\n",
              "  </tbody>\n",
              "</table>\n",
              "</div>"
            ],
            "text/plain": [
              "     x1    x2    x3  y\n",
              "0  0.82  0.73  0.78  ?\n",
              "1  0.31  0.38  0.68  ?\n",
              "2  0.64  0.91  0.73  ?\n",
              "3  0.33  0.35  0.26  ?\n",
              "4  0.11  0.82  0.30  ?\n",
              "5  0.88  0.26  0.36  ?\n",
              "6  0.22  0.46  0.46  ?\n",
              "7  0.14  0.54  0.12  ?\n",
              "8  0.34  0.54  0.67  ?\n",
              "9  0.98  0.96  0.60  ?"
            ]
          },
          "execution_count": 18,
          "metadata": {},
          "output_type": "execute_result"
        }
      ],
      "source": [
        "normTest"
      ]
    },
    {
      "cell_type": "markdown",
      "metadata": {
        "id": "5D3fONmQ3PRs"
      },
      "source": [
        "Mean Normalization/Standardization\n",
        "\n",
        "<img src=\"https://drive.google.com/uc?export=view&id=1KM75uePbNN9WqJ9dWpthp0DCZnHb6cvQ\" style=\"width: 650px; max-width: 100%; height: auto\" title=\"Click to enlarge picture\" />"
      ]
    },
    {
      "cell_type": "code",
      "execution_count": 19,
      "metadata": {
        "id": "z0XSkQo73PRt"
      },
      "outputs": [],
      "source": [
        "def standardization(allData, columnTarget):\n",
        "    for column in columnTarget:\n",
        "        allData[column] = (allData[column]-allData[column].mean())/(allData[column].std())\n",
        "   \n",
        "    return allData"
      ]
    },
    {
      "cell_type": "code",
      "execution_count": 20,
      "metadata": {
        "id": "0HsJLOjQ3PRt"
      },
      "outputs": [],
      "source": [
        "testStartID = dataTrain.index.stop # Since we will combine them to do normalization\n",
        "allData = pd.concat([dataTrain, dataTest]) # Combine them\n",
        "allData = standardization(allData, columnTarget=['x1','x2','x3'])\n",
        "stdTrain, stdTest = allData.iloc[:testStartID].drop('id', axis=1), allData.iloc[testStartID:].drop('id', axis=1)"
      ]
    },
    {
      "cell_type": "code",
      "execution_count": 21,
      "metadata": {
        "colab": {
          "base_uri": "https://localhost:8080/",
          "height": 424
        },
        "id": "HcUODUVA3PRt",
        "outputId": "61da02d8-8a41-4b94-fc92-610392bdddc7"
      },
      "outputs": [
        {
          "data": {
            "text/html": [
              "<div>\n",
              "<style scoped>\n",
              "    .dataframe tbody tr th:only-of-type {\n",
              "        vertical-align: middle;\n",
              "    }\n",
              "\n",
              "    .dataframe tbody tr th {\n",
              "        vertical-align: top;\n",
              "    }\n",
              "\n",
              "    .dataframe thead th {\n",
              "        text-align: right;\n",
              "    }\n",
              "</style>\n",
              "<table border=\"1\" class=\"dataframe\">\n",
              "  <thead>\n",
              "    <tr style=\"text-align: right;\">\n",
              "      <th></th>\n",
              "      <th>x1</th>\n",
              "      <th>x2</th>\n",
              "      <th>x3</th>\n",
              "      <th>y</th>\n",
              "    </tr>\n",
              "  </thead>\n",
              "  <tbody>\n",
              "    <tr>\n",
              "      <th>0</th>\n",
              "      <td>1.495717</td>\n",
              "      <td>0.628762</td>\n",
              "      <td>0.036067</td>\n",
              "      <td>1</td>\n",
              "    </tr>\n",
              "    <tr>\n",
              "      <th>1</th>\n",
              "      <td>-0.466474</td>\n",
              "      <td>0.495728</td>\n",
              "      <td>1.368636</td>\n",
              "      <td>1</td>\n",
              "    </tr>\n",
              "    <tr>\n",
              "      <th>2</th>\n",
              "      <td>0.564507</td>\n",
              "      <td>1.493487</td>\n",
              "      <td>-0.681470</td>\n",
              "      <td>0</td>\n",
              "    </tr>\n",
              "    <tr>\n",
              "      <th>3</th>\n",
              "      <td>-0.200414</td>\n",
              "      <td>-0.568549</td>\n",
              "      <td>-0.783976</td>\n",
              "      <td>1</td>\n",
              "    </tr>\n",
              "    <tr>\n",
              "      <th>4</th>\n",
              "      <td>-1.131623</td>\n",
              "      <td>1.094383</td>\n",
              "      <td>1.334467</td>\n",
              "      <td>0</td>\n",
              "    </tr>\n",
              "    <tr>\n",
              "      <th>...</th>\n",
              "      <td>...</td>\n",
              "      <td>...</td>\n",
              "      <td>...</td>\n",
              "      <td>...</td>\n",
              "    </tr>\n",
              "    <tr>\n",
              "      <th>291</th>\n",
              "      <td>-0.732534</td>\n",
              "      <td>-1.499791</td>\n",
              "      <td>-0.852313</td>\n",
              "      <td>1</td>\n",
              "    </tr>\n",
              "    <tr>\n",
              "      <th>292</th>\n",
              "      <td>1.662004</td>\n",
              "      <td>0.994607</td>\n",
              "      <td>0.787772</td>\n",
              "      <td>1</td>\n",
              "    </tr>\n",
              "    <tr>\n",
              "      <th>293</th>\n",
              "      <td>0.098903</td>\n",
              "      <td>0.096624</td>\n",
              "      <td>1.129457</td>\n",
              "      <td>0</td>\n",
              "    </tr>\n",
              "    <tr>\n",
              "      <th>294</th>\n",
              "      <td>-1.331168</td>\n",
              "      <td>-0.901135</td>\n",
              "      <td>1.710320</td>\n",
              "      <td>0</td>\n",
              "    </tr>\n",
              "    <tr>\n",
              "      <th>295</th>\n",
              "      <td>-0.366702</td>\n",
              "      <td>0.562245</td>\n",
              "      <td>0.206909</td>\n",
              "      <td>1</td>\n",
              "    </tr>\n",
              "  </tbody>\n",
              "</table>\n",
              "<p>296 rows × 4 columns</p>\n",
              "</div>"
            ],
            "text/plain": [
              "           x1        x2        x3  y\n",
              "0    1.495717  0.628762  0.036067  1\n",
              "1   -0.466474  0.495728  1.368636  1\n",
              "2    0.564507  1.493487 -0.681470  0\n",
              "3   -0.200414 -0.568549 -0.783976  1\n",
              "4   -1.131623  1.094383  1.334467  0\n",
              "..        ...       ...       ... ..\n",
              "291 -0.732534 -1.499791 -0.852313  1\n",
              "292  1.662004  0.994607  0.787772  1\n",
              "293  0.098903  0.096624  1.129457  0\n",
              "294 -1.331168 -0.901135  1.710320  0\n",
              "295 -0.366702  0.562245  0.206909  1\n",
              "\n",
              "[296 rows x 4 columns]"
            ]
          },
          "execution_count": 21,
          "metadata": {},
          "output_type": "execute_result"
        }
      ],
      "source": [
        "stdTrain"
      ]
    },
    {
      "cell_type": "code",
      "execution_count": 22,
      "metadata": {
        "colab": {
          "base_uri": "https://localhost:8080/",
          "height": 363
        },
        "id": "URw2njEc3PRu",
        "outputId": "c4906ecd-15bd-4fab-a3b8-788bd23c95e9"
      },
      "outputs": [
        {
          "data": {
            "text/html": [
              "<div>\n",
              "<style scoped>\n",
              "    .dataframe tbody tr th:only-of-type {\n",
              "        vertical-align: middle;\n",
              "    }\n",
              "\n",
              "    .dataframe tbody tr th {\n",
              "        vertical-align: top;\n",
              "    }\n",
              "\n",
              "    .dataframe thead th {\n",
              "        text-align: right;\n",
              "    }\n",
              "</style>\n",
              "<table border=\"1\" class=\"dataframe\">\n",
              "  <thead>\n",
              "    <tr style=\"text-align: right;\">\n",
              "      <th></th>\n",
              "      <th>x1</th>\n",
              "      <th>x2</th>\n",
              "      <th>x3</th>\n",
              "      <th>y</th>\n",
              "    </tr>\n",
              "  </thead>\n",
              "  <tbody>\n",
              "    <tr>\n",
              "      <th>0</th>\n",
              "      <td>1.096627</td>\n",
              "      <td>0.695280</td>\n",
              "      <td>1.061120</td>\n",
              "      <td>?</td>\n",
              "    </tr>\n",
              "    <tr>\n",
              "      <th>1</th>\n",
              "      <td>-0.599504</td>\n",
              "      <td>-0.468773</td>\n",
              "      <td>0.719435</td>\n",
              "      <td>?</td>\n",
              "    </tr>\n",
              "    <tr>\n",
              "      <th>2</th>\n",
              "      <td>0.497993</td>\n",
              "      <td>1.293935</td>\n",
              "      <td>0.890277</td>\n",
              "      <td>?</td>\n",
              "    </tr>\n",
              "    <tr>\n",
              "      <th>3</th>\n",
              "      <td>-0.532989</td>\n",
              "      <td>-0.568549</td>\n",
              "      <td>-0.715639</td>\n",
              "      <td>?</td>\n",
              "    </tr>\n",
              "    <tr>\n",
              "      <th>4</th>\n",
              "      <td>-1.264653</td>\n",
              "      <td>0.994607</td>\n",
              "      <td>-0.578965</td>\n",
              "      <td>?</td>\n",
              "    </tr>\n",
              "    <tr>\n",
              "      <th>5</th>\n",
              "      <td>1.296172</td>\n",
              "      <td>-0.867877</td>\n",
              "      <td>-0.373955</td>\n",
              "      <td>?</td>\n",
              "    </tr>\n",
              "    <tr>\n",
              "      <th>6</th>\n",
              "      <td>-0.898821</td>\n",
              "      <td>-0.202704</td>\n",
              "      <td>-0.032270</td>\n",
              "      <td>?</td>\n",
              "    </tr>\n",
              "    <tr>\n",
              "      <th>7</th>\n",
              "      <td>-1.164881</td>\n",
              "      <td>0.063365</td>\n",
              "      <td>-1.193997</td>\n",
              "      <td>?</td>\n",
              "    </tr>\n",
              "    <tr>\n",
              "      <th>8</th>\n",
              "      <td>-0.499731</td>\n",
              "      <td>0.063365</td>\n",
              "      <td>0.685267</td>\n",
              "      <td>?</td>\n",
              "    </tr>\n",
              "    <tr>\n",
              "      <th>9</th>\n",
              "      <td>1.628746</td>\n",
              "      <td>1.460228</td>\n",
              "      <td>0.446088</td>\n",
              "      <td>?</td>\n",
              "    </tr>\n",
              "  </tbody>\n",
              "</table>\n",
              "</div>"
            ],
            "text/plain": [
              "         x1        x2        x3  y\n",
              "0  1.096627  0.695280  1.061120  ?\n",
              "1 -0.599504 -0.468773  0.719435  ?\n",
              "2  0.497993  1.293935  0.890277  ?\n",
              "3 -0.532989 -0.568549 -0.715639  ?\n",
              "4 -1.264653  0.994607 -0.578965  ?\n",
              "5  1.296172 -0.867877 -0.373955  ?\n",
              "6 -0.898821 -0.202704 -0.032270  ?\n",
              "7 -1.164881  0.063365 -1.193997  ?\n",
              "8 -0.499731  0.063365  0.685267  ?\n",
              "9  1.628746  1.460228  0.446088  ?"
            ]
          },
          "execution_count": 22,
          "metadata": {},
          "output_type": "execute_result"
        }
      ],
      "source": [
        "stdTest"
      ]
    },
    {
      "cell_type": "markdown",
      "metadata": {
        "id": "5EaKePZX3PRu"
      },
      "source": [
        "*If you look closely into the code for doing Min-Max and Mean Normalization, we need to combine them first. Why? Because we want the train and test data to have the same data distribution*"
      ]
    },
    {
      "cell_type": "markdown",
      "metadata": {
        "id": "pk9bkSGL3PRu"
      },
      "source": [
        "**Learning Phase**\n",
        "\n",
        "*We will be using original data in this case (not doing any normalization)*\n",
        "\n",
        "<img src=\"https://drive.google.com/uc?export=view&id=\n",
        "1a5rqj0tUAZ7CY64zMkszJgdXeyFN83eB\" style=\"width: 650px; max-width: 100%; height: auto\" title=\"Click to enlarge picture\" />"
      ]
    },
    {
      "cell_type": "markdown",
      "metadata": {
        "id": "anv6uX8c3PRu"
      },
      "source": [
        "Splitting data based on their truth value"
      ]
    },
    {
      "cell_type": "code",
      "execution_count": 23,
      "metadata": {
        "id": "1biPmHkr3PRu"
      },
      "outputs": [],
      "source": [
        "def splitTruth(dataTrain, columnTarget):\n",
        "  truthData = []\n",
        "  for truth in dataTrain[columnTarget].unique():\n",
        "    truthData.append(dataTrain.where(dataTrain[columnTarget]==truth).dropna())\n",
        "  return truthData\n",
        "\n",
        "yesData, noData = splitTruth(dataTrain, columnTarget='y')"
      ]
    },
    {
      "cell_type": "markdown",
      "metadata": {
        "id": "1P9qLkyk3PRv"
      },
      "source": [
        "Show 'yes' (y = 1) data"
      ]
    },
    {
      "cell_type": "code",
      "execution_count": 24,
      "metadata": {
        "colab": {
          "base_uri": "https://localhost:8080/",
          "height": 424
        },
        "id": "MaNN_q8x3PRv",
        "outputId": "947636fd-fd92-4cd5-c3eb-b8d017d8a11a"
      },
      "outputs": [
        {
          "data": {
            "text/html": [
              "<div>\n",
              "<style scoped>\n",
              "    .dataframe tbody tr th:only-of-type {\n",
              "        vertical-align: middle;\n",
              "    }\n",
              "\n",
              "    .dataframe tbody tr th {\n",
              "        vertical-align: top;\n",
              "    }\n",
              "\n",
              "    .dataframe thead th {\n",
              "        text-align: right;\n",
              "    }\n",
              "</style>\n",
              "<table border=\"1\" class=\"dataframe\">\n",
              "  <thead>\n",
              "    <tr style=\"text-align: right;\">\n",
              "      <th></th>\n",
              "      <th>id</th>\n",
              "      <th>x1</th>\n",
              "      <th>x2</th>\n",
              "      <th>x3</th>\n",
              "      <th>y</th>\n",
              "    </tr>\n",
              "  </thead>\n",
              "  <tbody>\n",
              "    <tr>\n",
              "      <th>0</th>\n",
              "      <td>1.0</td>\n",
              "      <td>94.0</td>\n",
              "      <td>71.0</td>\n",
              "      <td>48.0</td>\n",
              "      <td>1.0</td>\n",
              "    </tr>\n",
              "    <tr>\n",
              "      <th>1</th>\n",
              "      <td>2.0</td>\n",
              "      <td>35.0</td>\n",
              "      <td>67.0</td>\n",
              "      <td>87.0</td>\n",
              "      <td>1.0</td>\n",
              "    </tr>\n",
              "    <tr>\n",
              "      <th>3</th>\n",
              "      <td>4.0</td>\n",
              "      <td>43.0</td>\n",
              "      <td>35.0</td>\n",
              "      <td>24.0</td>\n",
              "      <td>1.0</td>\n",
              "    </tr>\n",
              "    <tr>\n",
              "      <th>6</th>\n",
              "      <td>7.0</td>\n",
              "      <td>36.0</td>\n",
              "      <td>17.0</td>\n",
              "      <td>11.0</td>\n",
              "      <td>1.0</td>\n",
              "    </tr>\n",
              "    <tr>\n",
              "      <th>10</th>\n",
              "      <td>11.0</td>\n",
              "      <td>69.0</td>\n",
              "      <td>29.0</td>\n",
              "      <td>9.0</td>\n",
              "      <td>1.0</td>\n",
              "    </tr>\n",
              "    <tr>\n",
              "      <th>...</th>\n",
              "      <td>...</td>\n",
              "      <td>...</td>\n",
              "      <td>...</td>\n",
              "      <td>...</td>\n",
              "      <td>...</td>\n",
              "    </tr>\n",
              "    <tr>\n",
              "      <th>284</th>\n",
              "      <td>285.0</td>\n",
              "      <td>96.0</td>\n",
              "      <td>78.0</td>\n",
              "      <td>24.0</td>\n",
              "      <td>1.0</td>\n",
              "    </tr>\n",
              "    <tr>\n",
              "      <th>289</th>\n",
              "      <td>290.0</td>\n",
              "      <td>10.0</td>\n",
              "      <td>22.0</td>\n",
              "      <td>87.0</td>\n",
              "      <td>1.0</td>\n",
              "    </tr>\n",
              "    <tr>\n",
              "      <th>291</th>\n",
              "      <td>292.0</td>\n",
              "      <td>27.0</td>\n",
              "      <td>7.0</td>\n",
              "      <td>22.0</td>\n",
              "      <td>1.0</td>\n",
              "    </tr>\n",
              "    <tr>\n",
              "      <th>292</th>\n",
              "      <td>293.0</td>\n",
              "      <td>99.0</td>\n",
              "      <td>82.0</td>\n",
              "      <td>70.0</td>\n",
              "      <td>1.0</td>\n",
              "    </tr>\n",
              "    <tr>\n",
              "      <th>295</th>\n",
              "      <td>296.0</td>\n",
              "      <td>38.0</td>\n",
              "      <td>69.0</td>\n",
              "      <td>53.0</td>\n",
              "      <td>1.0</td>\n",
              "    </tr>\n",
              "  </tbody>\n",
              "</table>\n",
              "<p>130 rows × 5 columns</p>\n",
              "</div>"
            ],
            "text/plain": [
              "        id    x1    x2    x3    y\n",
              "0      1.0  94.0  71.0  48.0  1.0\n",
              "1      2.0  35.0  67.0  87.0  1.0\n",
              "3      4.0  43.0  35.0  24.0  1.0\n",
              "6      7.0  36.0  17.0  11.0  1.0\n",
              "10    11.0  69.0  29.0   9.0  1.0\n",
              "..     ...   ...   ...   ...  ...\n",
              "284  285.0  96.0  78.0  24.0  1.0\n",
              "289  290.0  10.0  22.0  87.0  1.0\n",
              "291  292.0  27.0   7.0  22.0  1.0\n",
              "292  293.0  99.0  82.0  70.0  1.0\n",
              "295  296.0  38.0  69.0  53.0  1.0\n",
              "\n",
              "[130 rows x 5 columns]"
            ]
          },
          "execution_count": 24,
          "metadata": {},
          "output_type": "execute_result"
        }
      ],
      "source": [
        "yesData"
      ]
    },
    {
      "cell_type": "markdown",
      "metadata": {
        "id": "LqDrJKzt3PRv"
      },
      "source": [
        "Show 'no' (y = 0) data"
      ]
    },
    {
      "cell_type": "code",
      "execution_count": 25,
      "metadata": {
        "colab": {
          "base_uri": "https://localhost:8080/",
          "height": 424
        },
        "id": "ztoLTr2t3PRv",
        "outputId": "a048f2ef-78d2-42b5-ba2a-54bccbbfd6a4"
      },
      "outputs": [
        {
          "data": {
            "text/html": [
              "<div>\n",
              "<style scoped>\n",
              "    .dataframe tbody tr th:only-of-type {\n",
              "        vertical-align: middle;\n",
              "    }\n",
              "\n",
              "    .dataframe tbody tr th {\n",
              "        vertical-align: top;\n",
              "    }\n",
              "\n",
              "    .dataframe thead th {\n",
              "        text-align: right;\n",
              "    }\n",
              "</style>\n",
              "<table border=\"1\" class=\"dataframe\">\n",
              "  <thead>\n",
              "    <tr style=\"text-align: right;\">\n",
              "      <th></th>\n",
              "      <th>id</th>\n",
              "      <th>x1</th>\n",
              "      <th>x2</th>\n",
              "      <th>x3</th>\n",
              "      <th>y</th>\n",
              "    </tr>\n",
              "  </thead>\n",
              "  <tbody>\n",
              "    <tr>\n",
              "      <th>2</th>\n",
              "      <td>3.0</td>\n",
              "      <td>66.0</td>\n",
              "      <td>97.0</td>\n",
              "      <td>27.0</td>\n",
              "      <td>0.0</td>\n",
              "    </tr>\n",
              "    <tr>\n",
              "      <th>4</th>\n",
              "      <td>5.0</td>\n",
              "      <td>15.0</td>\n",
              "      <td>85.0</td>\n",
              "      <td>86.0</td>\n",
              "      <td>0.0</td>\n",
              "    </tr>\n",
              "    <tr>\n",
              "      <th>5</th>\n",
              "      <td>6.0</td>\n",
              "      <td>63.0</td>\n",
              "      <td>6.0</td>\n",
              "      <td>39.0</td>\n",
              "      <td>0.0</td>\n",
              "    </tr>\n",
              "    <tr>\n",
              "      <th>7</th>\n",
              "      <td>8.0</td>\n",
              "      <td>98.0</td>\n",
              "      <td>50.0</td>\n",
              "      <td>15.0</td>\n",
              "      <td>0.0</td>\n",
              "    </tr>\n",
              "    <tr>\n",
              "      <th>8</th>\n",
              "      <td>9.0</td>\n",
              "      <td>3.0</td>\n",
              "      <td>100.0</td>\n",
              "      <td>98.0</td>\n",
              "      <td>0.0</td>\n",
              "    </tr>\n",
              "    <tr>\n",
              "      <th>...</th>\n",
              "      <td>...</td>\n",
              "      <td>...</td>\n",
              "      <td>...</td>\n",
              "      <td>...</td>\n",
              "      <td>...</td>\n",
              "    </tr>\n",
              "    <tr>\n",
              "      <th>287</th>\n",
              "      <td>288.0</td>\n",
              "      <td>1.0</td>\n",
              "      <td>64.0</td>\n",
              "      <td>8.0</td>\n",
              "      <td>0.0</td>\n",
              "    </tr>\n",
              "    <tr>\n",
              "      <th>288</th>\n",
              "      <td>289.0</td>\n",
              "      <td>12.0</td>\n",
              "      <td>50.0</td>\n",
              "      <td>48.0</td>\n",
              "      <td>0.0</td>\n",
              "    </tr>\n",
              "    <tr>\n",
              "      <th>290</th>\n",
              "      <td>291.0</td>\n",
              "      <td>5.0</td>\n",
              "      <td>74.0</td>\n",
              "      <td>62.0</td>\n",
              "      <td>0.0</td>\n",
              "    </tr>\n",
              "    <tr>\n",
              "      <th>293</th>\n",
              "      <td>294.0</td>\n",
              "      <td>52.0</td>\n",
              "      <td>55.0</td>\n",
              "      <td>80.0</td>\n",
              "      <td>0.0</td>\n",
              "    </tr>\n",
              "    <tr>\n",
              "      <th>294</th>\n",
              "      <td>295.0</td>\n",
              "      <td>9.0</td>\n",
              "      <td>25.0</td>\n",
              "      <td>97.0</td>\n",
              "      <td>0.0</td>\n",
              "    </tr>\n",
              "  </tbody>\n",
              "</table>\n",
              "<p>166 rows × 5 columns</p>\n",
              "</div>"
            ],
            "text/plain": [
              "        id    x1     x2    x3    y\n",
              "2      3.0  66.0   97.0  27.0  0.0\n",
              "4      5.0  15.0   85.0  86.0  0.0\n",
              "5      6.0  63.0    6.0  39.0  0.0\n",
              "7      8.0  98.0   50.0  15.0  0.0\n",
              "8      9.0   3.0  100.0  98.0  0.0\n",
              "..     ...   ...    ...   ...  ...\n",
              "287  288.0   1.0   64.0   8.0  0.0\n",
              "288  289.0  12.0   50.0  48.0  0.0\n",
              "290  291.0   5.0   74.0  62.0  0.0\n",
              "293  294.0  52.0   55.0  80.0  0.0\n",
              "294  295.0   9.0   25.0  97.0  0.0\n",
              "\n",
              "[166 rows x 5 columns]"
            ]
          },
          "execution_count": 25,
          "metadata": {},
          "output_type": "execute_result"
        }
      ],
      "source": [
        "noData"
      ]
    },
    {
      "cell_type": "markdown",
      "metadata": {
        "id": "OCD_zKXi3PRv"
      },
      "source": [
        "Find data mean"
      ]
    },
    {
      "cell_type": "code",
      "execution_count": 26,
      "metadata": {
        "id": "3i3EaXUO3PR0"
      },
      "outputs": [],
      "source": [
        "def find_mean(yesData, noData, columnTarget):\n",
        "    yesMean = dict()\n",
        "    noMean = dict()\n",
        "    for column in columnTarget:\n",
        "        yesMean[column] = yesData[column].mean()  # it is a dataframe variable\n",
        "        noMean[column] = noData[column].mean() # it is a dataframe variable\n",
        "    return yesMean, noMean\n",
        "\n",
        "yesMean, noMean = find_mean(yesData, noData, columnTarget=['x1','x2','x3'])"
      ]
    },
    {
      "cell_type": "code",
      "execution_count": 27,
      "metadata": {
        "colab": {
          "base_uri": "https://localhost:8080/"
        },
        "id": "ofrg86UO3PR0",
        "outputId": "0f7aa85a-7acb-4e33-da87-cebfcf2b7c15"
      },
      "outputs": [
        {
          "name": "stdout",
          "output_type": "stream",
          "text": [
            "Mean Result\n",
            "1 : {'x1': 49.37692307692308, 'x2': 52.54615384615385, 'x3': 44.65384615384615}\n",
            "0 : {'x1': 48.83132530120482, 'x2': 51.295180722891565, 'x3': 48.57831325301205}\n"
          ]
        }
      ],
      "source": [
        "print(f\"Mean Result\\n1 : {yesMean}\\n0 : {noMean}\")"
      ]
    },
    {
      "cell_type": "markdown",
      "metadata": {
        "id": "Sy1bLXfB3PR0"
      },
      "source": [
        "Find data standard deviation"
      ]
    },
    {
      "cell_type": "code",
      "execution_count": 28,
      "metadata": {
        "id": "BidlkLid3PR0"
      },
      "outputs": [],
      "source": [
        "def find_std(yesData, noData, columnTarget):\n",
        "    yesStd = dict()\n",
        "    noStd = dict()\n",
        "    for column in columnTarget:\n",
        "        yesStd[column] = yesData[column].std() # it is a dataframe variable\n",
        "        noStd[column] = noData[column].std() # it is a dataframe variable\n",
        "\n",
        "    return yesStd, noStd\n",
        "\n",
        "yesStd, noStd = find_std(yesData, noData, columnTarget=['x1','x2','x3'])"
      ]
    },
    {
      "cell_type": "code",
      "execution_count": 29,
      "metadata": {
        "colab": {
          "base_uri": "https://localhost:8080/"
        },
        "id": "P7BoNZ1R3PR0",
        "outputId": "62a24dc8-5e76-4e17-9648-15c105a1cdd5"
      },
      "outputs": [
        {
          "name": "stdout",
          "output_type": "stream",
          "text": [
            "Standard Deviation Result\n",
            "1 : {'x1': 30.672631384355476, 'x2': 30.672592502572407, 'x3': 28.23811035755217}\n",
            "0 : {'x1': 29.636921803562995, 'x2': 29.974588848453084, 'x3': 30.40439381402378}\n"
          ]
        }
      ],
      "source": [
        "print(f\"Standard Deviation Result\\n1 : {yesStd}\\n0 : {noStd}\")"
      ]
    },
    {
      "cell_type": "markdown",
      "metadata": {
        "id": "rfXoAn5u3PR1"
      },
      "source": [
        "Calculate Probability\n",
        "\n",
        "<img src=\"https://drive.google.com/uc?export=view&id=\n",
        "1a5rqj0tUAZ7CY64zMkszJgdXeyFN83eB\" style=\"width: 650px; max-width: 100%; height: auto\" title=\"Click to enlarge picture\" />"
      ]
    },
    {
      "cell_type": "code",
      "execution_count": 30,
      "metadata": {
        "id": "fcY5f7B43PR1"
      },
      "outputs": [],
      "source": [
        "def calc_probality(mean, std, x):\n",
        "\n",
        "  exponent = math.exp(-((x-mean)**2/(2*std**2)))\n",
        "\n",
        "  return (1/(math.sqrt(2*math.pi)*std))*exponent"
      ]
    },
    {
      "cell_type": "markdown",
      "metadata": {
        "id": "iZ8yJSSH3PR1"
      },
      "source": [
        "Confussion Matrix"
      ]
    },
    {
      "cell_type": "code",
      "execution_count": 31,
      "metadata": {
        "id": "3syZ-_Iy3PR1"
      },
      "outputs": [],
      "source": [
        "def confussionMatrix(result):\n",
        "\n",
        "    TP = 0\n",
        "\n",
        "    FP = 0\n",
        "\n",
        "    TN = 0\n",
        "\n",
        "    FN = 0\n",
        "\n",
        " \n",
        "\n",
        "    x = True\n",
        "\n",
        " \n",
        "\n",
        "    for i in result:\n",
        "\n",
        "        if(i['Ground Truth'] == '?'):\n",
        "\n",
        "            x = False\n",
        "\n",
        "            break\n",
        "\n",
        "        elif((i['Prediction Result'] == 1)and(i['Prediction Result'] == i['Ground Truth'])):\n",
        "\n",
        "            TP += 1\n",
        "\n",
        "        elif((i['Prediction Result'] == 0)and(i['Prediction Result'] == i['Ground Truth'])):\n",
        "\n",
        "            TN += 1\n",
        "\n",
        "        elif((i['Prediction Result'] == 1)and(i['Prediction Result'] != i['Ground Truth'])):\n",
        "\n",
        "            FP += 1\n",
        "\n",
        "        elif((i['Prediction Result'] == 0)and(i['Prediction Result'] != i['Ground Truth'])):\n",
        "\n",
        "            FN += 1\n",
        "\n",
        "        \n",
        "\n",
        "    if(x):\n",
        "\n",
        "        print(f\"\\nTP : {TP} FN : {FP}\\nTN : {TN} FN : {FN}\")\n",
        "\n",
        "        print(f\"Accuracy : {((TP+TN)/(TP+TN+FP+FN))*100}%\")\n",
        "\n",
        "        print(f\"Precission : {((TP)/(TP+FP))*100}%\")\n",
        "\n",
        "        print(f\"Recall : {((TP)/(TP+FN))*100}%\")\n",
        "\n",
        "    else:\n",
        "\n",
        "        print(\"\\nCannot process the confussion matrix with unknown Ground Truth!\")"
      ]
    },
    {
      "cell_type": "markdown",
      "metadata": {
        "id": "oNUWFYzp3PR2"
      },
      "source": [
        "**Prediction**\n",
        "\n",
        "*if you want to use more than one column for the prediction, take a look at this slide for reference*\n",
        "\n",
        "<img src=\"https://drive.google.com/uc?export=view&id=\n",
        "1jaKm39Ve3P-TljB6xg_3N_nYtWuYv5z4\" style=\"width: 650px; max-width: 100%; height: auto\" title=\"Click to enlarge picture\" />"
      ]
    },
    {
      "cell_type": "code",
      "execution_count": 32,
      "metadata": {
        "id": "iLPuKR4o3PR2"
      },
      "outputs": [],
      "source": [
        "def doPrediction(yesMean, yesStd, noMean, noStd, target, columnTarget, truthColumn):\n",
        "\n",
        "  result = []\n",
        "\n",
        "  for i in range(len(target)):\n",
        "\n",
        "    yesResult = 1\n",
        "\n",
        "    noResult = 1\n",
        "\n",
        "    for column in columnTarget:\n",
        "\n",
        "      yesResult *= calc_probality(yesMean[column], yesStd[column], target[column].iloc[i])\n",
        "\n",
        "      noResult *= calc_probality(noMean[column], noStd[column], target[column].iloc[i])\n",
        "\n",
        "    result.append({'ID' : target['id'].iloc[i], 'Yes Probability' : \"{}\".format(yesResult), 'No Probability' : \"{}\".format(noResult),\n",
        "\n",
        "                        'Prediction Result' : int(yesResult > noResult), \n",
        "\n",
        "                       'Ground Truth' : target[truthColumn].iloc[i]})\n",
        "\n",
        "  return result"
      ]
    },
    {
      "cell_type": "markdown",
      "metadata": {
        "id": "GcQ6AGJj3PR2"
      },
      "source": [
        "Result"
      ]
    },
    {
      "cell_type": "code",
      "execution_count": 33,
      "metadata": {
        "colab": {
          "base_uri": "https://localhost:8080/"
        },
        "id": "vaOveu-t3PR2",
        "outputId": "ed631f73-8251-4fac-c997-5b5690aa28a0"
      },
      "outputs": [
        {
          "name": "stdout",
          "output_type": "stream",
          "text": [
            "{'ID': 297, 'Yes Probability': '5.412239152254762e-07', 'No Probability': '6.05380751888213e-07', 'Prediction Result': 0, 'Ground Truth': '?'}\n",
            "{'ID': 298, 'Yes Probability': '1.268183102276647e-06', 'No Probability': '1.4496949713556619e-06', 'Prediction Result': 0, 'Ground Truth': '?'}\n",
            "{'ID': 299, 'Yes Probability': '5.873929839001775e-07', 'No Probability': '6.211806302152328e-07', 'Prediction Result': 0, 'Ground Truth': '?'}\n",
            "{'ID': 300, 'Yes Probability': '1.4147241120682664e-06', 'No Probability': '1.3345162711554498e-06', 'Prediction Result': 1, 'Ground Truth': '?'}\n",
            "{'ID': 301, 'Yes Probability': '6.022124059052764e-07', 'No Probability': '5.110315422135354e-07', 'Prediction Result': 1, 'Ground Truth': '?'}\n",
            "{'ID': 302, 'Yes Probability': '7.096448526768554e-07', 'No Probability': '6.311279739428465e-07', 'Prediction Result': 1, 'Ground Truth': '?'}\n",
            "{'ID': 303, 'Yes Probability': '1.5668184807668288e-06', 'No Probability': '1.5306959624281995e-06', 'Prediction Result': 1, 'Ground Truth': '?'}\n",
            "{'ID': 304, 'Yes Probability': '6.290307872711389e-07', 'No Probability': '5.69134388093406e-07', 'Prediction Result': 1, 'Ground Truth': '?'}\n",
            "{'ID': 305, 'Yes Probability': '1.5393815128307137e-06', 'No Probability': '1.7192663995980988e-06', 'Prediction Result': 0, 'Ground Truth': '?'}\n",
            "{'ID': 306, 'Yes Probability': '2.1515847890696422e-07', 'No Probability': '1.8191907580346846e-07', 'Prediction Result': 1, 'Ground Truth': '?'}\n",
            "\n",
            "Cannot process the confussion matrix with unknown Ground Truth!\n"
          ]
        }
      ],
      "source": [
        "# result\n",
        "\n",
        "result = []\n",
        "\n",
        "target = dataTest \n",
        "\n",
        " \n",
        "\n",
        "result = doPrediction(yesMean, yesStd, noMean, noStd, target, columnTarget=['x1','x2','x3'], truthColumn='y')\n",
        "\n",
        " \n",
        "\n",
        "for p in result:\n",
        "\n",
        "    print(p)\n",
        "\n",
        " \n",
        "\n",
        "confussionMatrix(result)"
      ]
    },
    {
      "cell_type": "markdown",
      "metadata": {
        "id": "akypEF7F3PR3"
      },
      "source": [
        "*This code only provide a simplify version of Naive Bayes implementation. So, feel free to modify or fix it*"
      ]
    },
    {
      "cell_type": "markdown",
      "metadata": {
        "id": "Z-c5LyE73PR3"
      },
      "source": [
        "**Some Tips**\n",
        "\n",
        "Take a closer look at the y column (the truth value from the train data). How many 0 and 1 in the data? If the difference is too big, what should you do?\n",
        "\n",
        "Learn more from here :\n",
        "- https://lamduy-nguyen.medium.com/skewness-definition-problem-and-reducing-methods-a5ee25a8b6ca\n",
        "- https://www.analyticsvidhya.com/blog/2020/07/what-is-skewness-statistics/\n",
        "- https://towardsdatascience.com/avoid-mistakes-in-machine-learning-models-with-skewed-count-data-e3512b94d745\n",
        "\n",
        "\n",
        "\n",
        "Code References :\n",
        "- https://medium.com/analytics-vidhya/how-to-improve-naive-bayes-9fa698e14cba\n",
        "- https://www.kaggle.com/code/akshaysharma001/naive-bayes-with-hyperpameter-tuning\n",
        "- https://www.analyticsvidhya.com/blog/2021/01/gaussian-naive-bayes-with-hyperpameter-tuning/\n",
        "- Lecture Slides"
      ]
    },
    {
      "cell_type": "markdown",
      "metadata": {
        "id": "Hu3FVQCe3PR3"
      },
      "source": [
        "**Extra**"
      ]
    },
    {
      "cell_type": "markdown",
      "metadata": {
        "id": "oN3P2F3w3PR3"
      },
      "source": [
        "- Folding\n",
        "\n",
        "Fold your dataset to have training and validation dataset"
      ]
    },
    {
      "cell_type": "code",
      "execution_count": 34,
      "metadata": {
        "id": "5d6K0i-l3PR3"
      },
      "outputs": [],
      "source": [
        "def folding(dataset, trainingPercentage, location, shuffle:bool):\n",
        "\n",
        "    lengthTraining = int(len(dataset)*trainingPercentage/100)\n",
        "\n",
        "    # randomize the the data position\n",
        "\n",
        "    if(shuffle):\n",
        "\n",
        "        dataset = dataset.sample(frac=1).reset_index(drop=True)\n",
        "\n",
        "    train = []\n",
        "\n",
        "    validation = []\n",
        "\n",
        "    if(location == 'left'):\n",
        "\n",
        "        train, validation = dataset.iloc[:lengthTraining].reset_index(drop=True), dataset.iloc[lengthTraining:].reset_index(drop=True)\n",
        "\n",
        "    elif(location == 'right'):\n",
        "\n",
        "        validation,train = dataset.iloc[:abs(lengthTraining-len(dataset))].reset_index(drop=True), dataset.iloc[abs(lengthTraining-len(dataset)):].reset_index(drop=True)\n",
        "\n",
        "    elif(location == 'middle'):\n",
        "\n",
        "        train = dataset.iloc[int(abs(lengthTraining-len(dataset))/2):len(dataset)-int(abs(lengthTraining-len(dataset))/2)]\n",
        "\n",
        "        validation = pd.concat([dataset.iloc[:int(abs(lengthTraining-len(dataset))/2)],dataset.iloc[len(dataset)-int(abs(lengthTraining-len(dataset))/2):]])\n",
        "\n",
        "    return train, validation"
      ]
    },
    {
      "cell_type": "code",
      "execution_count": 35,
      "metadata": {
        "id": "h2q3UKDh3PR4"
      },
      "outputs": [],
      "source": [
        "trainData, validationData = folding(dataTrain.copy(), 70, 'left',shuffle=True)"
      ]
    },
    {
      "cell_type": "code",
      "execution_count": 36,
      "metadata": {
        "colab": {
          "base_uri": "https://localhost:8080/",
          "height": 424
        },
        "id": "RlBBG49h3PR4",
        "outputId": "58965bcb-b97e-4853-e5fe-62ebb3584933"
      },
      "outputs": [
        {
          "data": {
            "text/html": [
              "<div>\n",
              "<style scoped>\n",
              "    .dataframe tbody tr th:only-of-type {\n",
              "        vertical-align: middle;\n",
              "    }\n",
              "\n",
              "    .dataframe tbody tr th {\n",
              "        vertical-align: top;\n",
              "    }\n",
              "\n",
              "    .dataframe thead th {\n",
              "        text-align: right;\n",
              "    }\n",
              "</style>\n",
              "<table border=\"1\" class=\"dataframe\">\n",
              "  <thead>\n",
              "    <tr style=\"text-align: right;\">\n",
              "      <th></th>\n",
              "      <th>id</th>\n",
              "      <th>x1</th>\n",
              "      <th>x2</th>\n",
              "      <th>x3</th>\n",
              "      <th>y</th>\n",
              "    </tr>\n",
              "  </thead>\n",
              "  <tbody>\n",
              "    <tr>\n",
              "      <th>0</th>\n",
              "      <td>25</td>\n",
              "      <td>95</td>\n",
              "      <td>64</td>\n",
              "      <td>16</td>\n",
              "      <td>1</td>\n",
              "    </tr>\n",
              "    <tr>\n",
              "      <th>1</th>\n",
              "      <td>83</td>\n",
              "      <td>82</td>\n",
              "      <td>58</td>\n",
              "      <td>26</td>\n",
              "      <td>0</td>\n",
              "    </tr>\n",
              "    <tr>\n",
              "      <th>2</th>\n",
              "      <td>90</td>\n",
              "      <td>73</td>\n",
              "      <td>12</td>\n",
              "      <td>91</td>\n",
              "      <td>0</td>\n",
              "    </tr>\n",
              "    <tr>\n",
              "      <th>3</th>\n",
              "      <td>176</td>\n",
              "      <td>49</td>\n",
              "      <td>5</td>\n",
              "      <td>56</td>\n",
              "      <td>1</td>\n",
              "    </tr>\n",
              "    <tr>\n",
              "      <th>4</th>\n",
              "      <td>146</td>\n",
              "      <td>19</td>\n",
              "      <td>50</td>\n",
              "      <td>83</td>\n",
              "      <td>1</td>\n",
              "    </tr>\n",
              "    <tr>\n",
              "      <th>...</th>\n",
              "      <td>...</td>\n",
              "      <td>...</td>\n",
              "      <td>...</td>\n",
              "      <td>...</td>\n",
              "      <td>...</td>\n",
              "    </tr>\n",
              "    <tr>\n",
              "      <th>202</th>\n",
              "      <td>272</td>\n",
              "      <td>42</td>\n",
              "      <td>34</td>\n",
              "      <td>33</td>\n",
              "      <td>1</td>\n",
              "    </tr>\n",
              "    <tr>\n",
              "      <th>203</th>\n",
              "      <td>144</td>\n",
              "      <td>7</td>\n",
              "      <td>3</td>\n",
              "      <td>36</td>\n",
              "      <td>1</td>\n",
              "    </tr>\n",
              "    <tr>\n",
              "      <th>204</th>\n",
              "      <td>177</td>\n",
              "      <td>0</td>\n",
              "      <td>68</td>\n",
              "      <td>11</td>\n",
              "      <td>0</td>\n",
              "    </tr>\n",
              "    <tr>\n",
              "      <th>205</th>\n",
              "      <td>143</td>\n",
              "      <td>17</td>\n",
              "      <td>62</td>\n",
              "      <td>48</td>\n",
              "      <td>0</td>\n",
              "    </tr>\n",
              "    <tr>\n",
              "      <th>206</th>\n",
              "      <td>179</td>\n",
              "      <td>66</td>\n",
              "      <td>6</td>\n",
              "      <td>99</td>\n",
              "      <td>0</td>\n",
              "    </tr>\n",
              "  </tbody>\n",
              "</table>\n",
              "<p>207 rows × 5 columns</p>\n",
              "</div>"
            ],
            "text/plain": [
              "      id  x1  x2  x3  y\n",
              "0     25  95  64  16  1\n",
              "1     83  82  58  26  0\n",
              "2     90  73  12  91  0\n",
              "3    176  49   5  56  1\n",
              "4    146  19  50  83  1\n",
              "..   ...  ..  ..  .. ..\n",
              "202  272  42  34  33  1\n",
              "203  144   7   3  36  1\n",
              "204  177   0  68  11  0\n",
              "205  143  17  62  48  0\n",
              "206  179  66   6  99  0\n",
              "\n",
              "[207 rows x 5 columns]"
            ]
          },
          "execution_count": 36,
          "metadata": {},
          "output_type": "execute_result"
        }
      ],
      "source": [
        "trainData"
      ]
    },
    {
      "cell_type": "code",
      "execution_count": 37,
      "metadata": {
        "colab": {
          "base_uri": "https://localhost:8080/",
          "height": 424
        },
        "id": "nCREpQaS3PR4",
        "outputId": "5fc84edd-8b37-4257-cb14-ccfdc5691b6a"
      },
      "outputs": [
        {
          "data": {
            "text/html": [
              "<div>\n",
              "<style scoped>\n",
              "    .dataframe tbody tr th:only-of-type {\n",
              "        vertical-align: middle;\n",
              "    }\n",
              "\n",
              "    .dataframe tbody tr th {\n",
              "        vertical-align: top;\n",
              "    }\n",
              "\n",
              "    .dataframe thead th {\n",
              "        text-align: right;\n",
              "    }\n",
              "</style>\n",
              "<table border=\"1\" class=\"dataframe\">\n",
              "  <thead>\n",
              "    <tr style=\"text-align: right;\">\n",
              "      <th></th>\n",
              "      <th>id</th>\n",
              "      <th>x1</th>\n",
              "      <th>x2</th>\n",
              "      <th>x3</th>\n",
              "      <th>y</th>\n",
              "    </tr>\n",
              "  </thead>\n",
              "  <tbody>\n",
              "    <tr>\n",
              "      <th>0</th>\n",
              "      <td>21</td>\n",
              "      <td>7</td>\n",
              "      <td>48</td>\n",
              "      <td>39</td>\n",
              "      <td>1</td>\n",
              "    </tr>\n",
              "    <tr>\n",
              "      <th>1</th>\n",
              "      <td>115</td>\n",
              "      <td>54</td>\n",
              "      <td>13</td>\n",
              "      <td>70</td>\n",
              "      <td>0</td>\n",
              "    </tr>\n",
              "    <tr>\n",
              "      <th>2</th>\n",
              "      <td>55</td>\n",
              "      <td>68</td>\n",
              "      <td>46</td>\n",
              "      <td>16</td>\n",
              "      <td>1</td>\n",
              "    </tr>\n",
              "    <tr>\n",
              "      <th>3</th>\n",
              "      <td>39</td>\n",
              "      <td>23</td>\n",
              "      <td>21</td>\n",
              "      <td>49</td>\n",
              "      <td>1</td>\n",
              "    </tr>\n",
              "    <tr>\n",
              "      <th>4</th>\n",
              "      <td>16</td>\n",
              "      <td>77</td>\n",
              "      <td>16</td>\n",
              "      <td>54</td>\n",
              "      <td>1</td>\n",
              "    </tr>\n",
              "    <tr>\n",
              "      <th>...</th>\n",
              "      <td>...</td>\n",
              "      <td>...</td>\n",
              "      <td>...</td>\n",
              "      <td>...</td>\n",
              "      <td>...</td>\n",
              "    </tr>\n",
              "    <tr>\n",
              "      <th>84</th>\n",
              "      <td>185</td>\n",
              "      <td>95</td>\n",
              "      <td>72</td>\n",
              "      <td>21</td>\n",
              "      <td>0</td>\n",
              "    </tr>\n",
              "    <tr>\n",
              "      <th>85</th>\n",
              "      <td>88</td>\n",
              "      <td>96</td>\n",
              "      <td>44</td>\n",
              "      <td>28</td>\n",
              "      <td>1</td>\n",
              "    </tr>\n",
              "    <tr>\n",
              "      <th>86</th>\n",
              "      <td>161</td>\n",
              "      <td>84</td>\n",
              "      <td>100</td>\n",
              "      <td>28</td>\n",
              "      <td>1</td>\n",
              "    </tr>\n",
              "    <tr>\n",
              "      <th>87</th>\n",
              "      <td>107</td>\n",
              "      <td>66</td>\n",
              "      <td>96</td>\n",
              "      <td>97</td>\n",
              "      <td>0</td>\n",
              "    </tr>\n",
              "    <tr>\n",
              "      <th>88</th>\n",
              "      <td>52</td>\n",
              "      <td>47</td>\n",
              "      <td>80</td>\n",
              "      <td>10</td>\n",
              "      <td>1</td>\n",
              "    </tr>\n",
              "  </tbody>\n",
              "</table>\n",
              "<p>89 rows × 5 columns</p>\n",
              "</div>"
            ],
            "text/plain": [
              "     id  x1   x2  x3  y\n",
              "0    21   7   48  39  1\n",
              "1   115  54   13  70  0\n",
              "2    55  68   46  16  1\n",
              "3    39  23   21  49  1\n",
              "4    16  77   16  54  1\n",
              "..  ...  ..  ...  .. ..\n",
              "84  185  95   72  21  0\n",
              "85   88  96   44  28  1\n",
              "86  161  84  100  28  1\n",
              "87  107  66   96  97  0\n",
              "88   52  47   80  10  1\n",
              "\n",
              "[89 rows x 5 columns]"
            ]
          },
          "execution_count": 37,
          "metadata": {},
          "output_type": "execute_result"
        }
      ],
      "source": [
        "validationData"
      ]
    },
    {
      "cell_type": "markdown",
      "metadata": {
        "id": "yR8SzpI93PR4"
      },
      "source": [
        "Split the data into yes and no"
      ]
    },
    {
      "cell_type": "code",
      "execution_count": 38,
      "metadata": {
        "id": "eCpt4tlA3PR4"
      },
      "outputs": [],
      "source": [
        "# Split yes and no\n",
        "yesDataTrain, noDataTrain = splitTruth(trainData, columnTarget='y')"
      ]
    },
    {
      "cell_type": "code",
      "execution_count": 39,
      "metadata": {
        "colab": {
          "base_uri": "https://localhost:8080/",
          "height": 424
        },
        "id": "pLoPNyZi3PR5",
        "outputId": "fa1ff907-4da9-4ef7-b610-645d7dbc8ff8"
      },
      "outputs": [
        {
          "data": {
            "text/html": [
              "<div>\n",
              "<style scoped>\n",
              "    .dataframe tbody tr th:only-of-type {\n",
              "        vertical-align: middle;\n",
              "    }\n",
              "\n",
              "    .dataframe tbody tr th {\n",
              "        vertical-align: top;\n",
              "    }\n",
              "\n",
              "    .dataframe thead th {\n",
              "        text-align: right;\n",
              "    }\n",
              "</style>\n",
              "<table border=\"1\" class=\"dataframe\">\n",
              "  <thead>\n",
              "    <tr style=\"text-align: right;\">\n",
              "      <th></th>\n",
              "      <th>id</th>\n",
              "      <th>x1</th>\n",
              "      <th>x2</th>\n",
              "      <th>x3</th>\n",
              "      <th>y</th>\n",
              "    </tr>\n",
              "  </thead>\n",
              "  <tbody>\n",
              "    <tr>\n",
              "      <th>0</th>\n",
              "      <td>25.0</td>\n",
              "      <td>95.0</td>\n",
              "      <td>64.0</td>\n",
              "      <td>16.0</td>\n",
              "      <td>1.0</td>\n",
              "    </tr>\n",
              "    <tr>\n",
              "      <th>3</th>\n",
              "      <td>176.0</td>\n",
              "      <td>49.0</td>\n",
              "      <td>5.0</td>\n",
              "      <td>56.0</td>\n",
              "      <td>1.0</td>\n",
              "    </tr>\n",
              "    <tr>\n",
              "      <th>4</th>\n",
              "      <td>146.0</td>\n",
              "      <td>19.0</td>\n",
              "      <td>50.0</td>\n",
              "      <td>83.0</td>\n",
              "      <td>1.0</td>\n",
              "    </tr>\n",
              "    <tr>\n",
              "      <th>5</th>\n",
              "      <td>82.0</td>\n",
              "      <td>12.0</td>\n",
              "      <td>72.0</td>\n",
              "      <td>87.0</td>\n",
              "      <td>1.0</td>\n",
              "    </tr>\n",
              "    <tr>\n",
              "      <th>9</th>\n",
              "      <td>69.0</td>\n",
              "      <td>31.0</td>\n",
              "      <td>33.0</td>\n",
              "      <td>1.0</td>\n",
              "      <td>1.0</td>\n",
              "    </tr>\n",
              "    <tr>\n",
              "      <th>...</th>\n",
              "      <td>...</td>\n",
              "      <td>...</td>\n",
              "      <td>...</td>\n",
              "      <td>...</td>\n",
              "      <td>...</td>\n",
              "    </tr>\n",
              "    <tr>\n",
              "      <th>195</th>\n",
              "      <td>22.0</td>\n",
              "      <td>86.0</td>\n",
              "      <td>43.0</td>\n",
              "      <td>47.0</td>\n",
              "      <td>1.0</td>\n",
              "    </tr>\n",
              "    <tr>\n",
              "      <th>199</th>\n",
              "      <td>113.0</td>\n",
              "      <td>77.0</td>\n",
              "      <td>91.0</td>\n",
              "      <td>71.0</td>\n",
              "      <td>1.0</td>\n",
              "    </tr>\n",
              "    <tr>\n",
              "      <th>200</th>\n",
              "      <td>244.0</td>\n",
              "      <td>33.0</td>\n",
              "      <td>82.0</td>\n",
              "      <td>96.0</td>\n",
              "      <td>1.0</td>\n",
              "    </tr>\n",
              "    <tr>\n",
              "      <th>202</th>\n",
              "      <td>272.0</td>\n",
              "      <td>42.0</td>\n",
              "      <td>34.0</td>\n",
              "      <td>33.0</td>\n",
              "      <td>1.0</td>\n",
              "    </tr>\n",
              "    <tr>\n",
              "      <th>203</th>\n",
              "      <td>144.0</td>\n",
              "      <td>7.0</td>\n",
              "      <td>3.0</td>\n",
              "      <td>36.0</td>\n",
              "      <td>1.0</td>\n",
              "    </tr>\n",
              "  </tbody>\n",
              "</table>\n",
              "<p>90 rows × 5 columns</p>\n",
              "</div>"
            ],
            "text/plain": [
              "        id    x1    x2    x3    y\n",
              "0     25.0  95.0  64.0  16.0  1.0\n",
              "3    176.0  49.0   5.0  56.0  1.0\n",
              "4    146.0  19.0  50.0  83.0  1.0\n",
              "5     82.0  12.0  72.0  87.0  1.0\n",
              "9     69.0  31.0  33.0   1.0  1.0\n",
              "..     ...   ...   ...   ...  ...\n",
              "195   22.0  86.0  43.0  47.0  1.0\n",
              "199  113.0  77.0  91.0  71.0  1.0\n",
              "200  244.0  33.0  82.0  96.0  1.0\n",
              "202  272.0  42.0  34.0  33.0  1.0\n",
              "203  144.0   7.0   3.0  36.0  1.0\n",
              "\n",
              "[90 rows x 5 columns]"
            ]
          },
          "execution_count": 39,
          "metadata": {},
          "output_type": "execute_result"
        }
      ],
      "source": [
        "yesDataTrain"
      ]
    },
    {
      "cell_type": "code",
      "execution_count": 40,
      "metadata": {
        "colab": {
          "base_uri": "https://localhost:8080/",
          "height": 424
        },
        "id": "6moTn_JC3PR5",
        "outputId": "949cec24-6c61-4142-a690-bccf4ede0f15"
      },
      "outputs": [
        {
          "data": {
            "text/html": [
              "<div>\n",
              "<style scoped>\n",
              "    .dataframe tbody tr th:only-of-type {\n",
              "        vertical-align: middle;\n",
              "    }\n",
              "\n",
              "    .dataframe tbody tr th {\n",
              "        vertical-align: top;\n",
              "    }\n",
              "\n",
              "    .dataframe thead th {\n",
              "        text-align: right;\n",
              "    }\n",
              "</style>\n",
              "<table border=\"1\" class=\"dataframe\">\n",
              "  <thead>\n",
              "    <tr style=\"text-align: right;\">\n",
              "      <th></th>\n",
              "      <th>id</th>\n",
              "      <th>x1</th>\n",
              "      <th>x2</th>\n",
              "      <th>x3</th>\n",
              "      <th>y</th>\n",
              "    </tr>\n",
              "  </thead>\n",
              "  <tbody>\n",
              "    <tr>\n",
              "      <th>1</th>\n",
              "      <td>83.0</td>\n",
              "      <td>82.0</td>\n",
              "      <td>58.0</td>\n",
              "      <td>26.0</td>\n",
              "      <td>0.0</td>\n",
              "    </tr>\n",
              "    <tr>\n",
              "      <th>2</th>\n",
              "      <td>90.0</td>\n",
              "      <td>73.0</td>\n",
              "      <td>12.0</td>\n",
              "      <td>91.0</td>\n",
              "      <td>0.0</td>\n",
              "    </tr>\n",
              "    <tr>\n",
              "      <th>6</th>\n",
              "      <td>247.0</td>\n",
              "      <td>13.0</td>\n",
              "      <td>60.0</td>\n",
              "      <td>30.0</td>\n",
              "      <td>0.0</td>\n",
              "    </tr>\n",
              "    <tr>\n",
              "      <th>7</th>\n",
              "      <td>260.0</td>\n",
              "      <td>37.0</td>\n",
              "      <td>66.0</td>\n",
              "      <td>10.0</td>\n",
              "      <td>0.0</td>\n",
              "    </tr>\n",
              "    <tr>\n",
              "      <th>8</th>\n",
              "      <td>202.0</td>\n",
              "      <td>64.0</td>\n",
              "      <td>93.0</td>\n",
              "      <td>29.0</td>\n",
              "      <td>0.0</td>\n",
              "    </tr>\n",
              "    <tr>\n",
              "      <th>...</th>\n",
              "      <td>...</td>\n",
              "      <td>...</td>\n",
              "      <td>...</td>\n",
              "      <td>...</td>\n",
              "      <td>...</td>\n",
              "    </tr>\n",
              "    <tr>\n",
              "      <th>198</th>\n",
              "      <td>30.0</td>\n",
              "      <td>52.0</td>\n",
              "      <td>18.0</td>\n",
              "      <td>28.0</td>\n",
              "      <td>0.0</td>\n",
              "    </tr>\n",
              "    <tr>\n",
              "      <th>201</th>\n",
              "      <td>153.0</td>\n",
              "      <td>96.0</td>\n",
              "      <td>58.0</td>\n",
              "      <td>3.0</td>\n",
              "      <td>0.0</td>\n",
              "    </tr>\n",
              "    <tr>\n",
              "      <th>204</th>\n",
              "      <td>177.0</td>\n",
              "      <td>0.0</td>\n",
              "      <td>68.0</td>\n",
              "      <td>11.0</td>\n",
              "      <td>0.0</td>\n",
              "    </tr>\n",
              "    <tr>\n",
              "      <th>205</th>\n",
              "      <td>143.0</td>\n",
              "      <td>17.0</td>\n",
              "      <td>62.0</td>\n",
              "      <td>48.0</td>\n",
              "      <td>0.0</td>\n",
              "    </tr>\n",
              "    <tr>\n",
              "      <th>206</th>\n",
              "      <td>179.0</td>\n",
              "      <td>66.0</td>\n",
              "      <td>6.0</td>\n",
              "      <td>99.0</td>\n",
              "      <td>0.0</td>\n",
              "    </tr>\n",
              "  </tbody>\n",
              "</table>\n",
              "<p>117 rows × 5 columns</p>\n",
              "</div>"
            ],
            "text/plain": [
              "        id    x1    x2    x3    y\n",
              "1     83.0  82.0  58.0  26.0  0.0\n",
              "2     90.0  73.0  12.0  91.0  0.0\n",
              "6    247.0  13.0  60.0  30.0  0.0\n",
              "7    260.0  37.0  66.0  10.0  0.0\n",
              "8    202.0  64.0  93.0  29.0  0.0\n",
              "..     ...   ...   ...   ...  ...\n",
              "198   30.0  52.0  18.0  28.0  0.0\n",
              "201  153.0  96.0  58.0   3.0  0.0\n",
              "204  177.0   0.0  68.0  11.0  0.0\n",
              "205  143.0  17.0  62.0  48.0  0.0\n",
              "206  179.0  66.0   6.0  99.0  0.0\n",
              "\n",
              "[117 rows x 5 columns]"
            ]
          },
          "execution_count": 40,
          "metadata": {},
          "output_type": "execute_result"
        }
      ],
      "source": [
        "noDataTrain"
      ]
    },
    {
      "cell_type": "markdown",
      "metadata": {
        "id": "S2dVd9NA3PR5"
      },
      "source": [
        "Do prediction again after you made some tweaks"
      ]
    },
    {
      "cell_type": "code",
      "execution_count": 41,
      "metadata": {
        "colab": {
          "base_uri": "https://localhost:8080/"
        },
        "id": "33027pYJ3PR5",
        "outputId": "599cfa2d-abfd-490c-d708-c555c15fe6d9"
      },
      "outputs": [
        {
          "name": "stdout",
          "output_type": "stream",
          "text": [
            "{'ID': 21, 'Yes Probability': '9.769716638376048e-07', 'No Probability': '8.570745478128916e-07', 'Prediction Result': 1, 'Ground Truth': 1}\n",
            "{'ID': 115, 'Yes Probability': '6.797138542334919e-07', 'No Probability': '8.705253118552937e-07', 'Prediction Result': 0, 'Ground Truth': 0}\n",
            "{'ID': 55, 'Yes Probability': '1.145717759631844e-06', 'No Probability': '1.003979597421177e-06', 'Prediction Result': 1, 'Ground Truth': 1}\n",
            "{'ID': 39, 'Yes Probability': '1.0022978350746621e-06', 'No Probability': '1.0842009925665705e-06', 'Prediction Result': 0, 'Ground Truth': 1}\n",
            "{'ID': 16, 'Yes Probability': '6.782302674860077e-07', 'No Probability': '6.788939588103133e-07', 'Prediction Result': 0, 'Ground Truth': 1}\n",
            "{'ID': 175, 'Yes Probability': '1.4325030958132788e-06', 'No Probability': '1.4908403745148723e-06', 'Prediction Result': 0, 'Ground Truth': 1}\n",
            "{'ID': 24, 'Yes Probability': '3.1280113478887406e-07', 'No Probability': '2.528143053790523e-07', 'Prediction Result': 1, 'Ground Truth': 0}\n",
            "{'ID': 266, 'Yes Probability': '1.0287165922988244e-06', 'No Probability': '7.643771443444314e-07', 'Prediction Result': 1, 'Ground Truth': 1}\n",
            "{'ID': 124, 'Yes Probability': '5.817981346468743e-07', 'No Probability': '5.574752385345785e-07', 'Prediction Result': 1, 'Ground Truth': 0}\n",
            "{'ID': 86, 'Yes Probability': '1.9001702985186998e-06', 'No Probability': '1.7919841547721697e-06', 'Prediction Result': 1, 'Ground Truth': 0}\n",
            "{'ID': 100, 'Yes Probability': '1.1703425228347976e-07', 'No Probability': '1.6477082451666568e-07', 'Prediction Result': 0, 'Ground Truth': 1}\n",
            "{'ID': 245, 'Yes Probability': '8.78172734917134e-07', 'No Probability': '7.554318846704483e-07', 'Prediction Result': 1, 'Ground Truth': 0}\n",
            "{'ID': 104, 'Yes Probability': '2.3401616757620837e-07', 'No Probability': '1.848494083209456e-07', 'Prediction Result': 1, 'Ground Truth': 0}\n",
            "{'ID': 59, 'Yes Probability': '2.7927086590867323e-07', 'No Probability': '2.3705415828381577e-07', 'Prediction Result': 1, 'Ground Truth': 1}\n",
            "{'ID': 91, 'Yes Probability': '3.428327008821778e-07', 'No Probability': '2.787467351410133e-07', 'Prediction Result': 1, 'Ground Truth': 1}\n",
            "{'ID': 136, 'Yes Probability': '3.284626352035617e-07', 'No Probability': '4.1042557022056524e-07', 'Prediction Result': 0, 'Ground Truth': 0}\n",
            "{'ID': 167, 'Yes Probability': '8.59273503151639e-07', 'No Probability': '6.127125147205286e-07', 'Prediction Result': 1, 'Ground Truth': 0}\n",
            "{'ID': 194, 'Yes Probability': '6.213058038527996e-07', 'No Probability': '5.46970391482481e-07', 'Prediction Result': 1, 'Ground Truth': 1}\n",
            "{'ID': 49, 'Yes Probability': '1.9492388825362382e-07', 'No Probability': '2.487785041185345e-07', 'Prediction Result': 0, 'Ground Truth': 0}\n",
            "{'ID': 37, 'Yes Probability': '4.3274857633238206e-07', 'No Probability': '3.631447698359887e-07', 'Prediction Result': 1, 'Ground Truth': 1}\n",
            "{'ID': 117, 'Yes Probability': '2.717762730605554e-07', 'No Probability': '2.1861025866777556e-07', 'Prediction Result': 1, 'Ground Truth': 0}\n",
            "{'ID': 61, 'Yes Probability': '3.6283838748427167e-07', 'No Probability': '2.7296581079226214e-07', 'Prediction Result': 1, 'Ground Truth': 1}\n",
            "{'ID': 164, 'Yes Probability': '2.259184134719141e-06', 'No Probability': '2.2125090976419932e-06', 'Prediction Result': 1, 'Ground Truth': 0}\n",
            "{'ID': 213, 'Yes Probability': '4.014123371301107e-07', 'No Probability': '2.856074139645956e-07', 'Prediction Result': 1, 'Ground Truth': 0}\n",
            "{'ID': 228, 'Yes Probability': '1.0227432006784859e-06', 'No Probability': '1.0903703296029265e-06', 'Prediction Result': 0, 'Ground Truth': 0}\n",
            "{'ID': 45, 'Yes Probability': '6.016891547448696e-07', 'No Probability': '4.5534814654132643e-07', 'Prediction Result': 1, 'Ground Truth': 1}\n",
            "{'ID': 265, 'Yes Probability': '7.420285789394566e-07', 'No Probability': '8.533803740757259e-07', 'Prediction Result': 0, 'Ground Truth': 1}\n",
            "{'ID': 282, 'Yes Probability': '9.864236860311982e-08', 'No Probability': '1.2471159123754212e-07', 'Prediction Result': 0, 'Ground Truth': 1}\n",
            "{'ID': 263, 'Yes Probability': '1.3409787346680694e-06', 'No Probability': '1.1240121887345486e-06', 'Prediction Result': 1, 'Ground Truth': 0}\n",
            "{'ID': 195, 'Yes Probability': '1.227479896924325e-06', 'No Probability': '1.131359819645961e-06', 'Prediction Result': 1, 'Ground Truth': 1}\n",
            "{'ID': 165, 'Yes Probability': '8.306287314113879e-07', 'No Probability': '7.308886854324545e-07', 'Prediction Result': 1, 'Ground Truth': 0}\n",
            "{'ID': 154, 'Yes Probability': '6.49406380647915e-07', 'No Probability': '7.071012448506142e-07', 'Prediction Result': 0, 'Ground Truth': 1}\n",
            "{'ID': 112, 'Yes Probability': '9.388338767273025e-07', 'No Probability': '6.83307168569839e-07', 'Prediction Result': 1, 'Ground Truth': 0}\n",
            "{'ID': 248, 'Yes Probability': '3.1970573772861053e-07', 'No Probability': '2.4430904716331857e-07', 'Prediction Result': 1, 'Ground Truth': 0}\n",
            "{'ID': 218, 'Yes Probability': '8.406311318288411e-07', 'No Probability': '7.644902354249683e-07', 'Prediction Result': 1, 'Ground Truth': 1}\n",
            "{'ID': 40, 'Yes Probability': '1.7181509785034168e-07', 'No Probability': '3.0464328429849897e-07', 'Prediction Result': 0, 'Ground Truth': 1}\n",
            "{'ID': 10, 'Yes Probability': '1.2302314738039512e-07', 'No Probability': '2.2943014158915746e-07', 'Prediction Result': 0, 'Ground Truth': 0}\n",
            "{'ID': 229, 'Yes Probability': '4.5341461341490335e-07', 'No Probability': '3.0365925951921274e-07', 'Prediction Result': 1, 'Ground Truth': 0}\n",
            "{'ID': 122, 'Yes Probability': '9.120698018243941e-07', 'No Probability': '9.964020968065802e-07', 'Prediction Result': 0, 'Ground Truth': 0}\n",
            "{'ID': 12, 'Yes Probability': '5.843643101882344e-07', 'No Probability': '4.6033170232551235e-07', 'Prediction Result': 1, 'Ground Truth': 1}\n",
            "{'ID': 120, 'Yes Probability': '2.0106997484345987e-07', 'No Probability': '1.2698691785029721e-07', 'Prediction Result': 1, 'Ground Truth': 0}\n",
            "{'ID': 125, 'Yes Probability': '5.539272294055915e-08', 'No Probability': '9.149788770861685e-08', 'Prediction Result': 0, 'Ground Truth': 1}\n",
            "{'ID': 145, 'Yes Probability': '8.302236224018939e-07', 'No Probability': '8.549544791164443e-07', 'Prediction Result': 0, 'Ground Truth': 0}\n",
            "{'ID': 231, 'Yes Probability': '5.718265148163516e-07', 'No Probability': '4.477969594314505e-07', 'Prediction Result': 1, 'Ground Truth': 1}\n",
            "{'ID': 151, 'Yes Probability': '3.5669043461928457e-07', 'No Probability': '3.770304780265062e-07', 'Prediction Result': 0, 'Ground Truth': 1}\n",
            "{'ID': 238, 'Yes Probability': '1.360225509904678e-06', 'No Probability': '1.2019441184988309e-06', 'Prediction Result': 1, 'Ground Truth': 0}\n",
            "{'ID': 128, 'Yes Probability': '1.5468565262902606e-07', 'No Probability': '1.0131505538091349e-07', 'Prediction Result': 1, 'Ground Truth': 0}\n",
            "{'ID': 262, 'Yes Probability': '1.4952225983366578e-06', 'No Probability': '1.6968340784014015e-06', 'Prediction Result': 0, 'Ground Truth': 1}\n",
            "{'ID': 256, 'Yes Probability': '8.122835760226402e-07', 'No Probability': '7.493664849140496e-07', 'Prediction Result': 1, 'Ground Truth': 0}\n",
            "{'ID': 7, 'Yes Probability': '5.50034216974872e-07', 'No Probability': '6.144988935755062e-07', 'Prediction Result': 0, 'Ground Truth': 1}\n",
            "{'ID': 184, 'Yes Probability': '2.8313596474321376e-07', 'No Probability': '3.5008404035683964e-07', 'Prediction Result': 0, 'Ground Truth': 0}\n",
            "{'ID': 79, 'Yes Probability': '1.652830165709722e-06', 'No Probability': '1.518958037385713e-06', 'Prediction Result': 1, 'Ground Truth': 0}\n",
            "{'ID': 290, 'Yes Probability': '2.3168796897112287e-07', 'No Probability': '3.289396640458491e-07', 'Prediction Result': 0, 'Ground Truth': 1}\n",
            "{'ID': 57, 'Yes Probability': '1.2879419083227605e-07', 'No Probability': '1.4592495581542345e-07', 'Prediction Result': 0, 'Ground Truth': 0}\n",
            "{'ID': 289, 'Yes Probability': '1.2378237815759814e-06', 'No Probability': '1.1329228954264152e-06', 'Prediction Result': 1, 'Ground Truth': 0}\n",
            "{'ID': 279, 'Yes Probability': '1.8876034039837825e-06', 'No Probability': '1.9342019409910966e-06', 'Prediction Result': 0, 'Ground Truth': 0}\n",
            "{'ID': 129, 'Yes Probability': '4.21856319389559e-07', 'No Probability': '4.904692158253758e-07', 'Prediction Result': 0, 'Ground Truth': 1}\n",
            "{'ID': 114, 'Yes Probability': '1.01927035270415e-06', 'No Probability': '8.598721601058815e-07', 'Prediction Result': 1, 'Ground Truth': 1}\n",
            "{'ID': 178, 'Yes Probability': '8.524824524467301e-07', 'No Probability': '6.212545697315737e-07', 'Prediction Result': 1, 'Ground Truth': 1}\n",
            "{'ID': 60, 'Yes Probability': '1.7978962650463978e-06', 'No Probability': '1.9033921765086476e-06', 'Prediction Result': 0, 'Ground Truth': 0}\n",
            "{'ID': 182, 'Yes Probability': '1.9305343350022831e-07', 'No Probability': '2.162294990944106e-07', 'Prediction Result': 0, 'Ground Truth': 1}\n",
            "{'ID': 27, 'Yes Probability': '3.693978525461752e-07', 'No Probability': '5.964361502858718e-07', 'Prediction Result': 0, 'Ground Truth': 0}\n",
            "{'ID': 162, 'Yes Probability': '1.4662402629750003e-06', 'No Probability': '1.4371706652101425e-06', 'Prediction Result': 1, 'Ground Truth': 0}\n",
            "{'ID': 14, 'Yes Probability': '5.336816271785571e-07', 'No Probability': '5.526144522317797e-07', 'Prediction Result': 0, 'Ground Truth': 0}\n",
            "{'ID': 187, 'Yes Probability': '2.0382361850301412e-07', 'No Probability': '1.2905375417707768e-07', 'Prediction Result': 1, 'Ground Truth': 1}\n",
            "{'ID': 253, 'Yes Probability': '9.49517110547375e-08', 'No Probability': '1.0131700934774136e-07', 'Prediction Result': 0, 'Ground Truth': 0}\n",
            "{'ID': 219, 'Yes Probability': '6.838981530364539e-07', 'No Probability': '6.514132520478232e-07', 'Prediction Result': 1, 'Ground Truth': 0}\n",
            "{'ID': 198, 'Yes Probability': '3.421461031980446e-07', 'No Probability': '2.1520753818783987e-07', 'Prediction Result': 1, 'Ground Truth': 1}\n",
            "{'ID': 193, 'Yes Probability': '1.3562555585843242e-06', 'No Probability': '1.1601536969788921e-06', 'Prediction Result': 1, 'Ground Truth': 0}\n",
            "{'ID': 19, 'Yes Probability': '5.824678450130433e-07', 'No Probability': '4.030334030798226e-07', 'Prediction Result': 1, 'Ground Truth': 0}\n",
            "{'ID': 208, 'Yes Probability': '4.5430654110279306e-07', 'No Probability': '3.531796423082446e-07', 'Prediction Result': 1, 'Ground Truth': 1}\n",
            "{'ID': 46, 'Yes Probability': '3.239472520790656e-07', 'No Probability': '2.549925499157221e-07', 'Prediction Result': 1, 'Ground Truth': 0}\n",
            "{'ID': 201, 'Yes Probability': '3.0297787126351437e-07', 'No Probability': '2.0012987571420656e-07', 'Prediction Result': 1, 'Ground Truth': 0}\n",
            "{'ID': 133, 'Yes Probability': '1.2340536845909868e-06', 'No Probability': '1.0346126025088142e-06', 'Prediction Result': 1, 'Ground Truth': 1}\n",
            "{'ID': 207, 'Yes Probability': '1.349020730191811e-06', 'No Probability': '1.1730442081720715e-06', 'Prediction Result': 1, 'Ground Truth': 0}\n",
            "{'ID': 192, 'Yes Probability': '1.0183902813751393e-06', 'No Probability': '9.400746385005378e-07', 'Prediction Result': 1, 'Ground Truth': 0}\n",
            "{'ID': 155, 'Yes Probability': '3.678872728940947e-07', 'No Probability': '3.033622413142353e-07', 'Prediction Result': 1, 'Ground Truth': 1}\n",
            "{'ID': 13, 'Yes Probability': '4.886250248489969e-07', 'No Probability': '5.706663489076665e-07', 'Prediction Result': 0, 'Ground Truth': 0}\n",
            "{'ID': 111, 'Yes Probability': '2.5482476054535783e-07', 'No Probability': '2.0190326390963025e-07', 'Prediction Result': 1, 'Ground Truth': 0}\n",
            "{'ID': 92, 'Yes Probability': '2.311586840666618e-06', 'No Probability': '2.2545701677802028e-06', 'Prediction Result': 1, 'Ground Truth': 0}\n",
            "{'ID': 210, 'Yes Probability': '7.81257723061477e-08', 'No Probability': '1.0038966918267785e-07', 'Prediction Result': 0, 'Ground Truth': 0}\n",
            "{'ID': 234, 'Yes Probability': '5.82227377445991e-07', 'No Probability': '7.718575944710624e-07', 'Prediction Result': 0, 'Ground Truth': 1}\n",
            "{'ID': 288, 'Yes Probability': '3.0364072071426324e-07', 'No Probability': '2.5617648582589404e-07', 'Prediction Result': 1, 'Ground Truth': 0}\n",
            "{'ID': 157, 'Yes Probability': '2.476568527046861e-07', 'No Probability': '2.1807323453593548e-07', 'Prediction Result': 1, 'Ground Truth': 1}\n",
            "{'ID': 185, 'Yes Probability': '4.023384412390581e-07', 'No Probability': '2.631566912928239e-07', 'Prediction Result': 1, 'Ground Truth': 0}\n",
            "{'ID': 88, 'Yes Probability': '5.403338984960775e-07', 'No Probability': '3.762153084554999e-07', 'Prediction Result': 1, 'Ground Truth': 1}\n",
            "{'ID': 161, 'Yes Probability': '2.7449424374517687e-07', 'No Probability': '1.919699687882555e-07', 'Prediction Result': 1, 'Ground Truth': 1}\n",
            "{'ID': 107, 'Yes Probability': '1.367916606619212e-07', 'No Probability': '1.7706897846186172e-07', 'Prediction Result': 0, 'Ground Truth': 0}\n",
            "{'ID': 52, 'Yes Probability': '7.650483009904643e-07', 'No Probability': '6.793151980847902e-07', 'Prediction Result': 1, 'Ground Truth': 1}\n",
            "\n",
            "TP : 24 FN : 32\n",
            "TN : 17 FN : 16\n",
            "Accuracy : 46.06741573033708%\n",
            "Precission : 42.857142857142854%\n",
            "Recall : 60.0%\n"
          ]
        }
      ],
      "source": [
        "# Split yes and no\n",
        "yesDataTrain, noDataTrain = splitTruth(trainData, columnTarget='y')\n",
        "# Find mean\n",
        "yesMeanTrain, noMeanTrain = find_mean(yesDataTrain, noDataTrain, columnTarget=['x1','x2','x3'])\n",
        "# Find standard deviation\n",
        "yesStdTrain, noStdTrain = find_std(yesDataTrain, noDataTrain, ['x1','x2','x3'])\n",
        "result = []\n",
        "target = validationData # your ground truth dataa\n",
        "result = doPrediction(yesMeanTrain, yesStdTrain, noMeanTrain, noStdTrain, target, columnTarget=['x1','x2','x3'], truthColumn='y')\n",
        "for p in result:\n",
        "    print(p)\n",
        "confussionMatrix(result)"
      ]
    },
    {
      "cell_type": "markdown",
      "metadata": {
        "id": "v24uPjOM3PR6"
      },
      "source": [
        "Predict again the dataTest"
      ]
    },
    {
      "cell_type": "code",
      "execution_count": 42,
      "metadata": {
        "colab": {
          "base_uri": "https://localhost:8080/"
        },
        "id": "zSSC_GNa3PR6",
        "outputId": "e7c090b7-bf6b-4167-eb3f-2dee85795acf"
      },
      "outputs": [
        {
          "name": "stdout",
          "output_type": "stream",
          "text": [
            "{'ID': 297, 'Yes Probability': '5.268524612225597e-07', 'No Probability': '4.94843686376672e-07', 'Prediction Result': 1, 'Ground Truth': '?'}\n",
            "{'ID': 298, 'Yes Probability': '1.3863159669088493e-06', 'No Probability': '1.5744676250771555e-06', 'Prediction Result': 0, 'Ground Truth': '?'}\n",
            "{'ID': 299, 'Yes Probability': '5.757441650688193e-07', 'No Probability': '5.637356286638914e-07', 'Prediction Result': 1, 'Ground Truth': '?'}\n",
            "{'ID': 300, 'Yes Probability': '1.4884706577798395e-06', 'No Probability': '1.4612814710966184e-06', 'Prediction Result': 1, 'Ground Truth': '?'}\n",
            "{'ID': 301, 'Yes Probability': '6.362253952215626e-07', 'No Probability': '5.191417448826904e-07', 'Prediction Result': 1, 'Ground Truth': '?'}\n",
            "{'ID': 302, 'Yes Probability': '6.333812384875347e-07', 'No Probability': '5.179757448141553e-07', 'Prediction Result': 1, 'Ground Truth': '?'}\n",
            "{'ID': 303, 'Yes Probability': '1.7037778016842526e-06', 'No Probability': '1.6198166838352812e-06', 'Prediction Result': 1, 'Ground Truth': '?'}\n",
            "{'ID': 304, 'Yes Probability': '6.883106165775162e-07', 'No Probability': '6.242849871104368e-07', 'Prediction Result': 1, 'Ground Truth': '?'}\n",
            "{'ID': 305, 'Yes Probability': '1.6913146591229214e-06', 'No Probability': '1.7978432223815636e-06', 'Prediction Result': 0, 'Ground Truth': '?'}\n",
            "{'ID': 306, 'Yes Probability': '1.8009188845500607e-07', 'No Probability': '1.2236346576189755e-07', 'Prediction Result': 1, 'Ground Truth': '?'}\n",
            "\n",
            "Cannot process the confussion matrix with unknown Ground Truth!\n"
          ]
        }
      ],
      "source": [
        "result = []\n",
        "target = dataTest # your ground truth data\n",
        "result = doPrediction(yesMeanTrain, yesStdTrain, noMeanTrain, noStdTrain, target, columnTarget=['x1','x2','x3'], truthColumn='y')\n",
        "for p in result:\n",
        "    print(p)\n",
        "\n",
        "confussionMatrix(result)"
      ]
    },
    {
      "cell_type": "markdown",
      "metadata": {
        "id": "SffbUn_f3PR6"
      },
      "source": [
        "**Exercise**"
      ]
    },
    {
      "cell_type": "code",
      "execution_count": 3,
      "metadata": {
        "id": "YDuMmq6A3PR6"
      },
      "outputs": [
        {
          "ename": "NameError",
          "evalue": "name 'pd' is not defined",
          "output_type": "error",
          "traceback": [
            "\u001b[1;31m---------------------------------------------------------------------------\u001b[0m",
            "\u001b[1;31mNameError\u001b[0m                                 Traceback (most recent call last)",
            "\u001b[1;32mc:\\Users\\omen\\OneDrive - Telkom University\\Documents\\Folder baru\\1301213030_TyasNurKumala_NaiveBayesLab.ipynb Cell 70\u001b[0m in \u001b[0;36m<cell line: 1>\u001b[1;34m()\u001b[0m\n\u001b[1;32m----> <a href='vscode-notebook-cell:/c%3A/Users/omen/OneDrive%20-%20Telkom%20University/Documents/Folder%20baru/1301213030_TyasNurKumala_NaiveBayesLab.ipynb#Y126sZmlsZQ%3D%3D?line=0'>1</a>\u001b[0m exerciseData \u001b[39m=\u001b[39m pd\u001b[39m.\u001b[39mread_csv(\u001b[39m\"\u001b[39m\u001b[39mbroken.csv\u001b[39m\u001b[39m\"\u001b[39m)\n",
            "\u001b[1;31mNameError\u001b[0m: name 'pd' is not defined"
          ]
        }
      ],
      "source": [
        "exerciseData = pd.read_csv(\"broken.csv\") "
      ]
    },
    {
      "cell_type": "markdown",
      "metadata": {
        "id": "_5-qpGCi3PR6"
      },
      "source": [
        "Data Exploration"
      ]
    },
    {
      "cell_type": "code",
      "execution_count": 44,
      "metadata": {
        "colab": {
          "base_uri": "https://localhost:8080/"
        },
        "id": "6ksp4TAd3PR7",
        "outputId": "1eb5f6fe-cd29-402b-a6a0-8ff7cffdc6c0"
      },
      "outputs": [
        {
          "name": "stdout",
          "output_type": "stream",
          "text": [
            "<class 'pandas.core.frame.DataFrame'>\n",
            "RangeIndex: 995 entries, 0 to 994\n",
            "Data columns (total 3 columns):\n",
            " #   Column      Non-Null Count  Dtype\n",
            "---  ------      --------------  -----\n",
            " 0   Enggine     995 non-null    int64\n",
            " 1   Compressor  995 non-null    int64\n",
            " 2   Broken      995 non-null    int64\n",
            "dtypes: int64(3)\n",
            "memory usage: 23.4 KB\n"
          ]
        }
      ],
      "source": [
        "exerciseData.info()"
      ]
    },
    {
      "cell_type": "code",
      "execution_count": 45,
      "metadata": {
        "colab": {
          "base_uri": "https://localhost:8080/",
          "height": 300
        },
        "id": "37XLX8NH3PR7",
        "outputId": "c314070d-6184-42af-8196-d5d5763e29a5"
      },
      "outputs": [
        {
          "data": {
            "text/html": [
              "<div>\n",
              "<style scoped>\n",
              "    .dataframe tbody tr th:only-of-type {\n",
              "        vertical-align: middle;\n",
              "    }\n",
              "\n",
              "    .dataframe tbody tr th {\n",
              "        vertical-align: top;\n",
              "    }\n",
              "\n",
              "    .dataframe thead th {\n",
              "        text-align: right;\n",
              "    }\n",
              "</style>\n",
              "<table border=\"1\" class=\"dataframe\">\n",
              "  <thead>\n",
              "    <tr style=\"text-align: right;\">\n",
              "      <th></th>\n",
              "      <th>Enggine</th>\n",
              "      <th>Compressor</th>\n",
              "      <th>Broken</th>\n",
              "    </tr>\n",
              "  </thead>\n",
              "  <tbody>\n",
              "    <tr>\n",
              "      <th>count</th>\n",
              "      <td>995.000000</td>\n",
              "      <td>995.000000</td>\n",
              "      <td>995.000000</td>\n",
              "    </tr>\n",
              "    <tr>\n",
              "      <th>mean</th>\n",
              "      <td>44.382915</td>\n",
              "      <td>79.194975</td>\n",
              "      <td>0.501508</td>\n",
              "    </tr>\n",
              "    <tr>\n",
              "      <th>std</th>\n",
              "      <td>6.843398</td>\n",
              "      <td>9.351840</td>\n",
              "      <td>0.500249</td>\n",
              "    </tr>\n",
              "    <tr>\n",
              "      <th>min</th>\n",
              "      <td>20.000000</td>\n",
              "      <td>50.000000</td>\n",
              "      <td>0.000000</td>\n",
              "    </tr>\n",
              "    <tr>\n",
              "      <th>25%</th>\n",
              "      <td>40.000000</td>\n",
              "      <td>72.000000</td>\n",
              "      <td>0.000000</td>\n",
              "    </tr>\n",
              "    <tr>\n",
              "      <th>50%</th>\n",
              "      <td>45.000000</td>\n",
              "      <td>80.000000</td>\n",
              "      <td>1.000000</td>\n",
              "    </tr>\n",
              "    <tr>\n",
              "      <th>75%</th>\n",
              "      <td>50.000000</td>\n",
              "      <td>87.000000</td>\n",
              "      <td>1.000000</td>\n",
              "    </tr>\n",
              "    <tr>\n",
              "      <th>max</th>\n",
              "      <td>80.000000</td>\n",
              "      <td>100.000000</td>\n",
              "      <td>1.000000</td>\n",
              "    </tr>\n",
              "  </tbody>\n",
              "</table>\n",
              "</div>"
            ],
            "text/plain": [
              "          Enggine  Compressor      Broken\n",
              "count  995.000000  995.000000  995.000000\n",
              "mean    44.382915   79.194975    0.501508\n",
              "std      6.843398    9.351840    0.500249\n",
              "min     20.000000   50.000000    0.000000\n",
              "25%     40.000000   72.000000    0.000000\n",
              "50%     45.000000   80.000000    1.000000\n",
              "75%     50.000000   87.000000    1.000000\n",
              "max     80.000000  100.000000    1.000000"
            ]
          },
          "execution_count": 45,
          "metadata": {},
          "output_type": "execute_result"
        }
      ],
      "source": [
        "exerciseData.describe()"
      ]
    },
    {
      "cell_type": "code",
      "execution_count": 46,
      "metadata": {
        "colab": {
          "base_uri": "https://localhost:8080/",
          "height": 363
        },
        "id": "Jhnry0sQ3PR7",
        "outputId": "960a9d33-a633-407c-93c2-19e7a73bf350"
      },
      "outputs": [
        {
          "data": {
            "text/html": [
              "<div>\n",
              "<style scoped>\n",
              "    .dataframe tbody tr th:only-of-type {\n",
              "        vertical-align: middle;\n",
              "    }\n",
              "\n",
              "    .dataframe tbody tr th {\n",
              "        vertical-align: top;\n",
              "    }\n",
              "\n",
              "    .dataframe thead th {\n",
              "        text-align: right;\n",
              "    }\n",
              "</style>\n",
              "<table border=\"1\" class=\"dataframe\">\n",
              "  <thead>\n",
              "    <tr style=\"text-align: right;\">\n",
              "      <th></th>\n",
              "      <th>Enggine</th>\n",
              "      <th>Compressor</th>\n",
              "      <th>Broken</th>\n",
              "    </tr>\n",
              "  </thead>\n",
              "  <tbody>\n",
              "    <tr>\n",
              "      <th>0</th>\n",
              "      <td>80</td>\n",
              "      <td>95</td>\n",
              "      <td>0</td>\n",
              "    </tr>\n",
              "    <tr>\n",
              "      <th>1</th>\n",
              "      <td>69</td>\n",
              "      <td>92</td>\n",
              "      <td>1</td>\n",
              "    </tr>\n",
              "    <tr>\n",
              "      <th>2</th>\n",
              "      <td>45</td>\n",
              "      <td>63</td>\n",
              "      <td>1</td>\n",
              "    </tr>\n",
              "    <tr>\n",
              "      <th>3</th>\n",
              "      <td>45</td>\n",
              "      <td>80</td>\n",
              "      <td>0</td>\n",
              "    </tr>\n",
              "    <tr>\n",
              "      <th>4</th>\n",
              "      <td>47</td>\n",
              "      <td>73</td>\n",
              "      <td>0</td>\n",
              "    </tr>\n",
              "    <tr>\n",
              "      <th>5</th>\n",
              "      <td>45</td>\n",
              "      <td>82</td>\n",
              "      <td>1</td>\n",
              "    </tr>\n",
              "    <tr>\n",
              "      <th>6</th>\n",
              "      <td>40</td>\n",
              "      <td>85</td>\n",
              "      <td>0</td>\n",
              "    </tr>\n",
              "    <tr>\n",
              "      <th>7</th>\n",
              "      <td>30</td>\n",
              "      <td>63</td>\n",
              "      <td>1</td>\n",
              "    </tr>\n",
              "    <tr>\n",
              "      <th>8</th>\n",
              "      <td>65</td>\n",
              "      <td>65</td>\n",
              "      <td>1</td>\n",
              "    </tr>\n",
              "    <tr>\n",
              "      <th>9</th>\n",
              "      <td>45</td>\n",
              "      <td>82</td>\n",
              "      <td>0</td>\n",
              "    </tr>\n",
              "  </tbody>\n",
              "</table>\n",
              "</div>"
            ],
            "text/plain": [
              "   Enggine  Compressor  Broken\n",
              "0       80          95       0\n",
              "1       69          92       1\n",
              "2       45          63       1\n",
              "3       45          80       0\n",
              "4       47          73       0\n",
              "5       45          82       1\n",
              "6       40          85       0\n",
              "7       30          63       1\n",
              "8       65          65       1\n",
              "9       45          82       0"
            ]
          },
          "execution_count": 46,
          "metadata": {},
          "output_type": "execute_result"
        }
      ],
      "source": [
        "exerciseData.head(10)"
      ]
    },
    {
      "cell_type": "markdown",
      "metadata": {
        "id": "qBHpZsS-3PR7"
      },
      "source": [
        "I want to add id column"
      ]
    },
    {
      "cell_type": "code",
      "execution_count": 47,
      "metadata": {
        "id": "GYW3uWWk3PR7"
      },
      "outputs": [],
      "source": [
        "id = [i for i in range(len(exerciseData))]\n",
        "exerciseData['id'] = id"
      ]
    },
    {
      "cell_type": "markdown",
      "metadata": {
        "id": "B3A8h_kc3PR8"
      },
      "source": [
        "I choose your method for data scaling (Choose one : Original, Normalization, or Standardization)"
      ]
    },
    {
      "cell_type": "code",
      "execution_count": 48,
      "metadata": {
        "colab": {
          "base_uri": "https://localhost:8080/",
          "height": 206
        },
        "id": "3b7LsTX43PR8",
        "outputId": "d532796b-c80e-4fb1-c68b-3ea1a5bbf81c"
      },
      "outputs": [
        {
          "data": {
            "text/html": [
              "<div>\n",
              "<style scoped>\n",
              "    .dataframe tbody tr th:only-of-type {\n",
              "        vertical-align: middle;\n",
              "    }\n",
              "\n",
              "    .dataframe tbody tr th {\n",
              "        vertical-align: top;\n",
              "    }\n",
              "\n",
              "    .dataframe thead th {\n",
              "        text-align: right;\n",
              "    }\n",
              "</style>\n",
              "<table border=\"1\" class=\"dataframe\">\n",
              "  <thead>\n",
              "    <tr style=\"text-align: right;\">\n",
              "      <th></th>\n",
              "      <th>Enggine</th>\n",
              "      <th>Compressor</th>\n",
              "      <th>Broken</th>\n",
              "      <th>id</th>\n",
              "    </tr>\n",
              "  </thead>\n",
              "  <tbody>\n",
              "    <tr>\n",
              "      <th>0</th>\n",
              "      <td>5.204590</td>\n",
              "      <td>1.690044</td>\n",
              "      <td>0</td>\n",
              "      <td>0</td>\n",
              "    </tr>\n",
              "    <tr>\n",
              "      <th>1</th>\n",
              "      <td>3.597202</td>\n",
              "      <td>1.369252</td>\n",
              "      <td>1</td>\n",
              "      <td>1</td>\n",
              "    </tr>\n",
              "    <tr>\n",
              "      <th>2</th>\n",
              "      <td>0.090172</td>\n",
              "      <td>-1.731742</td>\n",
              "      <td>1</td>\n",
              "      <td>2</td>\n",
              "    </tr>\n",
              "    <tr>\n",
              "      <th>3</th>\n",
              "      <td>0.090172</td>\n",
              "      <td>0.086082</td>\n",
              "      <td>0</td>\n",
              "      <td>3</td>\n",
              "    </tr>\n",
              "    <tr>\n",
              "      <th>4</th>\n",
              "      <td>0.382425</td>\n",
              "      <td>-0.662434</td>\n",
              "      <td>0</td>\n",
              "      <td>4</td>\n",
              "    </tr>\n",
              "  </tbody>\n",
              "</table>\n",
              "</div>"
            ],
            "text/plain": [
              "    Enggine  Compressor  Broken  id\n",
              "0  5.204590    1.690044       0   0\n",
              "1  3.597202    1.369252       1   1\n",
              "2  0.090172   -1.731742       1   2\n",
              "3  0.090172    0.086082       0   3\n",
              "4  0.382425   -0.662434       0   4"
            ]
          },
          "execution_count": 48,
          "metadata": {},
          "output_type": "execute_result"
        }
      ],
      "source": [
        "rescaleData = standardization(exerciseData, columnTarget=['Enggine', 'Compressor'])\n",
        "rescaleData.head()"
      ]
    },
    {
      "cell_type": "markdown",
      "metadata": {
        "id": "hPle_fSX3PR8"
      },
      "source": [
        "Make **training** and **test** data"
      ]
    },
    {
      "cell_type": "code",
      "execution_count": 49,
      "metadata": {
        "colab": {
          "base_uri": "https://localhost:8080/",
          "height": 424
        },
        "id": "v7a1anwy3PR8",
        "outputId": "b9996c04-b3a8-4ba7-ba13-18e47d4c257b"
      },
      "outputs": [
        {
          "data": {
            "text/html": [
              "<div>\n",
              "<style scoped>\n",
              "    .dataframe tbody tr th:only-of-type {\n",
              "        vertical-align: middle;\n",
              "    }\n",
              "\n",
              "    .dataframe tbody tr th {\n",
              "        vertical-align: top;\n",
              "    }\n",
              "\n",
              "    .dataframe thead th {\n",
              "        text-align: right;\n",
              "    }\n",
              "</style>\n",
              "<table border=\"1\" class=\"dataframe\">\n",
              "  <thead>\n",
              "    <tr style=\"text-align: right;\">\n",
              "      <th></th>\n",
              "      <th>Enggine</th>\n",
              "      <th>Compressor</th>\n",
              "      <th>Broken</th>\n",
              "      <th>id</th>\n",
              "    </tr>\n",
              "  </thead>\n",
              "  <tbody>\n",
              "    <tr>\n",
              "      <th>0</th>\n",
              "      <td>0.090172</td>\n",
              "      <td>0.406874</td>\n",
              "      <td>0</td>\n",
              "      <td>804</td>\n",
              "    </tr>\n",
              "    <tr>\n",
              "      <th>1</th>\n",
              "      <td>0.820804</td>\n",
              "      <td>1.155390</td>\n",
              "      <td>0</td>\n",
              "      <td>446</td>\n",
              "    </tr>\n",
              "    <tr>\n",
              "      <th>2</th>\n",
              "      <td>-0.640459</td>\n",
              "      <td>1.155390</td>\n",
              "      <td>0</td>\n",
              "      <td>705</td>\n",
              "    </tr>\n",
              "    <tr>\n",
              "      <th>3</th>\n",
              "      <td>0.090172</td>\n",
              "      <td>-0.234710</td>\n",
              "      <td>1</td>\n",
              "      <td>228</td>\n",
              "    </tr>\n",
              "    <tr>\n",
              "      <th>4</th>\n",
              "      <td>-0.640459</td>\n",
              "      <td>-1.517880</td>\n",
              "      <td>1</td>\n",
              "      <td>37</td>\n",
              "    </tr>\n",
              "    <tr>\n",
              "      <th>...</th>\n",
              "      <td>...</td>\n",
              "      <td>...</td>\n",
              "      <td>...</td>\n",
              "      <td>...</td>\n",
              "    </tr>\n",
              "    <tr>\n",
              "      <th>791</th>\n",
              "      <td>0.820804</td>\n",
              "      <td>-1.304019</td>\n",
              "      <td>1</td>\n",
              "      <td>391</td>\n",
              "    </tr>\n",
              "    <tr>\n",
              "      <th>792</th>\n",
              "      <td>0.090172</td>\n",
              "      <td>0.620736</td>\n",
              "      <td>0</td>\n",
              "      <td>569</td>\n",
              "    </tr>\n",
              "    <tr>\n",
              "      <th>793</th>\n",
              "      <td>-0.640459</td>\n",
              "      <td>-1.197088</td>\n",
              "      <td>1</td>\n",
              "      <td>321</td>\n",
              "    </tr>\n",
              "    <tr>\n",
              "      <th>794</th>\n",
              "      <td>-0.640459</td>\n",
              "      <td>0.406874</td>\n",
              "      <td>1</td>\n",
              "      <td>581</td>\n",
              "    </tr>\n",
              "    <tr>\n",
              "      <th>795</th>\n",
              "      <td>-0.640459</td>\n",
              "      <td>1.476183</td>\n",
              "      <td>0</td>\n",
              "      <td>611</td>\n",
              "    </tr>\n",
              "  </tbody>\n",
              "</table>\n",
              "<p>796 rows × 4 columns</p>\n",
              "</div>"
            ],
            "text/plain": [
              "      Enggine  Compressor  Broken   id\n",
              "0    0.090172    0.406874       0  804\n",
              "1    0.820804    1.155390       0  446\n",
              "2   -0.640459    1.155390       0  705\n",
              "3    0.090172   -0.234710       1  228\n",
              "4   -0.640459   -1.517880       1   37\n",
              "..        ...         ...     ...  ...\n",
              "791  0.820804   -1.304019       1  391\n",
              "792  0.090172    0.620736       0  569\n",
              "793 -0.640459   -1.197088       1  321\n",
              "794 -0.640459    0.406874       1  581\n",
              "795 -0.640459    1.476183       0  611\n",
              "\n",
              "[796 rows x 4 columns]"
            ]
          },
          "execution_count": 49,
          "metadata": {},
          "output_type": "execute_result"
        }
      ],
      "source": [
        "trainData, testData = folding(rescaleData, trainingPercentage=80, location='left', shuffle=True)\n",
        "trainData"
      ]
    },
    {
      "cell_type": "markdown",
      "metadata": {
        "id": "vIb69JxB3PR9"
      },
      "source": [
        "Split each truth value"
      ]
    },
    {
      "cell_type": "code",
      "execution_count": 50,
      "metadata": {
        "colab": {
          "base_uri": "https://localhost:8080/",
          "height": 424
        },
        "id": "wcxmjfrw3PR9",
        "outputId": "ff11d093-2217-4a6c-bad9-70282d2bd8f0"
      },
      "outputs": [
        {
          "data": {
            "text/html": [
              "<div>\n",
              "<style scoped>\n",
              "    .dataframe tbody tr th:only-of-type {\n",
              "        vertical-align: middle;\n",
              "    }\n",
              "\n",
              "    .dataframe tbody tr th {\n",
              "        vertical-align: top;\n",
              "    }\n",
              "\n",
              "    .dataframe thead th {\n",
              "        text-align: right;\n",
              "    }\n",
              "</style>\n",
              "<table border=\"1\" class=\"dataframe\">\n",
              "  <thead>\n",
              "    <tr style=\"text-align: right;\">\n",
              "      <th></th>\n",
              "      <th>Enggine</th>\n",
              "      <th>Compressor</th>\n",
              "      <th>Broken</th>\n",
              "      <th>id</th>\n",
              "    </tr>\n",
              "  </thead>\n",
              "  <tbody>\n",
              "    <tr>\n",
              "      <th>0</th>\n",
              "      <td>0.090172</td>\n",
              "      <td>0.406874</td>\n",
              "      <td>0.0</td>\n",
              "      <td>804.0</td>\n",
              "    </tr>\n",
              "    <tr>\n",
              "      <th>1</th>\n",
              "      <td>0.820804</td>\n",
              "      <td>1.155390</td>\n",
              "      <td>0.0</td>\n",
              "      <td>446.0</td>\n",
              "    </tr>\n",
              "    <tr>\n",
              "      <th>2</th>\n",
              "      <td>-0.640459</td>\n",
              "      <td>1.155390</td>\n",
              "      <td>0.0</td>\n",
              "      <td>705.0</td>\n",
              "    </tr>\n",
              "    <tr>\n",
              "      <th>5</th>\n",
              "      <td>-0.640459</td>\n",
              "      <td>0.299944</td>\n",
              "      <td>0.0</td>\n",
              "      <td>699.0</td>\n",
              "    </tr>\n",
              "    <tr>\n",
              "      <th>7</th>\n",
              "      <td>-0.640459</td>\n",
              "      <td>0.620736</td>\n",
              "      <td>0.0</td>\n",
              "      <td>341.0</td>\n",
              "    </tr>\n",
              "    <tr>\n",
              "      <th>...</th>\n",
              "      <td>...</td>\n",
              "      <td>...</td>\n",
              "      <td>...</td>\n",
              "      <td>...</td>\n",
              "    </tr>\n",
              "    <tr>\n",
              "      <th>787</th>\n",
              "      <td>0.090172</td>\n",
              "      <td>0.620736</td>\n",
              "      <td>0.0</td>\n",
              "      <td>340.0</td>\n",
              "    </tr>\n",
              "    <tr>\n",
              "      <th>788</th>\n",
              "      <td>0.090172</td>\n",
              "      <td>0.620736</td>\n",
              "      <td>0.0</td>\n",
              "      <td>192.0</td>\n",
              "    </tr>\n",
              "    <tr>\n",
              "      <th>790</th>\n",
              "      <td>-0.640459</td>\n",
              "      <td>1.155390</td>\n",
              "      <td>0.0</td>\n",
              "      <td>104.0</td>\n",
              "    </tr>\n",
              "    <tr>\n",
              "      <th>792</th>\n",
              "      <td>0.090172</td>\n",
              "      <td>0.620736</td>\n",
              "      <td>0.0</td>\n",
              "      <td>569.0</td>\n",
              "    </tr>\n",
              "    <tr>\n",
              "      <th>795</th>\n",
              "      <td>-0.640459</td>\n",
              "      <td>1.476183</td>\n",
              "      <td>0.0</td>\n",
              "      <td>611.0</td>\n",
              "    </tr>\n",
              "  </tbody>\n",
              "</table>\n",
              "<p>389 rows × 4 columns</p>\n",
              "</div>"
            ],
            "text/plain": [
              "      Enggine  Compressor  Broken     id\n",
              "0    0.090172    0.406874     0.0  804.0\n",
              "1    0.820804    1.155390     0.0  446.0\n",
              "2   -0.640459    1.155390     0.0  705.0\n",
              "5   -0.640459    0.299944     0.0  699.0\n",
              "7   -0.640459    0.620736     0.0  341.0\n",
              "..        ...         ...     ...    ...\n",
              "787  0.090172    0.620736     0.0  340.0\n",
              "788  0.090172    0.620736     0.0  192.0\n",
              "790 -0.640459    1.155390     0.0  104.0\n",
              "792  0.090172    0.620736     0.0  569.0\n",
              "795 -0.640459    1.476183     0.0  611.0\n",
              "\n",
              "[389 rows x 4 columns]"
            ]
          },
          "execution_count": 50,
          "metadata": {},
          "output_type": "execute_result"
        }
      ],
      "source": [
        "yesData,noData = splitTruth(trainData, columnTarget='Broken')\n",
        "yesData"
      ]
    },
    {
      "cell_type": "markdown",
      "metadata": {
        "id": "uu275V7g3PSA"
      },
      "source": [
        "Find mean"
      ]
    },
    {
      "cell_type": "code",
      "execution_count": 51,
      "metadata": {
        "colab": {
          "base_uri": "https://localhost:8080/"
        },
        "id": "LeLNW7bJ3PSA",
        "outputId": "80bd6cc7-d175-4fb3-8fc7-0a03953f3f52"
      },
      "outputs": [
        {
          "data": {
            "text/plain": [
              "{'Enggine': -0.03116123736976531, 'Compressor': 0.8219530037349069}"
            ]
          },
          "execution_count": 51,
          "metadata": {},
          "output_type": "execute_result"
        }
      ],
      "source": [
        "yesMean, noMean = find_mean(yesData, noData, columnTarget=['Enggine','Compressor'])\n",
        "yesMean"
      ]
    },
    {
      "cell_type": "markdown",
      "metadata": {
        "id": "nxcdBPEo3PSA"
      },
      "source": [
        "Find standard deviation"
      ]
    },
    {
      "cell_type": "code",
      "execution_count": 52,
      "metadata": {
        "colab": {
          "base_uri": "https://localhost:8080/"
        },
        "id": "pVWs51Ky3PSB",
        "outputId": "d00f5625-e28a-4e2b-a2ea-4992a2a51e23"
      },
      "outputs": [
        {
          "data": {
            "text/plain": [
              "{'Enggine': 0.60544622374727, 'Compressor': 0.4856862406797067}"
            ]
          },
          "execution_count": 52,
          "metadata": {},
          "output_type": "execute_result"
        }
      ],
      "source": [
        "yesStd, noStd = find_std(yesData, noData, columnTarget=['Enggine','Compressor'])\n",
        "yesStd"
      ]
    },
    {
      "cell_type": "markdown",
      "metadata": {
        "id": "i9p6fiiC3PSB"
      },
      "source": [
        "Do prediction and Show the model performance"
      ]
    },
    {
      "cell_type": "code",
      "execution_count": 53,
      "metadata": {
        "colab": {
          "base_uri": "https://localhost:8080/"
        },
        "id": "M1lTX_p83PSB",
        "outputId": "f8831e5c-b06a-49ef-ba1d-ed7ab3a28b5d"
      },
      "outputs": [
        {
          "name": "stdout",
          "output_type": "stream",
          "text": [
            "{'ID': 667, 'Yes Probability': '0.0004957151858383593', 'No Probability': '0.016732390819559614', 'Prediction Result': 0, 'Ground Truth': 1}\n",
            "{'ID': 293, 'Yes Probability': '0.32607908714954364', 'No Probability': '0.009037526251823722', 'Prediction Result': 1, 'Ground Truth': 0}\n",
            "{'ID': 526, 'Yes Probability': '0.5302987333939329', 'No Probability': '0.0107340418103403', 'Prediction Result': 1, 'Ground Truth': 0}\n",
            "{'ID': 66, 'Yes Probability': '6.828208068833379e-06', 'No Probability': '0.003176068563420838', 'Prediction Result': 0, 'Ground Truth': 1}\n",
            "{'ID': 182, 'Yes Probability': '0.004385306077747119', 'No Probability': '0.06531170743289352', 'Prediction Result': 0, 'Ground Truth': 1}\n",
            "{'ID': 971, 'Yes Probability': '3.1411790686819123e-06', 'No Probability': '0.07950843557694554', 'Prediction Result': 0, 'Ground Truth': 1}\n",
            "{'ID': 105, 'Yes Probability': '0.4868517496121673', 'No Probability': '0.02141312664034532', 'Prediction Result': 1, 'Ground Truth': 0}\n",
            "{'ID': 98, 'Yes Probability': '4.2660506927522063e-07', 'No Probability': '0.05549120446715002', 'Prediction Result': 0, 'Ground Truth': 1}\n",
            "{'ID': 436, 'Yes Probability': '0.29773256403855547', 'No Probability': '0.05042285924663948', 'Prediction Result': 1, 'Ground Truth': 0}\n",
            "{'ID': 993, 'Yes Probability': '8.07873221039198e-09', 'No Probability': '0.03149013097420698', 'Prediction Result': 0, 'Ground Truth': 1}\n",
            "{'ID': 603, 'Yes Probability': '0.004969880126605622', 'No Probability': '0.1808794829725278', 'Prediction Result': 0, 'Ground Truth': 1}\n",
            "{'ID': 906, 'Yes Probability': '3.6337896304805826e-10', 'No Probability': '0.016179458954430372', 'Prediction Result': 0, 'Ground Truth': 1}\n",
            "{'ID': 779, 'Yes Probability': '0.20103116839229968', 'No Probability': '0.00901909996547237', 'Prediction Result': 1, 'Ground Truth': 0}\n",
            "{'ID': 146, 'Yes Probability': '0.01886222151039246', 'No Probability': '0.10942893432675628', 'Prediction Result': 0, 'Ground Truth': 1}\n",
            "{'ID': 7, 'Yes Probability': '1.5507380048055893e-09', 'No Probability': '0.01627882702083375', 'Prediction Result': 0, 'Ground Truth': 1}\n",
            "{'ID': 462, 'Yes Probability': '8.291296693942888e-05', 'No Probability': '0.09237696185574903', 'Prediction Result': 0, 'Ground Truth': 1}\n",
            "{'ID': 692, 'Yes Probability': '0.18307485306450091', 'No Probability': '0.042453525166497356', 'Prediction Result': 1, 'Ground Truth': 1}\n",
            "{'ID': 273, 'Yes Probability': '0.0003263861479498366', 'No Probability': '0.15155471069769139', 'Prediction Result': 0, 'Ground Truth': 1}\n",
            "{'ID': 188, 'Yes Probability': '0.010653759643387528', 'No Probability': '0.13555883299898502', 'Prediction Result': 0, 'Ground Truth': 1}\n",
            "{'ID': 702, 'Yes Probability': '0.13166299844142612', 'No Probability': '0.0006411064348650344', 'Prediction Result': 1, 'Ground Truth': 0}\n",
            "{'ID': 670, 'Yes Probability': '2.9763122469946987e-06', 'No Probability': '0.09316475689452927', 'Prediction Result': 0, 'Ground Truth': 1}\n",
            "{'ID': 60, 'Yes Probability': '0.16834090677966107', 'No Probability': '0.07918456047757837', 'Prediction Result': 1, 'Ground Truth': 0}\n",
            "{'ID': 989, 'Yes Probability': '9.376956844370235e-05', 'No Probability': '0.15919417223746238', 'Prediction Result': 0, 'Ground Truth': 1}\n",
            "{'ID': 348, 'Yes Probability': '0.010653759643387528', 'No Probability': '0.13555883299898502', 'Prediction Result': 0, 'Ground Truth': 1}\n",
            "{'ID': 141, 'Yes Probability': '0.16834090677966107', 'No Probability': '0.07918456047757837', 'Prediction Result': 1, 'Ground Truth': 0}\n",
            "{'ID': 589, 'Yes Probability': '0.1395759392612304', 'No Probability': '0.0326163457230136', 'Prediction Result': 1, 'Ground Truth': 0}\n",
            "{'ID': 576, 'Yes Probability': '0.06381642468113359', 'No Probability': '0.0665335089324224', 'Prediction Result': 0, 'Ground Truth': 0}\n",
            "{'ID': 111, 'Yes Probability': '0.20103116839229968', 'No Probability': '0.00901909996547237', 'Prediction Result': 1, 'Ground Truth': 0}\n",
            "{'ID': 772, 'Yes Probability': '0.5146424360210053', 'No Probability': '0.007331946999826844', 'Prediction Result': 1, 'Ground Truth': 0}\n",
            "{'ID': 630, 'Yes Probability': '0.16834090677966107', 'No Probability': '0.07918456047757837', 'Prediction Result': 1, 'Ground Truth': 0}\n",
            "{'ID': 689, 'Yes Probability': '0.1395759392612304', 'No Probability': '0.0326163457230136', 'Prediction Result': 1, 'Ground Truth': 0}\n",
            "{'ID': 841, 'Yes Probability': '0.29773256403855547', 'No Probability': '0.05042285924663948', 'Prediction Result': 1, 'Ground Truth': 0}\n",
            "{'ID': 28, 'Yes Probability': '0.07840574010042371', 'No Probability': '0.1130035397241886', 'Prediction Result': 0, 'Ground Truth': 0}\n",
            "{'ID': 366, 'Yes Probability': '0.15887829239896326', 'No Probability': '0.002675224143546036', 'Prediction Result': 1, 'Ground Truth': 0}\n",
            "{'ID': 553, 'Yes Probability': '0.2993636682378506', 'No Probability': '0.018028781475336132', 'Prediction Result': 1, 'Ground Truth': 0}\n",
            "{'ID': 539, 'Yes Probability': '2.9763122469946987e-06', 'No Probability': '0.09316475689452927', 'Prediction Result': 0, 'Ground Truth': 1}\n",
            "{'ID': 970, 'Yes Probability': '0.04821145243097999', 'No Probability': '0.09514332763475439', 'Prediction Result': 0, 'Ground Truth': 1}\n",
            "{'ID': 795, 'Yes Probability': '0.04821145243097999', 'No Probability': '0.09514332763475439', 'Prediction Result': 0, 'Ground Truth': 0}\n",
            "{'ID': 261, 'Yes Probability': '0.010653759643387528', 'No Probability': '0.13555883299898502', 'Prediction Result': 0, 'Ground Truth': 1}\n",
            "{'ID': 476, 'Yes Probability': '0.027281314782229095', 'No Probability': '6.808367492706465e-05', 'Prediction Result': 1, 'Ground Truth': 0}\n",
            "{'ID': 679, 'Yes Probability': '0.4868517496121673', 'No Probability': '0.02141312664034532', 'Prediction Result': 1, 'Ground Truth': 0}\n",
            "{'ID': 709, 'Yes Probability': '0.31645207725111796', 'No Probability': '0.006173132605472362', 'Prediction Result': 1, 'Ground Truth': 0}\n",
            "{'ID': 595, 'Yes Probability': '0.006568154270803325', 'No Probability': '0.1352824469830893', 'Prediction Result': 0, 'Ground Truth': 0}\n",
            "{'ID': 837, 'Yes Probability': '0.16834090677966107', 'No Probability': '0.07918456047757837', 'Prediction Result': 1, 'Ground Truth': 0}\n",
            "{'ID': 830, 'Yes Probability': '1.3892937397417098e-05', 'No Probability': '0.12135663510143421', 'Prediction Result': 0, 'Ground Truth': 1}\n",
            "{'ID': 239, 'Yes Probability': '0.32607908714954364', 'No Probability': '0.009037526251823722', 'Prediction Result': 1, 'Ground Truth': 0}\n",
            "{'ID': 703, 'Yes Probability': '0.00020122047458789158', 'No Probability': '0.15124571126362074', 'Prediction Result': 0, 'Ground Truth': 1}\n",
            "{'ID': 369, 'Yes Probability': '0.00023088218287636993', 'No Probability': '0.023878637189558585', 'Prediction Result': 0, 'Ground Truth': 1}\n",
            "{'ID': 373, 'Yes Probability': '0.029722864771284205', 'No Probability': '0.0949493433352272', 'Prediction Result': 0, 'Ground Truth': 1}\n",
            "{'ID': 423, 'Yes Probability': '0.31645207725111796', 'No Probability': '0.006173132605472362', 'Prediction Result': 1, 'Ground Truth': 0}\n",
            "{'ID': 734, 'Yes Probability': '0.5146424360210053', 'No Probability': '0.007331946999826844', 'Prediction Result': 1, 'Ground Truth': 0}\n",
            "{'ID': 94, 'Yes Probability': '0.4868517496121673', 'No Probability': '0.02141312664034532', 'Prediction Result': 1, 'Ground Truth': 0}\n",
            "{'ID': 626, 'Yes Probability': '0.0004957151858383593', 'No Probability': '0.016732390819559614', 'Prediction Result': 0, 'Ground Truth': 1}\n",
            "{'ID': 164, 'Yes Probability': '0.5302987333939329', 'No Probability': '0.0107340418103403', 'Prediction Result': 1, 'Ground Truth': 0}\n",
            "{'ID': 355, 'Yes Probability': '0.31645207725111796', 'No Probability': '0.006173132605472362', 'Prediction Result': 1, 'Ground Truth': 0}\n",
            "{'ID': 538, 'Yes Probability': '3.554714487668974e-05', 'No Probability': '0.1337602534720126', 'Prediction Result': 0, 'Ground Truth': 1}\n",
            "{'ID': 162, 'Yes Probability': '0.07840574010042371', 'No Probability': '0.1130035397241886', 'Prediction Result': 0, 'Ground Truth': 0}\n",
            "{'ID': 777, 'Yes Probability': '0.00020122047458789158', 'No Probability': '0.15124571126362074', 'Prediction Result': 0, 'Ground Truth': 1}\n",
            "{'ID': 87, 'Yes Probability': '0.2577057526335137', 'No Probability': '0.0026806897051111305', 'Prediction Result': 1, 'Ground Truth': 0}\n",
            "{'ID': 857, 'Yes Probability': '0.010653759643387528', 'No Probability': '0.13555883299898502', 'Prediction Result': 0, 'Ground Truth': 1}\n",
            "{'ID': 873, 'Yes Probability': '2.069232705197816e-10', 'No Probability': '0.0024026074888590194', 'Prediction Result': 0, 'Ground Truth': 1}\n",
            "{'ID': 585, 'Yes Probability': '0.5146424360210053', 'No Probability': '0.007331946999826844', 'Prediction Result': 1, 'Ground Truth': 0}\n",
            "{'ID': 562, 'Yes Probability': '0.4868517496121673', 'No Probability': '0.02141312664034532', 'Prediction Result': 1, 'Ground Truth': 0}\n",
            "{'ID': 858, 'Yes Probability': '0.3681864080800624', 'No Probability': '0.03881819915863473', 'Prediction Result': 1, 'Ground Truth': 1}\n",
            "{'ID': 437, 'Yes Probability': '3.6648083796610376e-05', 'No Probability': '0.14443206086282478', 'Prediction Result': 0, 'Ground Truth': 1}\n",
            "{'ID': 803, 'Yes Probability': '0.014836775978909792', 'No Probability': '0.039709945971900855', 'Prediction Result': 0, 'Ground Truth': 1}\n",
            "{'ID': 404, 'Yes Probability': '0.0015219277480194087', 'No Probability': '0.1557270013121586', 'Prediction Result': 0, 'Ground Truth': 1}\n",
            "{'ID': 695, 'Yes Probability': '0.01732608887665586', 'No Probability': '0.1610058040914032', 'Prediction Result': 0, 'Ground Truth': 1}\n",
            "{'ID': 675, 'Yes Probability': '0.0005804052276741503', 'No Probability': '0.08041324265953985', 'Prediction Result': 0, 'Ground Truth': 1}\n",
            "{'ID': 882, 'Yes Probability': '2.2534795875707844e-05', 'No Probability': '0.12160457027429805', 'Prediction Result': 0, 'Ground Truth': 1}\n",
            "{'ID': 814, 'Yes Probability': '0.2993636682378506', 'No Probability': '0.018028781475336132', 'Prediction Result': 1, 'Ground Truth': 0}\n",
            "{'ID': 127, 'Yes Probability': '2.761242049616234e-07', 'No Probability': '0.033639122197663164', 'Prediction Result': 0, 'Ground Truth': 1}\n",
            "{'ID': 914, 'Yes Probability': '0.01776443369775822', 'No Probability': '0.005361043433704567', 'Prediction Result': 1, 'Ground Truth': 0}\n",
            "{'ID': 116, 'Yes Probability': '0.0015219277480194087', 'No Probability': '0.1557270013121586', 'Prediction Result': 0, 'Ground Truth': 1}\n",
            "{'ID': 672, 'Yes Probability': '0.0015270400057312875', 'No Probability': '0.08074215153902944', 'Prediction Result': 0, 'Ground Truth': 1}\n",
            "{'ID': 351, 'Yes Probability': '0.00033593917164334575', 'No Probability': '0.004497161262694976', 'Prediction Result': 0, 'Ground Truth': 1}\n",
            "{'ID': 196, 'Yes Probability': '0.2141220460308607', 'No Probability': '0.0007614543056326734', 'Prediction Result': 1, 'Ground Truth': 0}\n",
            "{'ID': 57, 'Yes Probability': '0.1845608331590427', 'No Probability': '0.017992023242964363', 'Prediction Result': 1, 'Ground Truth': 0}\n",
            "{'ID': 832, 'Yes Probability': '0.02624074824575063', 'No Probability': '0.025286356385090712', 'Prediction Result': 1, 'Ground Truth': 0}\n",
            "{'ID': 310, 'Yes Probability': '0.3681864080800624', 'No Probability': '0.03881819915863473', 'Prediction Result': 1, 'Ground Truth': 0}\n",
            "{'ID': 331, 'Yes Probability': '4.6782048959146206e-05', 'No Probability': '0.09026968694617184', 'Prediction Result': 0, 'Ground Truth': 1}\n",
            "{'ID': 68, 'Yes Probability': '0.29773256403855547', 'No Probability': '0.05042285924663948', 'Prediction Result': 1, 'Ground Truth': 0}\n",
            "{'ID': 332, 'Yes Probability': '3.1411790686819123e-06', 'No Probability': '0.07950843557694554', 'Prediction Result': 0, 'Ground Truth': 1}\n",
            "{'ID': 798, 'Yes Probability': '0.4191039523709417', 'No Probability': '0.003183906145711624', 'Prediction Result': 1, 'Ground Truth': 0}\n",
            "{'ID': 112, 'Yes Probability': '0.13166299844142612', 'No Probability': '0.0006411064348650344', 'Prediction Result': 1, 'Ground Truth': 0}\n",
            "{'ID': 643, 'Yes Probability': '5.989554005950949e-16', 'No Probability': '0.0008153645838495031', 'Prediction Result': 0, 'Ground Truth': 1}\n",
            "{'ID': 650, 'Yes Probability': '4.401205363030068e-10', 'No Probability': '0.018679885975623273', 'Prediction Result': 0, 'Ground Truth': 1}\n",
            "{'ID': 992, 'Yes Probability': '0.22639670866125003', 'No Probability': '0.032682981876102905', 'Prediction Result': 1, 'Ground Truth': 0}\n",
            "{'ID': 333, 'Yes Probability': '0.036937851720985376', 'No Probability': '0.0015966842559113775', 'Prediction Result': 1, 'Ground Truth': 0}\n",
            "{'ID': 469, 'Yes Probability': '0.005036490296372043', 'No Probability': '9.852097025343905e-06', 'Prediction Result': 1, 'Ground Truth': 0}\n",
            "{'ID': 223, 'Yes Probability': '0.4191039523709417', 'No Probability': '0.003183906145711624', 'Prediction Result': 1, 'Ground Truth': 0}\n",
            "{'ID': 665, 'Yes Probability': '0.5146424360210053', 'No Probability': '0.007331946999826844', 'Prediction Result': 1, 'Ground Truth': 0}\n",
            "{'ID': 931, 'Yes Probability': '0.004385306077747119', 'No Probability': '0.06531170743289352', 'Prediction Result': 0, 'Ground Truth': 1}\n",
            "{'ID': 938, 'Yes Probability': '0.030595136171714415', 'No Probability': '0.10965250085631548', 'Prediction Result': 0, 'Ground Truth': 1}\n",
            "{'ID': 93, 'Yes Probability': '5.1020310699556526e-05', 'No Probability': '0.03402193586763213', 'Prediction Result': 0, 'Ground Truth': 1}\n",
            "{'ID': 468, 'Yes Probability': '0.19509601608025584', 'No Probability': '0.006160546428026919', 'Prediction Result': 1, 'Ground Truth': 0}\n",
            "{'ID': 180, 'Yes Probability': '0.13166299844142612', 'No Probability': '0.0006411064348650344', 'Prediction Result': 1, 'Ground Truth': 0}\n",
            "{'ID': 67, 'Yes Probability': '0.2577057526335137', 'No Probability': '0.0026806897051111305', 'Prediction Result': 1, 'Ground Truth': 0}\n",
            "{'ID': 597, 'Yes Probability': '1.4235695525269539e-08', 'No Probability': '0.03109918207908922', 'Prediction Result': 0, 'Ground Truth': 1}\n",
            "{'ID': 953, 'Yes Probability': '0.010653759643387528', 'No Probability': '0.13555883299898502', 'Prediction Result': 0, 'Ground Truth': 0}\n",
            "{'ID': 638, 'Yes Probability': '0.1395759392612304', 'No Probability': '0.0326163457230136', 'Prediction Result': 1, 'Ground Truth': 0}\n",
            "{'ID': 51, 'Yes Probability': '0.2141220460308607', 'No Probability': '0.0007614543056326734', 'Prediction Result': 1, 'Ground Truth': 0}\n",
            "{'ID': 290, 'Yes Probability': '0.28114657074884974', 'No Probability': '0.0012564340371131464', 'Prediction Result': 1, 'Ground Truth': 0}\n",
            "{'ID': 764, 'Yes Probability': '0.000530798102902397', 'No Probability': '0.18000441225327224', 'Prediction Result': 0, 'Ground Truth': 1}\n",
            "{'ID': 615, 'Yes Probability': '9.376956844370235e-05', 'No Probability': '0.15919417223746238', 'Prediction Result': 0, 'Ground Truth': 1}\n",
            "{'ID': 533, 'Yes Probability': '1.2173340530833733e-08', 'No Probability': '0.011338237529097777', 'Prediction Result': 0, 'Ground Truth': 1}\n",
            "{'ID': 445, 'Yes Probability': '0.31645207725111796', 'No Probability': '0.006173132605472362', 'Prediction Result': 1, 'Ground Truth': 0}\n",
            "{'ID': 305, 'Yes Probability': '0.3681864080800624', 'No Probability': '0.03881819915863473', 'Prediction Result': 1, 'Ground Truth': 0}\n",
            "{'ID': 528, 'Yes Probability': '0.0015219277480194087', 'No Probability': '0.1557270013121586', 'Prediction Result': 0, 'Ground Truth': 1}\n",
            "{'ID': 919, 'Yes Probability': '0.32607908714954364', 'No Probability': '0.009037526251823722', 'Prediction Result': 1, 'Ground Truth': 0}\n",
            "{'ID': 317, 'Yes Probability': '0.004969880126605622', 'No Probability': '0.1808794829725278', 'Prediction Result': 0, 'Ground Truth': 0}\n",
            "{'ID': 307, 'Yes Probability': '5.7658624007716595e-05', 'No Probability': '0.13403352960181938', 'Prediction Result': 0, 'Ground Truth': 1}\n",
            "{'ID': 165, 'Yes Probability': '0.029722864771284205', 'No Probability': '0.0949493433352272', 'Prediction Result': 0, 'Ground Truth': 1}\n",
            "{'ID': 352, 'Yes Probability': '0.1845608331590427', 'No Probability': '0.017992023242964363', 'Prediction Result': 1, 'Ground Truth': 0}\n",
            "{'ID': 253, 'Yes Probability': '8.291296693942888e-05', 'No Probability': '0.09237696185574903', 'Prediction Result': 0, 'Ground Truth': 1}\n",
            "{'ID': 649, 'Yes Probability': '0.5146424360210053', 'No Probability': '0.007331946999826844', 'Prediction Result': 1, 'Ground Truth': 0}\n",
            "{'ID': 676, 'Yes Probability': '9.376956844370235e-05', 'No Probability': '0.15919417223746238', 'Prediction Result': 0, 'Ground Truth': 1}\n",
            "{'ID': 72, 'Yes Probability': '0.000530798102902397', 'No Probability': '0.18000441225327224', 'Prediction Result': 0, 'Ground Truth': 1}\n",
            "{'ID': 232, 'Yes Probability': '0.22639670866125003', 'No Probability': '0.032682981876102905', 'Prediction Result': 1, 'Ground Truth': 0}\n",
            "{'ID': 609, 'Yes Probability': '0.1728761759589343', 'No Probability': '0.0010578546082386587', 'Prediction Result': 1, 'Ground Truth': 0}\n",
            "{'ID': 823, 'Yes Probability': '0.28114657074884974', 'No Probability': '0.0012564340371131464', 'Prediction Result': 1, 'Ground Truth': 0}\n",
            "{'ID': 85, 'Yes Probability': '0.00020122047458789158', 'No Probability': '0.15124571126362074', 'Prediction Result': 0, 'Ground Truth': 1}\n",
            "{'ID': 215, 'Yes Probability': '0.31645207725111796', 'No Probability': '0.006173132605472362', 'Prediction Result': 1, 'Ground Truth': 0}\n",
            "{'ID': 991, 'Yes Probability': '0.22639670866125003', 'No Probability': '0.032682981876102905', 'Prediction Result': 1, 'Ground Truth': 0}\n",
            "{'ID': 824, 'Yes Probability': '0.4868517496121673', 'No Probability': '0.02141312664034532', 'Prediction Result': 1, 'Ground Truth': 0}\n",
            "{'ID': 629, 'Yes Probability': '0.22639670866125003', 'No Probability': '0.032682981876102905', 'Prediction Result': 1, 'Ground Truth': 0}\n",
            "{'ID': 22, 'Yes Probability': '0.04821145243097999', 'No Probability': '0.09514332763475439', 'Prediction Result': 0, 'Ground Truth': 1}\n",
            "{'ID': 471, 'Yes Probability': '4.6782048959146206e-05', 'No Probability': '0.09026968694617184', 'Prediction Result': 0, 'Ground Truth': 1}\n",
            "{'ID': 710, 'Yes Probability': '0.18307485306450091', 'No Probability': '0.042453525166497356', 'Prediction Result': 1, 'Ground Truth': 1}\n",
            "{'ID': 759, 'Yes Probability': '1.1955409320556932e-05', 'No Probability': '0.03381426156910068', 'Prediction Result': 0, 'Ground Truth': 1}\n",
            "{'ID': 82, 'Yes Probability': '0.3681864080800624', 'No Probability': '0.03881819915863473', 'Prediction Result': 1, 'Ground Truth': 0}\n",
            "{'ID': 54, 'Yes Probability': '3.554714487668974e-05', 'No Probability': '0.1337602534720126', 'Prediction Result': 0, 'Ground Truth': 1}\n",
            "{'ID': 732, 'Yes Probability': '0.29773256403855547', 'No Probability': '0.05042285924663948', 'Prediction Result': 1, 'Ground Truth': 0}\n",
            "{'ID': 601, 'Yes Probability': '9.376956844370235e-05', 'No Probability': '0.15919417223746238', 'Prediction Result': 0, 'Ground Truth': 1}\n",
            "{'ID': 134, 'Yes Probability': '0.5146424360210053', 'No Probability': '0.007331946999826844', 'Prediction Result': 1, 'Ground Truth': 0}\n",
            "{'ID': 921, 'Yes Probability': '0.1395759392612304', 'No Probability': '0.0326163457230136', 'Prediction Result': 1, 'Ground Truth': 0}\n",
            "{'ID': 76, 'Yes Probability': '0.2141220460308607', 'No Probability': '0.0007614543056326734', 'Prediction Result': 1, 'Ground Truth': 0}\n",
            "{'ID': 292, 'Yes Probability': '0.0009382843777794578', 'No Probability': '0.15540949514522093', 'Prediction Result': 0, 'Ground Truth': 1}\n",
            "{'ID': 806, 'Yes Probability': '0.10739021859551177', 'No Probability': '0.000260304110238968', 'Prediction Result': 1, 'Ground Truth': 0}\n",
            "{'ID': 129, 'Yes Probability': '0.28114657074884974', 'No Probability': '0.0012564340371131464', 'Prediction Result': 1, 'Ground Truth': 0}\n",
            "{'ID': 220, 'Yes Probability': '0.0005804052276741503', 'No Probability': '0.08041324265953985', 'Prediction Result': 0, 'Ground Truth': 1}\n",
            "{'ID': 150, 'Yes Probability': '0.049756524104946', 'No Probability': '0.13023636070352226', 'Prediction Result': 0, 'Ground Truth': 1}\n",
            "{'ID': 776, 'Yes Probability': '0.01732608887665586', 'No Probability': '0.1610058040914032', 'Prediction Result': 0, 'Ground Truth': 1}\n",
            "{'ID': 966, 'Yes Probability': '8.264408854938816e-06', 'No Probability': '0.07983364358486414', 'Prediction Result': 0, 'Ground Truth': 1}\n",
            "{'ID': 625, 'Yes Probability': '0.1845608331590427', 'No Probability': '0.017992023242964363', 'Prediction Result': 1, 'Ground Truth': 0}\n",
            "{'ID': 746, 'Yes Probability': '0.28114657074884974', 'No Probability': '0.0012564340371131464', 'Prediction Result': 1, 'Ground Truth': 0}\n",
            "{'ID': 648, 'Yes Probability': '0.4191039523709417', 'No Probability': '0.003183906145711624', 'Prediction Result': 1, 'Ground Truth': 0}\n",
            "{'ID': 662, 'Yes Probability': '0.00016648560600899577', 'No Probability': '0.09033901503417051', 'Prediction Result': 0, 'Ground Truth': 1}\n",
            "{'ID': 158, 'Yes Probability': '0.003055964257267752', 'No Probability': '0.15229147646935587', 'Prediction Result': 0, 'Ground Truth': 1}\n",
            "{'ID': 901, 'Yes Probability': '0.5302987333939329', 'No Probability': '0.0107340418103403', 'Prediction Result': 1, 'Ground Truth': 0}\n",
            "{'ID': 459, 'Yes Probability': '0.28114657074884974', 'No Probability': '0.0012564340371131464', 'Prediction Result': 1, 'Ground Truth': 0}\n",
            "{'ID': 532, 'Yes Probability': '0.010653759643387528', 'No Probability': '0.13555883299898502', 'Prediction Result': 0, 'Ground Truth': 1}\n",
            "{'ID': 209, 'Yes Probability': '8.404883164036143e-10', 'No Probability': '0.009097582622450659', 'Prediction Result': 0, 'Ground Truth': 1}\n",
            "{'ID': 912, 'Yes Probability': '0.0024750938925489525', 'No Probability': '0.18495992116717935', 'Prediction Result': 0, 'Ground Truth': 1}\n",
            "{'ID': 372, 'Yes Probability': '0.5146424360210053', 'No Probability': '0.007331946999826844', 'Prediction Result': 1, 'Ground Truth': 0}\n",
            "{'ID': 359, 'Yes Probability': '0.0443672938390631', 'No Probability': '8.086427556669676e-05', 'Prediction Result': 1, 'Ground Truth': 0}\n",
            "{'ID': 990, 'Yes Probability': '0.5302987333939329', 'No Probability': '0.0107340418103403', 'Prediction Result': 1, 'Ground Truth': 0}\n",
            "{'ID': 218, 'Yes Probability': '0.049756524104946', 'No Probability': '0.13023636070352226', 'Prediction Result': 0, 'Ground Truth': 0}\n",
            "{'ID': 52, 'Yes Probability': '0.001884033933528209', 'No Probability': '0.15198097487012363', 'Prediction Result': 0, 'Ground Truth': 1}\n",
            "{'ID': 195, 'Yes Probability': '0.32607908714954364', 'No Probability': '0.009037526251823722', 'Prediction Result': 1, 'Ground Truth': 0}\n",
            "{'ID': 624, 'Yes Probability': '1.646600047478028e-08', 'No Probability': '0.01130072283042181', 'Prediction Result': 0, 'Ground Truth': 1}\n",
            "{'ID': 121, 'Yes Probability': '0.1395759392612304', 'No Probability': '0.0326163457230136', 'Prediction Result': 1, 'Ground Truth': 0}\n",
            "{'ID': 634, 'Yes Probability': '0.049756524104946', 'No Probability': '0.13023636070352226', 'Prediction Result': 0, 'Ground Truth': 1}\n",
            "{'ID': 466, 'Yes Probability': '0.22639670866125003', 'No Probability': '0.032682981876102905', 'Prediction Result': 1, 'Ground Truth': 0}\n",
            "{'ID': 496, 'Yes Probability': '0.010653759643387528', 'No Probability': '0.13555883299898502', 'Prediction Result': 0, 'Ground Truth': 1}\n",
            "{'ID': 302, 'Yes Probability': '8.264408854938816e-06', 'No Probability': '0.07983364358486414', 'Prediction Result': 0, 'Ground Truth': 1}\n",
            "{'ID': 507, 'Yes Probability': '0.31645207725111796', 'No Probability': '0.006173132605472362', 'Prediction Result': 1, 'Ground Truth': 0}\n",
            "{'ID': 386, 'Yes Probability': '0.5146424360210053', 'No Probability': '0.007331946999826844', 'Prediction Result': 1, 'Ground Truth': 0}\n",
            "{'ID': 647, 'Yes Probability': '0.4868517496121673', 'No Probability': '0.02141312664034532', 'Prediction Result': 1, 'Ground Truth': 0}\n",
            "{'ID': 275, 'Yes Probability': '0.006910313266003859', 'No Probability': '0.056669689520493186', 'Prediction Result': 0, 'Ground Truth': 1}\n",
            "{'ID': 687, 'Yes Probability': '0.16834090677966107', 'No Probability': '0.07918456047757837', 'Prediction Result': 1, 'Ground Truth': 0}\n",
            "{'ID': 558, 'Yes Probability': '0.2993636682378506', 'No Probability': '0.018028781475336132', 'Prediction Result': 1, 'Ground Truth': 0}\n",
            "{'ID': 559, 'Yes Probability': '0.15887829239896326', 'No Probability': '0.002675224143546036', 'Prediction Result': 1, 'Ground Truth': 0}\n",
            "{'ID': 616, 'Yes Probability': '0.2141220460308607', 'No Probability': '0.0007614543056326734', 'Prediction Result': 1, 'Ground Truth': 0}\n",
            "{'ID': 620, 'Yes Probability': '7.0089519476809144e-09', 'No Probability': '0.0010518020887661152', 'Prediction Result': 0, 'Ground Truth': 1}\n",
            "{'ID': 360, 'Yes Probability': '0.2141220460308607', 'No Probability': '0.0007614543056326734', 'Prediction Result': 1, 'Ground Truth': 0}\n",
            "{'ID': 720, 'Yes Probability': '0.049756524104946', 'No Probability': '0.13023636070352226', 'Prediction Result': 0, 'Ground Truth': 0}\n",
            "{'ID': 908, 'Yes Probability': '0.5302987333939329', 'No Probability': '0.0107340418103403', 'Prediction Result': 1, 'Ground Truth': 0}\n",
            "{'ID': 308, 'Yes Probability': '0.3681864080800624', 'No Probability': '0.03881819915863473', 'Prediction Result': 1, 'Ground Truth': 0}\n",
            "{'ID': 282, 'Yes Probability': '0.1395759392612304', 'No Probability': '0.0326163457230136', 'Prediction Result': 1, 'Ground Truth': 0}\n",
            "{'ID': 92, 'Yes Probability': '0.2993636682378506', 'No Probability': '0.018028781475336132', 'Prediction Result': 1, 'Ground Truth': 1}\n",
            "{'ID': 948, 'Yes Probability': '0.06381642468113359', 'No Probability': '0.0665335089324224', 'Prediction Result': 0, 'Ground Truth': 1}\n",
            "{'ID': 379, 'Yes Probability': '3.554714487668974e-05', 'No Probability': '0.1337602534720126', 'Prediction Result': 0, 'Ground Truth': 1}\n",
            "{'ID': 758, 'Yes Probability': '0.4868517496121673', 'No Probability': '0.02141312664034532', 'Prediction Result': 1, 'Ground Truth': 0}\n",
            "{'ID': 591, 'Yes Probability': '2.1189675399978042e-10', 'No Probability': '0.014640548623893943', 'Prediction Result': 0, 'Ground Truth': 1}\n",
            "{'ID': 9, 'Yes Probability': '0.29773256403855547', 'No Probability': '0.05042285924663948', 'Prediction Result': 1, 'Ground Truth': 0}\n",
            "{'ID': 409, 'Yes Probability': '0.22639670866125003', 'No Probability': '0.032682981876102905', 'Prediction Result': 1, 'Ground Truth': 0}\n",
            "{'ID': 722, 'Yes Probability': '0.5302987333939329', 'No Probability': '0.0107340418103403', 'Prediction Result': 1, 'Ground Truth': 0}\n",
            "{'ID': 454, 'Yes Probability': '0.4191039523709417', 'No Probability': '0.003183906145711624', 'Prediction Result': 1, 'Ground Truth': 0}\n",
            "{'ID': 725, 'Yes Probability': '0.0015219277480194087', 'No Probability': '0.1557270013121586', 'Prediction Result': 0, 'Ground Truth': 1}\n",
            "{'ID': 353, 'Yes Probability': '0.18307485306450091', 'No Probability': '0.042453525166497356', 'Prediction Result': 1, 'Ground Truth': 0}\n",
            "{'ID': 668, 'Yes Probability': '1.1397938848646947e-07', 'No Probability': '0.011393357065032916', 'Prediction Result': 0, 'Ground Truth': 1}\n",
            "{'ID': 865, 'Yes Probability': '0.5302987333939329', 'No Probability': '0.0107340418103403', 'Prediction Result': 1, 'Ground Truth': 0}\n",
            "{'ID': 489, 'Yes Probability': '6.470321031695049e-08', 'No Probability': '0.033433784643304314', 'Prediction Result': 0, 'Ground Truth': 1}\n",
            "{'ID': 909, 'Yes Probability': '0.4191039523709417', 'No Probability': '0.003183906145711624', 'Prediction Result': 1, 'Ground Truth': 0}\n",
            "{'ID': 495, 'Yes Probability': '0.006910313266003859', 'No Probability': '0.056669689520493186', 'Prediction Result': 0, 'Ground Truth': 1}\n",
            "{'ID': 512, 'Yes Probability': '1.6214625119860928e-07', 'No Probability': '0.055265157111030264', 'Prediction Result': 0, 'Ground Truth': 1}\n",
            "{'ID': 641, 'Yes Probability': '3.6648083796610376e-05', 'No Probability': '0.14443206086282478', 'Prediction Result': 0, 'Ground Truth': 1}\n",
            "{'ID': 606, 'Yes Probability': '0.014836775978909792', 'No Probability': '0.039709945971900855', 'Prediction Result': 0, 'Ground Truth': 1}\n",
            "\n",
            "TP : 4 FN : 98\n",
            "TN : 9 FN : 88\n",
            "Accuracy : 6.532663316582915%\n",
            "Precission : 3.9215686274509802%\n",
            "Recall : 4.3478260869565215%\n"
          ]
        }
      ],
      "source": [
        "result = []\n",
        "\n",
        "target = testData\n",
        "\n",
        " \n",
        "\n",
        "result = doPrediction(yesMean, yesStd, noMean, noStd, target, columnTarget=['Enggine','Compressor'], truthColumn='Broken')\n",
        "\n",
        " \n",
        "\n",
        "for p in result:\n",
        "\n",
        "    print(p)\n",
        "\n",
        " \n",
        "\n",
        "confussionMatrix(result)"
      ]
    }
  ],
  "metadata": {
    "colab": {
      "provenance": []
    },
    "kernelspec": {
      "display_name": "Python 3",
      "language": "python",
      "name": "python3"
    },
    "language_info": {
      "codemirror_mode": {
        "name": "ipython",
        "version": 3
      },
      "file_extension": ".py",
      "mimetype": "text/x-python",
      "name": "python",
      "nbconvert_exporter": "python",
      "pygments_lexer": "ipython3",
      "version": "3.10.6"
    },
    "orig_nbformat": 4
  },
  "nbformat": 4,
  "nbformat_minor": 0
}
